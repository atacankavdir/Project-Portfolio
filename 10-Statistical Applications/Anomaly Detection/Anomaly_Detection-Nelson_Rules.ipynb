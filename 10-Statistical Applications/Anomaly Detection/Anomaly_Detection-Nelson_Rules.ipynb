{
 "cells": [
  {
   "cell_type": "code",
   "execution_count": 1,
   "metadata": {},
   "outputs": [],
   "source": [
    "import pandas as pd \n",
    "import numpy as np\n",
    "import statistics as st"
   ]
  },
  {
   "cell_type": "code",
   "execution_count": 2,
   "metadata": {},
   "outputs": [],
   "source": [
    "full_data = pd.read_excel('HW1_Question2_dataset.xlsx')"
   ]
  },
  {
   "cell_type": "code",
   "execution_count": 3,
   "metadata": {},
   "outputs": [],
   "source": [
    "### AVERAGE WEEKLY EXPENDITURES\n",
    "full_data_pivot = full_data.groupby(by = 'week').mean()['amount']"
   ]
  },
  {
   "cell_type": "code",
   "execution_count": 24,
   "metadata": {},
   "outputs": [],
   "source": [
    "train_data = full_data_pivot[:52]\n",
    "test_data = full_data_pivot[52:]\n",
    "\n",
    "population_mean = train_data.mean()\n",
    "population_std = st.pstdev(train_data)"
   ]
  },
  {
   "cell_type": "code",
   "execution_count": 6,
   "metadata": {},
   "outputs": [],
   "source": [
    "def rule1(data, pop_mean, pop_std):\n",
    "    '''\n",
    "    Function returns a list of flags if a value of a row in input data is more than 3 standard\n",
    "    deviations from the mean\n",
    "    '''\n",
    "    UCL = pop_mean+3*pop_std\n",
    "    LCL = pop_mean-3*pop_std\n",
    "    rule1_flaglist = []\n",
    "    for week_mean in data:\n",
    "        if (week_mean > UCL) | (week_mean < LCL):\n",
    "            rule1_flaglist.append(1)\n",
    "        else:\n",
    "            rule1_flaglist.append(0)\n",
    "    return rule1_flaglist"
   ]
  },
  {
   "cell_type": "code",
   "execution_count": 7,
   "metadata": {},
   "outputs": [],
   "source": [
    "def rule2(data, pop_mean):\n",
    "    '''\n",
    "    Function returns a list of flags if a value of a row in input data is Nine (or more) points in a row are on the\n",
    "    same side of the mean \n",
    "    '''\n",
    "    rule2_flaglist = []\n",
    "    for i in range(len(data)):\n",
    "        if  (~data[i-8:i+1].empty) & ((all(data[i-8:i+1] > pop_mean)) | (all(data[i-8:i+1] < pop_mean))):\n",
    "            rule2_flaglist.append(1)\n",
    "        else: \n",
    "            rule2_flaglist.append(0)\n",
    "    return rule2_flaglist"
   ]
  },
  {
   "cell_type": "code",
   "execution_count": 8,
   "metadata": {},
   "outputs": [],
   "source": [
    "def rule3(data):\n",
    "    '''\n",
    "    Function returns a list of flags if a value of a row in input data is Six (or more) points in a row are\n",
    "    continually increasing (or decreasing)\n",
    "    '''\n",
    "    rule3_flaglist = []\n",
    "    for i in range(len(data)):\n",
    "        if  (~data[i-5:i+1].empty) & ((data[i-5:i+1].is_monotonic_increasing) | (data[i-5:i+1].is_monotonic_decreasing)) & (data[i-5:i+1].is_unique):\n",
    "            rule3_flaglist.append(1)\n",
    "        else: \n",
    "            rule3_flaglist.append(0)\n",
    "    return rule3_flaglist"
   ]
  },
  {
   "cell_type": "code",
   "execution_count": 9,
   "metadata": {},
   "outputs": [],
   "source": [
    "def rule4(data):\n",
    "    '''\n",
    "    Function returns a list of flags if a value of a row in input data is Fourteen (or more) points in a row\n",
    "    alternate in direction, increasing then decreasing\n",
    "    '''\n",
    "    rule4_flaglist = []\n",
    "    for i in range(len(data)):\n",
    "        \n",
    "        array = data[i-13:i+1]\n",
    "        row_differences = np.diff(array)\n",
    "        even = row_differences[::2]\n",
    "        odd = row_differences[1::2]\n",
    "        \n",
    "        if (array.empty):\n",
    "            rule4_flaglist.append(0)\n",
    "        elif (row_differences[0] > 0):\n",
    "            if all(even > 0) & all(odd < 0):\n",
    "                rule4_flaglist.append(1)\n",
    "            else: \n",
    "                rule4_flaglist.append(0)\n",
    "        elif (row_differences[0] < 0):\n",
    "            if all(even < 0) & all(odd > 0):\n",
    "                rule4_flaglist.append(1)\n",
    "            else: \n",
    "                rule4_flaglist.append(0)\n",
    "        else:\n",
    "            rule4_flaglist.append(0)\n",
    "    return rule4_flaglist"
   ]
  },
  {
   "cell_type": "code",
   "execution_count": 10,
   "metadata": {},
   "outputs": [],
   "source": [
    "def rule5(data, pop_mean, pop_std):\n",
    "    '''\n",
    "    Function returns a list of flags if a value of a row in input data is two (or three) out of three points in a row\n",
    "    are more than 2 standard deviations from the mean in the same direction\n",
    "    '''\n",
    "    UCL_2std = pop_mean + 2*pop_std\n",
    "    LCL_2std = pop_mean - 2*pop_std\n",
    "    rule5_flaglist = []\n",
    "    for i in range(len(data)):\n",
    "        array = data[i-2:i+1]\n",
    "        if  (~array.empty) & (all(array  > UCL_2std) | all(array  < LCL_2std) | all((array > UCL_2std)[:2]) | all((array > UCL_2std)[1:3]) | all((array < LCL_2std)[:2]) | all((array < LCL_2std)[1:3])):\n",
    "            rule5_flaglist.append(1)\n",
    "        else: \n",
    "            rule5_flaglist.append(0)\n",
    "    return rule5_flaglist"
   ]
  },
  {
   "cell_type": "code",
   "execution_count": 11,
   "metadata": {},
   "outputs": [],
   "source": [
    "def rule6(data, pop_mean, pop_std):\n",
    "    '''\n",
    "    Function returns a list of flags if a value of a row in input data is Four (or five) out of five points in a row\n",
    "    are more than 1 standard deviation from the mean in the same direction\n",
    "    '''\n",
    "    UCL_std = pop_mean + pop_std\n",
    "    LCL_std = pop_mean - pop_std\n",
    "    rule6_flaglist = []\n",
    "    for i in range(len(data)):\n",
    "        array = data[i-4:i+1]\n",
    "        if  (~array.empty) & (all(array  > UCL_std) | all(array  < LCL_std) | all((array > UCL_std)[:4]) | all((array > UCL_std)[1:5]) | all((array < LCL_std)[:2]) | all((array < LCL_std)[1:3])):\n",
    "            rule6_flaglist.append(1)\n",
    "        else: \n",
    "            rule6_flaglist.append(0)\n",
    "    return rule6_flaglist"
   ]
  },
  {
   "cell_type": "code",
   "execution_count": 12,
   "metadata": {},
   "outputs": [],
   "source": [
    "def rule7(data, pop_mean, pop_std):\n",
    "    '''\n",
    "    Function returns a list of flags if a value of a row in input data is Fifteen points in a row are all within 1\n",
    "    standard deviation of the mean on either side of the mean\n",
    "    '''\n",
    "    UCL_1std = pop_mean + pop_std\n",
    "    LCL_1std = pop_mean - pop_std\n",
    "    rule7_flaglist = []\n",
    "    for i in range(len(data)):\n",
    "        array = data[i-14:i+1]\n",
    "        if  (~array.empty) & ((all(array > LCL_1std)) | (all(array < UCL_1std))):\n",
    "            rule7_flaglist.append(1)\n",
    "        else: \n",
    "            rule7_flaglist.append(0)\n",
    "    return rule7_flaglist"
   ]
  },
  {
   "cell_type": "code",
   "execution_count": 13,
   "metadata": {},
   "outputs": [],
   "source": [
    "def rule8(data, pop_mean, pop_std):\n",
    "    '''\n",
    "    Function returns a list of flags if a value of a row in input data is Fifteen points in a row are all within 1\n",
    "    standard deviation of the mean on either side of the mean\n",
    "    '''\n",
    "    UCL_1std = pop_mean + pop_std\n",
    "    LCL_1std = pop_mean - pop_std\n",
    "    rule7_flaglist = []\n",
    "    for i in range(len(data)):\n",
    "        array = data[i-14:i+1]\n",
    "        if  (~array.empty) & (all((array < LCL_1std) | (array > UCL_1std))) & any(array > pop_mean) & any(array < pop_mean)   :\n",
    "            rule7_flaglist.append(1)\n",
    "        else: \n",
    "            rule7_flaglist.append(0)\n",
    "    return rule7_flaglist"
   ]
  },
  {
   "cell_type": "code",
   "execution_count": 25,
   "metadata": {},
   "outputs": [],
   "source": [
    "r1 = rule1(test_data, population_mean, population_std)\n",
    "r2 = rule2(test_data, population_mean)\n",
    "r3 = rule3(test_data)\n",
    "r4 = rule4(test_data)\n",
    "r5 = rule5(test_data, population_mean, population_std)\n",
    "r6 = rule6(test_data, population_mean, population_std)\n",
    "r7 = rule7(test_data, population_mean, population_std)\n",
    "r8 = rule8(test_data, population_mean, population_std)\n",
    "\n",
    "\n",
    "Anomaly_Records = pd.DataFrame({'Week': test_data.index, \n",
    "                                 'Rule1' : r1,'Rule2' : r2,\n",
    "                                 'Rule3' : r3,'Rule4' : r4,\n",
    "                                 'Rule5' : r5,'Rule6' : r6,\n",
    "                                 'Rule7' : r7,'Rule8' : r8})\n",
    "\n",
    "Anomaly_Records.set_index('Week', inplace = True)\n",
    "Anomaly_Records.to_csv('Alarm_Rule_Set.csv')"
   ]
  },
  {
   "cell_type": "markdown",
   "metadata": {},
   "source": [
    "### Train and Test Data"
   ]
  },
  {
   "cell_type": "code",
   "execution_count": 26,
   "metadata": {},
   "outputs": [
    {
     "data": {
      "text/plain": [
       "<matplotlib.axes._subplots.AxesSubplot at 0x1d086881f88>"
      ]
     },
     "execution_count": 26,
     "metadata": {},
     "output_type": "execute_result"
    },
    {
     "data": {
      "image/png": "[encoded data removed]",
      "text/plain": [
       "<Figure size 432x288 with 1 Axes>"
      ]
     },
     "metadata": {
      "needs_background": "light"
     },
     "output_type": "display_data"
    }
   ],
   "source": [
    "train_data.plot()\n",
    "test_data.plot()"
   ]
  },
  {
   "cell_type": "markdown",
   "metadata": {},
   "source": [
    "## Anomaly Distribution"
   ]
  },
  {
   "cell_type": "code",
   "execution_count": 21,
   "metadata": {},
   "outputs": [
    {
     "data": {
      "text/plain": [
       "<matplotlib.axes._subplots.AxesSubplot at 0x1d086714148>"
      ]
     },
     "execution_count": 21,
     "metadata": {},
     "output_type": "execute_result"
    },
    {
     "data": {
      "image/png": "[encoded data removed]",
      "text/plain": [
       "<Figure size 432x288 with 1 Axes>"
      ]
     },
     "metadata": {
      "needs_background": "light"
     },
     "output_type": "display_data"
    }
   ],
   "source": [
    "Anomaly_Records.sum().plot(kind= 'bar')"
   ]
  },
  {
   "cell_type": "code",
   "execution_count": null,
   "metadata": {},
   "outputs": [],
   "source": []
  }
 ],
 "metadata": {
  "kernelspec": {
   "display_name": "Python 3",
   "language": "python",
   "name": "python3"
  },
  "language_info": {
   "codemirror_mode": {
    "name": "ipython",
    "version": 3
   },
   "file_extension": ".py",
   "mimetype": "text/x-python",
   "name": "python",
   "nbconvert_exporter": "python",
   "pygments_lexer": "ipython3",
   "version": "3.7.6"
  }
 },
 "nbformat": 4,
 "nbformat_minor": 2
}
