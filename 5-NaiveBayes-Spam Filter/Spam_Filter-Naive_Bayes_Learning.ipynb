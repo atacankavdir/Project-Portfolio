{
 "cells": [
  {
   "cell_type": "markdown",
   "metadata": {},
   "source": [
    "# IMPORT"
   ]
  },
  {
   "cell_type": "code",
   "execution_count": 1,
   "metadata": {},
   "outputs": [
    {
     "data": {
      "text/html": [
       "<style>.container { width:90% !important; }</style>"
      ],
      "text/plain": [
       "<IPython.core.display.HTML object>"
      ]
     },
     "metadata": {},
     "output_type": "display_data"
    }
   ],
   "source": [
    "import os, sys\n",
    "import numpy as np\n",
    "import pandas as pd\n",
    "import datetime as dt\n",
    "import random\n",
    "\n",
    "#Optional, ekran genişlesin diye\n",
    "from IPython.core.display import display, HTML\n",
    "display(HTML(\"<style>.container { width:90% !important; }</style>\"))\n",
    "\n",
    "#Optional, pandas display ayarları\n",
    "pd.set_option('display.max_rows', None)\n",
    "pd.set_option('display.max_columns', None)"
   ]
  },
  {
   "cell_type": "code",
   "execution_count": 2,
   "metadata": {},
   "outputs": [],
   "source": [
    "%%capture\n",
    "from tqdm import tqdm_notebook as tqdm\n",
    "tqdm().pandas()"
   ]
  },
  {
   "cell_type": "markdown",
   "metadata": {},
   "source": [
    "###  Definitions - Train"
   ]
  },
  {
   "cell_type": "code",
   "execution_count": 3,
   "metadata": {},
   "outputs": [],
   "source": [
    "def read_and_write_directory(Enronx = '1'):\n",
    "    \"\"\"\n",
    "    Sets paths and creates a list of bugs for each directory\n",
    "    Enronx indicates the main dataset type number\n",
    "    \"\"\"\n",
    "\n",
    "    path = ['./enron'+Enronx+'/ham', \n",
    "            './enron'+Enronx+'/spam']\n",
    "\n",
    "    list_of_bugs = [os.listdir(directory) for directory in path]\n",
    "    return list_of_bugs"
   ]
  },
  {
   "cell_type": "code",
   "execution_count": 4,
   "metadata": {},
   "outputs": [],
   "source": [
    "#Takes a list of directory lists and returns train and test samples\n",
    "def shuffle_and_create_samples(list_of_bugs):\n",
    "    \"\"\"\n",
    "    Takes a list of directory and returns train and test samples\n",
    "    Train: %70 of main data\n",
    "    Test: %30 of main data\n",
    "    X_train: Train data of real emails\n",
    "    Y_train: Train data of spam emails\n",
    "    x_test: Test data of real emails\n",
    "    y_test: Test data of spam emails\n",
    "    \"\"\"\n",
    "    \n",
    "    for i in range(0,2):\n",
    "        random.shuffle(list_of_bugs[i])\n",
    "        if i == 0:\n",
    "            X_train =  list_of_bugs[i][:int(len(list_of_bugs[i])*0.70)]\n",
    "            x_test =  list_of_bugs[i][int(len(list_of_bugs[i])*0.70):]\n",
    "        else:\n",
    "            Y_train =  list_of_bugs[i][:int(len(list_of_bugs[i])*0.70)]\n",
    "            y_test =  list_of_bugs[i][int(len(list_of_bugs[i])*0.70):]\n",
    "    return X_train, Y_train, x_test, y_test"
   ]
  },
  {
   "cell_type": "code",
   "execution_count": 5,
   "metadata": {},
   "outputs": [],
   "source": [
    "#Creates a great words list which contains all existing words from train data\n",
    "def all_words_list(Enronx = '1'):\n",
    "    \"\"\"\n",
    "    Takes all data from 2 different data sets and returns a big list of words and mail type flags\n",
    "    Enronx indicates the main dataset type number\n",
    "    \"\"\"\n",
    "    \n",
    "    all_words_list = []\n",
    "    for sign in ['X','Y']:\n",
    "        for file_name in tqdm(eval(sign+\"_train\")):\n",
    "            if sign == 'X':\n",
    "                mail = open(\"./enron\"+Enronx+\"/ham\\\\\"+file_name,encoding=\"latin-1\")\n",
    "            elif sign == 'Y':\n",
    "                mail = open(\"./enron\"+Enronx+\"/spam\\\\\"+file_name,encoding=\"latin-1\")\n",
    "            m = list(set(mail.read().split()))\n",
    "            all_words_list = all_words_list + m\n",
    "    all_words_list = list(set(all_words_list))\n",
    "    words_df = pd.DataFrame(all_words_list, columns = ['Words'])\n",
    "    # The default value is 1 to be sure any value wouldn't be NaN or too effective\n",
    "    words_df['ham'], words_df['spam'] = [1,1]\n",
    "    words_df.set_index('Words', inplace = True)\n",
    "    return words_df"
   ]
  },
  {
   "cell_type": "code",
   "execution_count": 6,
   "metadata": {},
   "outputs": [],
   "source": [
    "#Takes a list of mail directories and returns 3 columns dataframe which shows frequencies of each word \n",
    "def calculate_frequency(words_df, enronx = '1'):\n",
    "    \n",
    "    \"\"\"\n",
    "    Takes a DataFrame of all words in main data. \n",
    "    Returns the frequency of each word with respect to ham or spam\n",
    "    Columns:\n",
    "    index: words\n",
    "    ham: frequency of a word in real emails\n",
    "    spam: frequency of a word in spam emails\n",
    "    \"\"\"\n",
    "    for sign in ['X', 'Y']:\n",
    "\n",
    "        if sign == 'X':\n",
    "            folder = 'ham'\n",
    "            index = 1\n",
    "        elif sign == 'Y':\n",
    "            folder = 'spam'\n",
    "            index = 2\n",
    "\n",
    "        for file_name in tqdm(eval(sign+\"_train\")):\n",
    "            mail = open(\"./enron\"+enronx+\"/\"+folder+\"\\\\\"+file_name,encoding=\"latin-1\")\n",
    "            m = list(set(mail.read().split()))\n",
    "            try:\n",
    "                for word in m:\n",
    "                    words_df.loc[word, folder]  += 1\n",
    "            except:\n",
    "                print('The word '+word+' is not available')\n",
    "    return words_df"
   ]
  },
  {
   "cell_type": "code",
   "execution_count": 7,
   "metadata": {},
   "outputs": [],
   "source": [
    "#Takes a 3 columns frequency dataframe and returns 3 columns probability dataframe for each word\n",
    "def calculate_probabilities(words_df):\n",
    "    \"\"\"\n",
    "    Takes a DataFrame of all words with their frequencies with 2 columns: \n",
    "    ham: frequency of a word in real emails\n",
    "    spam: frequency of a word in spam emails\n",
    "    Returns a probability DataFrame which shows individual probability of existince with respect to ham or spam\n",
    "    Columns:\n",
    "    index: Words\n",
    "    ham: probability of existence of a word in real emails\n",
    "    spam: probability of existence in spam emails\n",
    "    \n",
    "    Calculates frequencies of each word in data according to their type. (ham or spam)\n",
    "    \n",
    "    \"\"\"\n",
    "    prob_df = words_df.copy()\n",
    "    for i in tqdm(['ham', 'spam']):\n",
    "        if i == 'ham':\n",
    "            k = 0\n",
    "        elif i == 'spam':\n",
    "            k = 1\n",
    "        prob_df[i] = (words_df.iloc[:,k]/(words_df.iloc[:,0] + words_df.iloc[:,1]))\n",
    "    return prob_df"
   ]
  },
  {
   "cell_type": "code",
   "execution_count": 8,
   "metadata": {},
   "outputs": [],
   "source": [
    "#Takes a 3 columns frequency dataframe and returns 3 columns probability dataframe for each word\n",
    "def calculate_probabilities(words_df, X_train, Y_train):\n",
    "    \"\"\"\n",
    "    Takes a DataFrame of all words with their frequencies with 2 columns: \n",
    "    ham: frequency of a word in real emails\n",
    "    spam: frequency of a word in spam emails\n",
    "    Returns a probability DataFrame which shows individual probability of existince with respect to ham or spam\n",
    "    Columns:\n",
    "    index: Words\n",
    "    ham: probability of existence of a word in real emails\n",
    "    spam: probability of existence in spam emails\n",
    "    \n",
    "    Calculates frequencies of each word in data according to their type. (ham or spam)\n",
    "    \n",
    "    \"\"\"\n",
    "    prob_df = words_df.copy()\n",
    "    prob_df['ham'] = words_df['ham']/len(X_train)\n",
    "    prob_df['spam'] = words_df['spam']/len(Y_train)\n",
    "    return prob_df"
   ]
  },
  {
   "cell_type": "markdown",
   "metadata": {},
   "source": [
    "###  Definitions - Test"
   ]
  },
  {
   "cell_type": "code",
   "execution_count": 9,
   "metadata": {},
   "outputs": [],
   "source": [
    "def test_emails(probability_df,test_list,X_train,Y_train, Enronx = '1', source = 'ham'):\n",
    "     \n",
    "    \"\"\"\n",
    "    Takes a list of directories\n",
    "    Returns the predicted type of each directory with respect to spam or ham\n",
    "    \n",
    "    Columns:\n",
    "    index: eMails\n",
    "    Spam_f: Prediction of if an email is a spam or not\n",
    "\n",
    "    \"\"\"\n",
    "    file_df = pd.DataFrame(test_list, columns = ['Files'])\n",
    "    file_df['Spam_F'] = 0\n",
    "    file_df.set_index('Files', inplace = True)  \n",
    "    \n",
    "    for file_name in tqdm(test_list):\n",
    "        mail = open(\"./enron\"+Enronx+\"/\"+source+\"\\\\\"+file_name,encoding=\"latin-1\")\n",
    "        m = list(set(mail.read().split()))\n",
    "\n",
    "        multiplier_ham = len(X_train)/(len(Y_train)+len(X_train))\n",
    "        multiplier_spam = len(Y_train)/(len(Y_train)+len(X_train))\n",
    "        \n",
    "        for word in m:\n",
    "            try:\n",
    "                ham_prob = probability_df.loc[word, 'ham']\n",
    "                spam_prob = probability_df.loc[word, 'spam']\n",
    "                multiplier_ham = multiplier_ham*ham_prob\n",
    "                multiplier_spam = multiplier_spam*spam_prob                \n",
    "            except:\n",
    "                None\n",
    "        if multiplier_spam > multiplier_ham:\n",
    "            file_df.loc[file_name] = 1\n",
    "    return file_df"
   ]
  },
  {
   "cell_type": "markdown",
   "metadata": {},
   "source": [
    "###  Definitions - Compare"
   ]
  },
  {
   "cell_type": "code",
   "execution_count": 10,
   "metadata": {},
   "outputs": [],
   "source": [
    "def confusion_matrix(test_x, test_y, matrix_type = 1):\n",
    "    \"\"\"\n",
    "    Takes 2 dataframes from 2 differenct samples: ham and spam emails. \n",
    "    Returns the confusion matrix of the predictions\n",
    "    \n",
    "    Inputs:\n",
    "    test_x: ham emails \n",
    "    test_y: spam emails\n",
    "    \n",
    "    matrix_type:\n",
    "    1: Shows percentage \n",
    "    2: Shows actual numbers\n",
    "\n",
    "    \"\"\"\n",
    "\n",
    "    import numpy as np\n",
    "    import matplotlib.pyplot as plt\n",
    "    import seaborn as sn\n",
    "    import pandas as pd\n",
    "\n",
    "    import seaborn as sns\n",
    "    import math\n",
    "\n",
    "    from mpl_toolkits.axes_grid1 import make_axes_locatable\n",
    "\n",
    "    import matplotlib as mpl\n",
    "\n",
    "    mpl.style.use('seaborn')\n",
    "    \n",
    "    #Matrix Dimensions\n",
    "    #SAG ÜST\n",
    "    FP = test_x.sum()\n",
    "    #SOL ÜST\n",
    "    TN = test_x.count() - FP\n",
    "    #SAĞ ALT\n",
    "    TP = test_y.sum()\n",
    "    #SOL ALT\n",
    "    FN = test_y.count() - TP\n",
    "    #Matrix array\n",
    "    confusion_array = np.array([[FP[0], TN[0]], [TP[0],FN[0]]])\n",
    "\n",
    "    conf_arr = confusion_array\n",
    "\n",
    "    sum = conf_arr.sum()\n",
    "\n",
    "    if matrix_type == 1:\n",
    "        conf_arr = conf_arr * 100.0 / ( 1.0 * sum )\n",
    "    elif matrix_type == 2:\n",
    "        None\n",
    "\n",
    "    df_cm = pd.DataFrame(conf_arr, \n",
    "      index = [ 'No', 'Yes'],\n",
    "      columns = ['No', 'Yes'])\n",
    "\n",
    "    fig = plt.figure()\n",
    "\n",
    "    plt.clf()\n",
    "\n",
    "    ax = fig.add_subplot(111)\n",
    "    ax.set_aspect(1)\n",
    "\n",
    "    cmap = sns.cubehelix_palette(light=1, as_cmap=True)\n",
    "\n",
    "    res = sn.heatmap(df_cm, annot=True, vmin=0.0, vmax=100.0, fmt='.0f', cmap=cmap)\n",
    "\n",
    "    res.invert_yaxis()\n",
    "\n",
    "    plt.yticks([0.5,1.5], ['Yes', 'No'],va='center')\n",
    "\n",
    "    plt.title('Confusion Matrix')\n",
    "\n",
    "    return plt.savefig('confusion_matrix.png', dpi=100, bbox_inches='tight' )"
   ]
  },
  {
   "cell_type": "code",
   "execution_count": 11,
   "metadata": {},
   "outputs": [],
   "source": [
    "#Calculates accuracy by using test dataframes\n",
    "def accuracy(test_x, test_y):\n",
    "    \"\"\"\n",
    "    Takes 2 dataframes  \n",
    "    Returns the accuracy of trained model   \n",
    "    Inputs:\n",
    "    test_x: ham emails \n",
    "    test_y: spam emails\n",
    "    \n",
    "    Outputs:\n",
    "    accuracy: Accuracy of the model (percentage)\n",
    "\n",
    "    \"\"\"\n",
    "    \n",
    "    #SAG ÜST\n",
    "    FP = test_x.sum()\n",
    "    #SOL ÜST\n",
    "    TN = test_x.count() - FP\n",
    "    #SAĞ ALT\n",
    "    TP = test_y.sum()\n",
    "    #SOL ALT\n",
    "    FN = test_y.count() - TP\n",
    "    \n",
    "    accuracy = (TN + TP) / (TN + TP+FP +FN)\n",
    "    return accuracy"
   ]
  },
  {
   "cell_type": "markdown",
   "metadata": {},
   "source": [
    "# Enron1 "
   ]
  },
  {
   "cell_type": "markdown",
   "metadata": {},
   "source": [
    "## Run Training"
   ]
  },
  {
   "cell_type": "code",
   "execution_count": 12,
   "metadata": {},
   "outputs": [
    {
     "name": "stdout",
     "output_type": "stream",
     "text": [
      "Creating: All_words_list\n"
     ]
    },
    {
     "name": "stderr",
     "output_type": "stream",
     "text": [
      "C:\\ProgramData\\Anaconda3\\lib\\site-packages\\ipykernel_launcher.py:10: TqdmDeprecationWarning: This function will be removed in tqdm==5.0.0\n",
      "Please use `tqdm.notebook.tqdm` instead of `tqdm.tqdm_notebook`\n",
      "  # Remove the CWD from sys.path while we load stuff.\n"
     ]
    },
    {
     "data": {
      "application/vnd.jupyter.widget-view+json": {
       "model_id": "747e02dbb2d6432988f0cf70336eb303",
       "version_major": 2,
       "version_minor": 0
      },
      "text/plain": [
       "HBox(children=(FloatProgress(value=0.0, max=2570.0), HTML(value='')))"
      ]
     },
     "metadata": {},
     "output_type": "display_data"
    },
    {
     "name": "stdout",
     "output_type": "stream",
     "text": [
      "\n"
     ]
    },
    {
     "data": {
      "application/vnd.jupyter.widget-view+json": {
       "model_id": "afc43ee089b8404ead2044fd5fee20a0",
       "version_major": 2,
       "version_minor": 0
      },
      "text/plain": [
       "HBox(children=(FloatProgress(value=0.0, max=1050.0), HTML(value='')))"
      ]
     },
     "metadata": {},
     "output_type": "display_data"
    },
    {
     "name": "stdout",
     "output_type": "stream",
     "text": [
      "\n",
      "Creating: Frequency DataFrame\n"
     ]
    },
    {
     "name": "stderr",
     "output_type": "stream",
     "text": [
      "C:\\ProgramData\\Anaconda3\\lib\\site-packages\\ipykernel_launcher.py:21: TqdmDeprecationWarning: This function will be removed in tqdm==5.0.0\n",
      "Please use `tqdm.notebook.tqdm` instead of `tqdm.tqdm_notebook`\n"
     ]
    },
    {
     "data": {
      "application/vnd.jupyter.widget-view+json": {
       "model_id": "0cf04e25d1474ed2a9798c43998b15ea",
       "version_major": 2,
       "version_minor": 0
      },
      "text/plain": [
       "HBox(children=(FloatProgress(value=0.0, max=2570.0), HTML(value='')))"
      ]
     },
     "metadata": {},
     "output_type": "display_data"
    },
    {
     "name": "stdout",
     "output_type": "stream",
     "text": [
      "\n"
     ]
    },
    {
     "data": {
      "application/vnd.jupyter.widget-view+json": {
       "model_id": "7d9b92f3ce0b4a35beefa172cc52f98b",
       "version_major": 2,
       "version_minor": 0
      },
      "text/plain": [
       "HBox(children=(FloatProgress(value=0.0, max=1050.0), HTML(value='')))"
      ]
     },
     "metadata": {},
     "output_type": "display_data"
    },
    {
     "name": "stdout",
     "output_type": "stream",
     "text": [
      "\n",
      "Creating: Probability DataFrame\n"
     ]
    }
   ],
   "source": [
    "#Reads paths and creates a list of directories\n",
    "list_of_bugs = read_and_write_directory(Enronx = '1')\n",
    "\n",
    "#Takes a list of directory lists and returns train and test samples\n",
    "X_train, Y_train, x_test, y_test = shuffle_and_create_samples(list_of_bugs)\n",
    "\n",
    "#Creates a great words list which contains all existing words from train data\n",
    "print('Creating: All_words_list')\n",
    "words_df = all_words_list(Enronx = '1')\n",
    "\n",
    "#Takes a list of mail directories and returns 3 columns dataframe which shows frequencies of each word\n",
    "print('Creating: Frequency DataFrame')\n",
    "words_df = calculate_frequency(words_df, enronx = '1')\n",
    "\n",
    "X_train_1 = X_train.copy() \n",
    "Y_train_1 = Y_train.copy() \n",
    "x_test_1 =  x_test.copy()\n",
    "y_test_1 =  y_test.copy()\n",
    " \n",
    "#Takes a 3 columns frequency dataframe and returns 3 columns probability dataframe for each word\n",
    "print('Creating: Probability DataFrame')\n",
    "prob_df = calculate_probabilities(words_df, X_train_1, Y_train_1)"
   ]
  },
  {
   "cell_type": "markdown",
   "metadata": {},
   "source": [
    "## Run Test"
   ]
  },
  {
   "cell_type": "code",
   "execution_count": 13,
   "metadata": {},
   "outputs": [
    {
     "name": "stdout",
     "output_type": "stream",
     "text": [
      "Testing: Ham dataset\n"
     ]
    },
    {
     "name": "stderr",
     "output_type": "stream",
     "text": [
      "C:\\ProgramData\\Anaconda3\\lib\\site-packages\\ipykernel_launcher.py:16: TqdmDeprecationWarning: This function will be removed in tqdm==5.0.0\n",
      "Please use `tqdm.notebook.tqdm` instead of `tqdm.tqdm_notebook`\n",
      "  app.launch_new_instance()\n"
     ]
    },
    {
     "data": {
      "application/vnd.jupyter.widget-view+json": {
       "model_id": "987ba2cb08124999b8175a8f45c223ba",
       "version_major": 2,
       "version_minor": 0
      },
      "text/plain": [
       "HBox(children=(FloatProgress(value=0.0, max=1102.0), HTML(value='')))"
      ]
     },
     "metadata": {},
     "output_type": "display_data"
    },
    {
     "name": "stdout",
     "output_type": "stream",
     "text": [
      "\n",
      "Testing: Spam dataset\n"
     ]
    },
    {
     "data": {
      "application/vnd.jupyter.widget-view+json": {
       "model_id": "7bacf156d305435b9ce017359e0c7880",
       "version_major": 2,
       "version_minor": 0
      },
      "text/plain": [
       "HBox(children=(FloatProgress(value=0.0, max=450.0), HTML(value='')))"
      ]
     },
     "metadata": {},
     "output_type": "display_data"
    },
    {
     "name": "stdout",
     "output_type": "stream",
     "text": [
      "\n"
     ]
    },
    {
     "data": {
      "text/plain": [
       "Spam_F    0.921392\n",
       "dtype: float64"
      ]
     },
     "execution_count": 13,
     "metadata": {},
     "output_type": "execute_result"
    },
    {
     "data": {
      "image/png": "[encoded data removed]",
      "text/plain": [
       "<Figure size 576x396 with 2 Axes>"
      ]
     },
     "metadata": {},
     "output_type": "display_data"
    }
   ],
   "source": [
    "#Test both for x and y test sets\n",
    "print('Testing: Ham dataset')\n",
    "test_df_x = test_emails(prob_df, x_test_1,X_train_1, Y_train_1, Enronx = '1', source = 'ham')\n",
    "\n",
    "print('Testing: Spam dataset')\n",
    "test_df_y = test_emails(prob_df, y_test_1, X_train_1, Y_train_1, Enronx = '1', source = 'spam')\n",
    "\n",
    "#Creating a confusion matrix\n",
    "confusion_matrix(test_df_x, test_df_y, matrix_type = 1)\n",
    "\n",
    "#Calculates accuracy by using test dataframes\n",
    "accuracy(test_df_x, test_df_y)"
   ]
  },
  {
   "cell_type": "markdown",
   "metadata": {},
   "source": [
    "# Enron6"
   ]
  },
  {
   "cell_type": "markdown",
   "metadata": {},
   "source": [
    "## Run Training"
   ]
  },
  {
   "cell_type": "code",
   "execution_count": 14,
   "metadata": {},
   "outputs": [
    {
     "name": "stdout",
     "output_type": "stream",
     "text": [
      "Creating: All_words_list\n"
     ]
    },
    {
     "name": "stderr",
     "output_type": "stream",
     "text": [
      "C:\\ProgramData\\Anaconda3\\lib\\site-packages\\ipykernel_launcher.py:10: TqdmDeprecationWarning: This function will be removed in tqdm==5.0.0\n",
      "Please use `tqdm.notebook.tqdm` instead of `tqdm.tqdm_notebook`\n",
      "  # Remove the CWD from sys.path while we load stuff.\n"
     ]
    },
    {
     "data": {
      "application/vnd.jupyter.widget-view+json": {
       "model_id": "f3849c187be640c9bdae4a71a9460169",
       "version_major": 2,
       "version_minor": 0
      },
      "text/plain": [
       "HBox(children=(FloatProgress(value=0.0, max=1050.0), HTML(value='')))"
      ]
     },
     "metadata": {},
     "output_type": "display_data"
    },
    {
     "name": "stdout",
     "output_type": "stream",
     "text": [
      "\n"
     ]
    },
    {
     "data": {
      "application/vnd.jupyter.widget-view+json": {
       "model_id": "c18d6861e6a44dcda146fab442a2366f",
       "version_major": 2,
       "version_minor": 0
      },
      "text/plain": [
       "HBox(children=(FloatProgress(value=0.0, max=3150.0), HTML(value='')))"
      ]
     },
     "metadata": {},
     "output_type": "display_data"
    },
    {
     "name": "stdout",
     "output_type": "stream",
     "text": [
      "\n",
      "Creating: Frequency DataFrame\n"
     ]
    },
    {
     "name": "stderr",
     "output_type": "stream",
     "text": [
      "C:\\ProgramData\\Anaconda3\\lib\\site-packages\\ipykernel_launcher.py:21: TqdmDeprecationWarning: This function will be removed in tqdm==5.0.0\n",
      "Please use `tqdm.notebook.tqdm` instead of `tqdm.tqdm_notebook`\n"
     ]
    },
    {
     "data": {
      "application/vnd.jupyter.widget-view+json": {
       "model_id": "911018cca2e54f8d86d8bf32ce7a785c",
       "version_major": 2,
       "version_minor": 0
      },
      "text/plain": [
       "HBox(children=(FloatProgress(value=0.0, max=1050.0), HTML(value='')))"
      ]
     },
     "metadata": {},
     "output_type": "display_data"
    },
    {
     "name": "stdout",
     "output_type": "stream",
     "text": [
      "\n"
     ]
    },
    {
     "data": {
      "application/vnd.jupyter.widget-view+json": {
       "model_id": "f7a860f22ede4fbd95658cfbfc95e7c6",
       "version_major": 2,
       "version_minor": 0
      },
      "text/plain": [
       "HBox(children=(FloatProgress(value=0.0, max=3150.0), HTML(value='')))"
      ]
     },
     "metadata": {},
     "output_type": "display_data"
    },
    {
     "name": "stdout",
     "output_type": "stream",
     "text": [
      "\n",
      "Creating: Probability DataFrame\n"
     ]
    }
   ],
   "source": [
    "#Reads paths and creates a list of directories\n",
    "list_of_bugs_6 = read_and_write_directory(Enronx = '6')\n",
    "#Takes a list of directory lists and returns train and test samples\n",
    "X_train, Y_train, x_test, y_test = shuffle_and_create_samples(list_of_bugs_6)\n",
    "\n",
    "#Creates a great words list which contains all existing words from train data\n",
    "print('Creating: All_words_list')\n",
    "words_df_6 = all_words_list(Enronx = '6')\n",
    "\n",
    "#Takes a list of mail directories and returns 3 columns dataframe which shows frequencies of each word\n",
    "print('Creating: Frequency DataFrame')\n",
    "words_df_6 = calculate_frequency(words_df_6, enronx = '6')\n",
    "\n",
    "X_train_6 = X_train.copy() \n",
    "Y_train_6 = Y_train.copy() \n",
    "x_test_6 =  x_test.copy()\n",
    "y_test_6 =  y_test.copy()\n",
    "\n",
    "#Takes a 3 columns frequency dataframe and returns 3 columns probability dataframe for each word\n",
    "print('Creating: Probability DataFrame')\n",
    "prob_df6 = calculate_probabilities(words_df_6, X_train_6, Y_train_6)"
   ]
  },
  {
   "cell_type": "markdown",
   "metadata": {},
   "source": [
    "## Run Test"
   ]
  },
  {
   "cell_type": "code",
   "execution_count": 15,
   "metadata": {
    "scrolled": false
   },
   "outputs": [
    {
     "name": "stdout",
     "output_type": "stream",
     "text": [
      "Testing: Ham dataset\n"
     ]
    },
    {
     "name": "stderr",
     "output_type": "stream",
     "text": [
      "C:\\ProgramData\\Anaconda3\\lib\\site-packages\\ipykernel_launcher.py:16: TqdmDeprecationWarning: This function will be removed in tqdm==5.0.0\n",
      "Please use `tqdm.notebook.tqdm` instead of `tqdm.tqdm_notebook`\n",
      "  app.launch_new_instance()\n"
     ]
    },
    {
     "data": {
      "application/vnd.jupyter.widget-view+json": {
       "model_id": "a71074c450ed4f7189216bbef07635ff",
       "version_major": 2,
       "version_minor": 0
      },
      "text/plain": [
       "HBox(children=(FloatProgress(value=0.0, max=450.0), HTML(value='')))"
      ]
     },
     "metadata": {},
     "output_type": "display_data"
    },
    {
     "name": "stdout",
     "output_type": "stream",
     "text": [
      "\n",
      "Testing: Spam dataset\n"
     ]
    },
    {
     "data": {
      "application/vnd.jupyter.widget-view+json": {
       "model_id": "5df8e7081c5244b995926e07867e0c13",
       "version_major": 2,
       "version_minor": 0
      },
      "text/plain": [
       "HBox(children=(FloatProgress(value=0.0, max=1350.0), HTML(value='')))"
      ]
     },
     "metadata": {},
     "output_type": "display_data"
    },
    {
     "name": "stdout",
     "output_type": "stream",
     "text": [
      "\n"
     ]
    },
    {
     "data": {
      "text/plain": [
       "Spam_F    0.796667\n",
       "dtype: float64"
      ]
     },
     "execution_count": 15,
     "metadata": {},
     "output_type": "execute_result"
    },
    {
     "data": {
      "image/png": "[encoded data removed]",
      "text/plain": [
       "<Figure size 576x396 with 2 Axes>"
      ]
     },
     "metadata": {},
     "output_type": "display_data"
    }
   ],
   "source": [
    "#Test both for x and y test sets\n",
    "print('Testing: Ham dataset')\n",
    "test_x6 = test_emails(prob_df6, x_test_6, X_train_6, Y_train_6, Enronx = '6', source = 'ham')\n",
    "\n",
    "print('Testing: Spam dataset')\n",
    "test_y6 = test_emails(prob_df6, y_test_6, X_train_6, Y_train_6, Enronx = '6', source = 'spam')\n",
    "\n",
    "#Creating a confusion matrix\n",
    "confusion_matrix(test_x6, test_y6, matrix_type = 1)\n",
    "\n",
    "#Calculates accuracy by using test dataframes\n",
    "accuracy(test_x6, test_y6)"
   ]
  },
  {
   "cell_type": "markdown",
   "metadata": {},
   "source": [
    "## Cross Testing"
   ]
  },
  {
   "cell_type": "markdown",
   "metadata": {},
   "source": [
    "### Enron1 train - Enron6 Test"
   ]
  },
  {
   "cell_type": "code",
   "execution_count": 16,
   "metadata": {},
   "outputs": [
    {
     "name": "stdout",
     "output_type": "stream",
     "text": [
      "Testing: Ham dataset\n"
     ]
    },
    {
     "name": "stderr",
     "output_type": "stream",
     "text": [
      "C:\\ProgramData\\Anaconda3\\lib\\site-packages\\ipykernel_launcher.py:16: TqdmDeprecationWarning: This function will be removed in tqdm==5.0.0\n",
      "Please use `tqdm.notebook.tqdm` instead of `tqdm.tqdm_notebook`\n",
      "  app.launch_new_instance()\n"
     ]
    },
    {
     "data": {
      "application/vnd.jupyter.widget-view+json": {
       "model_id": "1ae6bb3dd7274d6d8e8f66774f499431",
       "version_major": 2,
       "version_minor": 0
      },
      "text/plain": [
       "HBox(children=(FloatProgress(value=0.0, max=450.0), HTML(value='')))"
      ]
     },
     "metadata": {},
     "output_type": "display_data"
    },
    {
     "name": "stdout",
     "output_type": "stream",
     "text": [
      "\n",
      "Testing: Spam dataset\n"
     ]
    },
    {
     "data": {
      "application/vnd.jupyter.widget-view+json": {
       "model_id": "74096fc0791945e3ab90d5a606c9c5a1",
       "version_major": 2,
       "version_minor": 0
      },
      "text/plain": [
       "HBox(children=(FloatProgress(value=0.0, max=1350.0), HTML(value='')))"
      ]
     },
     "metadata": {},
     "output_type": "display_data"
    },
    {
     "name": "stdout",
     "output_type": "stream",
     "text": [
      "\n"
     ]
    },
    {
     "data": {
      "text/plain": [
       "Spam_F    0.802778\n",
       "dtype: float64"
      ]
     },
     "execution_count": 16,
     "metadata": {},
     "output_type": "execute_result"
    },
    {
     "data": {
      "image/png": "[encoded data removed]",
      "text/plain": [
       "<Figure size 576x396 with 2 Axes>"
      ]
     },
     "metadata": {},
     "output_type": "display_data"
    }
   ],
   "source": [
    "#Test both for x and y test sets\n",
    "print('Testing: Ham dataset')\n",
    "test_x7 = test_emails(prob_df, x_test_6, X_train_1, Y_train_1, Enronx = '6', source = 'ham')\n",
    "\n",
    "print('Testing: Spam dataset')\n",
    "test_y7 = test_emails(prob_df, y_test_6, X_train_1, Y_train_1, Enronx = '6', source = 'spam')\n",
    "\n",
    "#Creating a confusion matrix\n",
    "confusion_matrix(test_x7, test_y7, matrix_type = 1)\n",
    "\n",
    "#Calculates accuracy by using test dataframes\n",
    "accuracy(test_x7, test_y7)"
   ]
  },
  {
   "cell_type": "markdown",
   "metadata": {},
   "source": [
    "### Enron6 train - Enron1 Test"
   ]
  },
  {
   "cell_type": "code",
   "execution_count": 17,
   "metadata": {},
   "outputs": [
    {
     "name": "stdout",
     "output_type": "stream",
     "text": [
      "Testing: Ham dataset\n"
     ]
    },
    {
     "name": "stderr",
     "output_type": "stream",
     "text": [
      "C:\\ProgramData\\Anaconda3\\lib\\site-packages\\ipykernel_launcher.py:16: TqdmDeprecationWarning: This function will be removed in tqdm==5.0.0\n",
      "Please use `tqdm.notebook.tqdm` instead of `tqdm.tqdm_notebook`\n",
      "  app.launch_new_instance()\n"
     ]
    },
    {
     "data": {
      "application/vnd.jupyter.widget-view+json": {
       "model_id": "e467d1fc140849dfa745141b81d56d98",
       "version_major": 2,
       "version_minor": 0
      },
      "text/plain": [
       "HBox(children=(FloatProgress(value=0.0, max=1102.0), HTML(value='')))"
      ]
     },
     "metadata": {},
     "output_type": "display_data"
    },
    {
     "name": "stdout",
     "output_type": "stream",
     "text": [
      "\n",
      "Testing: Spam dataset\n"
     ]
    },
    {
     "data": {
      "application/vnd.jupyter.widget-view+json": {
       "model_id": "e086b9dfed95444db018ac5c0a6b6bbc",
       "version_major": 2,
       "version_minor": 0
      },
      "text/plain": [
       "HBox(children=(FloatProgress(value=0.0, max=450.0), HTML(value='')))"
      ]
     },
     "metadata": {},
     "output_type": "display_data"
    },
    {
     "name": "stdout",
     "output_type": "stream",
     "text": [
      "\n"
     ]
    },
    {
     "data": {
      "text/plain": [
       "Spam_F    0.92268\n",
       "dtype: float64"
      ]
     },
     "execution_count": 17,
     "metadata": {},
     "output_type": "execute_result"
    },
    {
     "data": {
      "image/png": "[encoded data removed]",
      "text/plain": [
       "<Figure size 576x396 with 2 Axes>"
      ]
     },
     "metadata": {},
     "output_type": "display_data"
    }
   ],
   "source": [
    "#Test both for x and y test sets\n",
    "print('Testing: Ham dataset')\n",
    "test_x2 = test_emails(prob_df6, x_test_1, X_train_6, Y_train_6, Enronx = '1', source = 'ham')\n",
    "\n",
    "print('Testing: Spam dataset')\n",
    "test_y2 = test_emails(prob_df6, y_test_1, X_train_6, Y_train_6, Enronx = '1', source = 'spam')\n",
    "\n",
    "#Creating a confusion matrix\n",
    "confusion_matrix(test_x2, test_y2, matrix_type = 1)\n",
    "\n",
    "#Calculates accuracy by using test dataframes\n",
    "accuracy(test_x2, test_y2)"
   ]
  },
  {
   "cell_type": "code",
   "execution_count": null,
   "metadata": {},
   "outputs": [],
   "source": []
  }
 ],
 "metadata": {
  "kernelspec": {
   "display_name": "Python 3",
   "language": "python",
   "name": "python3"
  },
  "language_info": {
   "codemirror_mode": {
    "name": "ipython",
    "version": 3
   },
   "file_extension": ".py",
   "mimetype": "text/x-python",
   "name": "python",
   "nbconvert_exporter": "python",
   "pygments_lexer": "ipython3",
   "version": "3.8.3"
  },
  "toc": {
   "base_numbering": 1,
   "nav_menu": {},
   "number_sections": true,
   "sideBar": true,
   "skip_h1_title": false,
   "title_cell": "Table of Contents",
   "title_sidebar": "Contents",
   "toc_cell": false,
   "toc_position": {},
   "toc_section_display": true,
   "toc_window_display": false
  }
 },
 "nbformat": 4,
 "nbformat_minor": 2
}
