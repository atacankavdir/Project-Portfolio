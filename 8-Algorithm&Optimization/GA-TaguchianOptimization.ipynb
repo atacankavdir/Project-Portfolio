{
 "cells": [
  {
   "cell_type": "code",
   "execution_count": 4,
   "metadata": {},
   "outputs": [],
   "source": [
    "from GeneticAl-Optimization_Utils import * "
   ]
  },
  {
   "cell_type": "markdown",
   "metadata": {},
   "source": [
    "### TAGUCHIAN OA"
   ]
  },
  {
   "cell_type": "code",
   "execution_count": 2,
   "metadata": {},
   "outputs": [
    {
     "name": "stdout",
     "output_type": "stream",
     "text": [
      "[25.0, 12.0, 50.0, 44.0, 88.0, 31.0, 88.0, 31.0, 44.0]\n",
      "[39.0, 39.0, 83.0, 83.0, 72.0, 39.0, 67.0, 39.0, 50.0]\n",
      "[15.0, 45.0, 70.0, 70.0, 80.0, 25.0, 65.0, 25.0, 50.0]\n",
      "[39.0, 52.0, 39.0, 61.0, 96.0, 39.0, 87.0, 39.0, 78.0]\n",
      "[29.0, 43.0, 33.0, 57.0, 81.0, 43.0, 81.0, 43.0, 43.0]\n"
     ]
    }
   ],
   "source": [
    "#Given Taguchian_OA \n",
    "Taguchian_OA = [[0,0,0,0],\n",
    "                [0,1,1,1],\n",
    "                [0,2,2,2],\n",
    "                [1,0,1,2],\n",
    "                [1,1,2,0],\n",
    "                [1,2,0,1],\n",
    "                [2,0,2,1],\n",
    "                [2,1,0,2],\n",
    "                [2,2,1,0]]\n",
    "\n",
    "#Option of 4 given factors\n",
    "size_opt = [10,50,100]\n",
    "time_opt = [20,100,200]\n",
    "ratio_opt = [0.5,0.7,0.9]\n",
    "prob_opt = [0.2,0.5,0.8]\n",
    "\n",
    "#Optimality gap calculater for 5 different trials (outer array) and 4 different factors with 3 options each.\n",
    "opt_gap_main_list = []\n",
    "for i in range(0,5):\n",
    "    opt_gap_list = []\n",
    "    c = np.array([random.randint(0,4) for i in range(10)])\n",
    "    A = np.array([[random.randint(0,4) for i in range(10)],[random.randint(0,4) for i in range(10)]])\n",
    "    b = [random.randint(13,15) for i in range(2)]\n",
    "    optimal_value, optimal_solution = optimal_knapsack_solver(A,b,c)\n",
    "    for z in Taguchian_OA:\n",
    "        sol, score = GIPSolver(A,b,c,size_opt[z[0]],time_opt[z[1]],ratio_opt[z[2]],prob_opt[z[3]],3,4)\n",
    "        optimality_gap = round(((optimal_value-score) / optimal_value)*100,0)\n",
    "        opt_gap_list.append(optimality_gap)\n",
    "    print(opt_gap_list)\n",
    "    opt_gap_main_list.append(opt_gap_list)"
   ]
  },
  {
   "cell_type": "code",
   "execution_count": 6,
   "metadata": {},
   "outputs": [
    {
     "data": {
      "text/html": [
       "<div>\n",
       "<style scoped>\n",
       "    .dataframe tbody tr th:only-of-type {\n",
       "        vertical-align: middle;\n",
       "    }\n",
       "\n",
       "    .dataframe tbody tr th {\n",
       "        vertical-align: top;\n",
       "    }\n",
       "\n",
       "    .dataframe thead th {\n",
       "        text-align: right;\n",
       "    }\n",
       "</style>\n",
       "<table border=\"1\" class=\"dataframe\">\n",
       "  <thead>\n",
       "    <tr style=\"text-align: right;\">\n",
       "      <th></th>\n",
       "      <th>Size</th>\n",
       "      <th>Time</th>\n",
       "      <th>Ratio</th>\n",
       "      <th>Prob</th>\n",
       "      <th>Trial-1</th>\n",
       "      <th>Trial-2</th>\n",
       "      <th>Trial-3</th>\n",
       "      <th>Trial-4</th>\n",
       "      <th>Trial-5</th>\n",
       "      <th>SNR</th>\n",
       "    </tr>\n",
       "  </thead>\n",
       "  <tbody>\n",
       "    <tr>\n",
       "      <th>0</th>\n",
       "      <td>0</td>\n",
       "      <td>0</td>\n",
       "      <td>0</td>\n",
       "      <td>0</td>\n",
       "      <td>40.0</td>\n",
       "      <td>11.0</td>\n",
       "      <td>33.0</td>\n",
       "      <td>29.0</td>\n",
       "      <td>15.0</td>\n",
       "      <td>-29.0</td>\n",
       "    </tr>\n",
       "    <tr>\n",
       "      <th>1</th>\n",
       "      <td>0</td>\n",
       "      <td>1</td>\n",
       "      <td>1</td>\n",
       "      <td>1</td>\n",
       "      <td>45.0</td>\n",
       "      <td>61.0</td>\n",
       "      <td>67.0</td>\n",
       "      <td>76.0</td>\n",
       "      <td>50.0</td>\n",
       "      <td>-36.0</td>\n",
       "    </tr>\n",
       "    <tr>\n",
       "      <th>2</th>\n",
       "      <td>0</td>\n",
       "      <td>2</td>\n",
       "      <td>2</td>\n",
       "      <td>2</td>\n",
       "      <td>50.0</td>\n",
       "      <td>67.0</td>\n",
       "      <td>87.0</td>\n",
       "      <td>59.0</td>\n",
       "      <td>65.0</td>\n",
       "      <td>-36.0</td>\n",
       "    </tr>\n",
       "    <tr>\n",
       "      <th>3</th>\n",
       "      <td>1</td>\n",
       "      <td>0</td>\n",
       "      <td>1</td>\n",
       "      <td>2</td>\n",
       "      <td>65.0</td>\n",
       "      <td>67.0</td>\n",
       "      <td>73.0</td>\n",
       "      <td>65.0</td>\n",
       "      <td>85.0</td>\n",
       "      <td>-37.0</td>\n",
       "    </tr>\n",
       "    <tr>\n",
       "      <th>4</th>\n",
       "      <td>1</td>\n",
       "      <td>1</td>\n",
       "      <td>2</td>\n",
       "      <td>0</td>\n",
       "      <td>80.0</td>\n",
       "      <td>78.0</td>\n",
       "      <td>87.0</td>\n",
       "      <td>76.0</td>\n",
       "      <td>80.0</td>\n",
       "      <td>-38.0</td>\n",
       "    </tr>\n",
       "    <tr>\n",
       "      <th>5</th>\n",
       "      <td>1</td>\n",
       "      <td>2</td>\n",
       "      <td>0</td>\n",
       "      <td>1</td>\n",
       "      <td>50.0</td>\n",
       "      <td>17.0</td>\n",
       "      <td>40.0</td>\n",
       "      <td>29.0</td>\n",
       "      <td>15.0</td>\n",
       "      <td>-30.0</td>\n",
       "    </tr>\n",
       "    <tr>\n",
       "      <th>6</th>\n",
       "      <td>2</td>\n",
       "      <td>0</td>\n",
       "      <td>2</td>\n",
       "      <td>1</td>\n",
       "      <td>75.0</td>\n",
       "      <td>72.0</td>\n",
       "      <td>87.0</td>\n",
       "      <td>82.0</td>\n",
       "      <td>85.0</td>\n",
       "      <td>-38.0</td>\n",
       "    </tr>\n",
       "    <tr>\n",
       "      <th>7</th>\n",
       "      <td>2</td>\n",
       "      <td>1</td>\n",
       "      <td>0</td>\n",
       "      <td>2</td>\n",
       "      <td>50.0</td>\n",
       "      <td>17.0</td>\n",
       "      <td>40.0</td>\n",
       "      <td>29.0</td>\n",
       "      <td>15.0</td>\n",
       "      <td>-30.0</td>\n",
       "    </tr>\n",
       "    <tr>\n",
       "      <th>8</th>\n",
       "      <td>2</td>\n",
       "      <td>2</td>\n",
       "      <td>1</td>\n",
       "      <td>0</td>\n",
       "      <td>60.0</td>\n",
       "      <td>50.0</td>\n",
       "      <td>87.0</td>\n",
       "      <td>76.0</td>\n",
       "      <td>65.0</td>\n",
       "      <td>-37.0</td>\n",
       "    </tr>\n",
       "  </tbody>\n",
       "</table>\n",
       "</div>"
      ],
      "text/plain": [
       "   Size  Time  Ratio  Prob  Trial-1  Trial-2  Trial-3  Trial-4  Trial-5   SNR\n",
       "0     0     0      0     0     40.0     11.0     33.0     29.0     15.0 -29.0\n",
       "1     0     1      1     1     45.0     61.0     67.0     76.0     50.0 -36.0\n",
       "2     0     2      2     2     50.0     67.0     87.0     59.0     65.0 -36.0\n",
       "3     1     0      1     2     65.0     67.0     73.0     65.0     85.0 -37.0\n",
       "4     1     1      2     0     80.0     78.0     87.0     76.0     80.0 -38.0\n",
       "5     1     2      0     1     50.0     17.0     40.0     29.0     15.0 -30.0\n",
       "6     2     0      2     1     75.0     72.0     87.0     82.0     85.0 -38.0\n",
       "7     2     1      0     2     50.0     17.0     40.0     29.0     15.0 -30.0\n",
       "8     2     2      1     0     60.0     50.0     87.0     76.0     65.0 -37.0"
      ]
     },
     "execution_count": 6,
     "metadata": {},
     "output_type": "execute_result"
    }
   ],
   "source": [
    "#Creates a summary dataframe with all prior info and calculates SNR.\n",
    "import pandas as pd\n",
    "trials = ['Trial-1','Trial-2','Trial-3','Trial-4','Trial-5']\n",
    "Taguchian_df  = pd.DataFrame(np.transpose(opt_gap_main_list), index= [np.array(i)for i in np.transpose(Taguchian_OA)], columns = trials )\n",
    "Taguchian_df['SNR'] = [round(-10*(np.log10(sum([i**2 for i in j]) / 5))) for j in np.transpose(opt_gap_main_list)]\n",
    "Taguchian_df.reset_index(inplace = True)\n",
    "\n",
    "Taguchian_df.rename({'level_0': 'Size', 'level_1': 'Time','level_2': 'Ratio','level_3': 'Prob'},axis = 1,inplace = True)\n",
    "Taguchian_df"
   ]
  },
  {
   "cell_type": "code",
   "execution_count": 7,
   "metadata": {
    "scrolled": false
   },
   "outputs": [
    {
     "data": {
      "image/png": "[encoded data removed]",
      "text/plain": [
       "<Figure size 432x288 with 1 Axes>"
      ]
     },
     "metadata": {},
     "output_type": "display_data"
    },
    {
     "data": {
      "image/png": "[encoded data removed]",
      "text/plain": [
       "<Figure size 432x288 with 1 Axes>"
      ]
     },
     "metadata": {},
     "output_type": "display_data"
    },
    {
     "data": {
      "image/png": "[encoded data removed]",
      "text/plain": [
       "<Figure size 432x288 with 1 Axes>"
      ]
     },
     "metadata": {},
     "output_type": "display_data"
    },
    {
     "data": {
      "image/png": "[encoded data removed]",
      "text/plain": [
       "<Figure size 432x288 with 1 Axes>"
      ]
     },
     "metadata": {},
     "output_type": "display_data"
    }
   ],
   "source": [
    "#Finds average SNR value for each level of every factor.\n",
    "optimum_factor_list = []\n",
    "for i in range(0,4):\n",
    "    level_list = []\n",
    "    for j in range(0,3):\n",
    "        level_list.append(Taguchian_df[Taguchian_df.iloc[:,i] == j]['SNR'].mean())\n",
    "    optimum_factor_list.append(level_list)\n",
    "\n",
    "%matplotlib inline\n",
    "import matplotlib.pyplot as plt\n",
    "plt.style.use('seaborn-whitegrid')\n",
    "import numpy as np\n",
    "\n",
    "factor_list = {'Size' : size_opt, 'Time':time_opt,'Ratio':ratio_opt, 'Prob':prob_opt}\n",
    "\n",
    "\n",
    "num = 0\n",
    "for keys, values in factor_list.items():\n",
    "    fig = plt.figure()\n",
    "    ax = plt.axes()\n",
    "    x = optimum_factor_list[num]\n",
    "    ax.plot(values,x,color = 'red',marker = 'o')\n",
    "    plt.ylim(min(optimum_factor_list[num])-5, max(optimum_factor_list[num])+5)\n",
    "    num+=1\n",
    "    \n",
    "    plt.title(keys)\n",
    "    plt.xlabel(\"Levels\")\n",
    "    plt.ylabel(\"SNR\")"
   ]
  },
  {
   "cell_type": "code",
   "execution_count": 8,
   "metadata": {},
   "outputs": [
    {
     "name": "stdout",
     "output_type": "stream",
     "text": [
      "Robust parameter set:\n",
      "Size Time Ratio Prob\n",
      "10 200 0.5 0.8\n",
      "Optimality Gap is:\n",
      "15.0\n"
     ]
    }
   ],
   "source": [
    "#Finds maximum value of each factor and appends their index for next step\n",
    "choosen_ones = [i.index(max(i)) for i in optimum_factor_list]    \n",
    "\n",
    "\n",
    "#Use prior index numbers to implement most robust design\n",
    "sol, score = GIPSolver(A,b,c,size_opt[choosen_ones[0]],\n",
    "                             time_opt[choosen_ones[1]],\n",
    "                             ratio_opt[choosen_ones[2]],\n",
    "                             prob_opt[choosen_ones[3]],3,4)\n",
    "\n",
    "optimality_gap = round(((optimal_value-score) / optimal_value)*100,0)\n",
    "\n",
    "print('Robust parameter set:')\n",
    "print('Size Time Ratio Prob')\n",
    "print(size_opt[choosen_ones[0]],time_opt[choosen_ones[1]],ratio_opt[choosen_ones[2]],prob_opt[choosen_ones[3]])\n",
    "\n",
    "print('Optimality Gap is:')\n",
    "print(optimality_gap)"
   ]
  }
 ],
 "metadata": {
  "kernelspec": {
   "display_name": "Python 3",
   "language": "python",
   "name": "python3"
  },
  "language_info": {
   "codemirror_mode": {
    "name": "ipython",
    "version": 3
   },
   "file_extension": ".py",
   "mimetype": "text/x-python",
   "name": "python",
   "nbconvert_exporter": "python",
   "pygments_lexer": "ipython3",
   "version": "3.8.3"
  },
  "toc": {
   "base_numbering": 1,
   "nav_menu": {},
   "number_sections": true,
   "sideBar": true,
   "skip_h1_title": false,
   "title_cell": "Table of Contents",
   "title_sidebar": "Contents",
   "toc_cell": false,
   "toc_position": {},
   "toc_section_display": true,
   "toc_window_display": false
  }
 },
 "nbformat": 4,
 "nbformat_minor": 2
}
