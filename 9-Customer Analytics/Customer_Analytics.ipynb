{
 "cells": [
  {
   "cell_type": "code",
   "execution_count": 1,
   "metadata": {},
   "outputs": [],
   "source": [
    "import pandas as pd\n",
    "import numpy as np\n",
    "import matplotlib.pyplot as plt\n",
    "import scipy.optimize as optimize\n",
    "\n",
    "from lifetimes import ParetoNBDFitter\n",
    "from lifetimes.plotting import plot_period_transactions"
   ]
  },
  {
   "cell_type": "code",
   "execution_count": 2,
   "metadata": {},
   "outputs": [],
   "source": [
    "#Read raw data\n",
    "raw_data = pd.read_excel('Final Project Data.xlsx',header = 1).set_index('Customer ID')\n",
    "#split in to train and test \n",
    "train_data = raw_data.loc[:,'2019-1':'2019-9']\n",
    "test_data = raw_data.loc[:,'2019-10':]"
   ]
  },
  {
   "cell_type": "markdown",
   "metadata": {},
   "source": [
    "#### MARKOV CHAIN"
   ]
  },
  {
   "cell_type": "code",
   "execution_count": 3,
   "metadata": {},
   "outputs": [],
   "source": [
    "#MarkovChain class is quoted from stackoverflow.com\n",
    "class MarkovChain(object):\n",
    "    def __init__(self, transition_matrix, states):\n",
    "        \"\"\"\n",
    "        Initialize the MarkovChain instance.\n",
    " \n",
    "        Parameters\n",
    "        ----------\n",
    "        transition_matrix: 2-D array\n",
    "            A 2-D array representing the probabilities of change of \n",
    "            state in the Markov Chain.\n",
    " \n",
    "        states: 1-D array \n",
    "            An array representing the states of the Markov Chain. It\n",
    "            needs to be in the same order as transition_matrix.\n",
    "        \"\"\"\n",
    "        self.transition_matrix = np.atleast_2d(transition_matrix)\n",
    "        self.states = states\n",
    "        self.index_dict = {self.states[index]: index for index in \n",
    "                           range(len(self.states))}\n",
    "        self.state_dict = {index: self.states[index] for index in\n",
    "                           range(len(self.states))}\n",
    " \n",
    "    def next_state(self, current_state):\n",
    "        \"\"\"\n",
    "        Returns the state of the random variable at the next time \n",
    "        instance.\n",
    " \n",
    "        Parameters\n",
    "        ----------\n",
    "        current_state: str\n",
    "            The current state of the system.\n",
    "        \"\"\"\n",
    "        return np.random.choice(\n",
    "         self.states, \n",
    "         p=self.transition_matrix[self.index_dict[current_state], :]\n",
    "        )\n",
    " \n",
    "    def generate_states(self, current_state, no=10):\n",
    "        \"\"\"\n",
    "        Generates the next states of the system.\n",
    " \n",
    "        Parameters\n",
    "        ----------\n",
    "        current_state: str\n",
    "            The state of the current random variable.\n",
    " \n",
    "        no: int\n",
    "            The number of future states to generate.\n",
    "        \"\"\"\n",
    "        future_states = []\n",
    "        for i in range(no):\n",
    "            next_state = self.next_state(current_state)\n",
    "            future_states.append(next_state)\n",
    "            current_state = next_state\n",
    "        return future_states\n",
    "\n",
    "def transition_matrix_creater(train_data): \n",
    "    \"\"\"\n",
    "    This function creates transition matrices of each individual by using their switching pattern.\n",
    "    input: dataframe with multiple rows(customer transactions) \n",
    "    output: transition probabilities of each consumer in a list of matrices\n",
    "    \"\"\"\n",
    "    transition_matrix_list = []\n",
    "    for row_num in range(0, train_data.shape[0]):\n",
    "        a,b,c,d = 0,0,0,0\n",
    "        for months in range(0, len(train_data.columns)-1):\n",
    "            if train_data.iloc[row_num,months] == 1 and train_data.iloc[row_num,months+1] == 1:\n",
    "                a+=1\n",
    "            elif train_data.iloc[row_num,months] == 1 and train_data.iloc[row_num,months+1] == 0:\n",
    "                b+=1\n",
    "            elif train_data.iloc[row_num,months] == 0 and train_data.iloc[row_num,months+1] == 0:\n",
    "                c+=1\n",
    "            elif train_data.iloc[row_num,months] == 0 and train_data.iloc[row_num,months+1] == 1:\n",
    "                d+=1\n",
    "        if a+b == 0:\n",
    "            transition_matrix = [[0.5, 0.5], [d/(c+d),c/(c+d)]]\n",
    "        elif c+d == 0:\n",
    "            transition_matrix = [[a/(a+b), b/(a+b)], [0.5,0.5]]\n",
    "        else: \n",
    "            transition_matrix = [[a/(a+b), b/(a+b)], [d/(c+d),c/(c+d)]]\n",
    "        #print(row_num) if row_num % 1000 == 0 else 0\n",
    "        transition_matrix_list.append(transition_matrix)\n",
    "    return transition_matrix_list\n",
    "\n",
    "def make_predictions(train_data, transition_matrices, n_of_periods):\n",
    "    \"\"\"\n",
    "    This function uses train data, MarkovChain class and the output of transition_matrix_creater to generate expected pattern.\n",
    "    \n",
    "    \"\"\"\n",
    "    preds = []\n",
    "    for i in range(0, len(transition_matrices)):\n",
    "        transition_matrix = transition_matrices[i]\n",
    "        row_chain = MarkovChain(transition_matrix=transition_matrix, states=['1', '0'])\n",
    "        preds.append(row_chain.generate_states(current_state=str(train_data.iloc[i,-1]), no=n_of_periods))\n",
    "    return preds"
   ]
  },
  {
   "cell_type": "code",
   "execution_count": 4,
   "metadata": {},
   "outputs": [],
   "source": [
    "#Create list of transition matrices \n",
    "transition_matrices = transition_matrix_creater(train_data)\n",
    "#Generate predictions\n",
    "preds = make_predictions(train_data, transition_matrices,5)"
   ]
  },
  {
   "cell_type": "code",
   "execution_count": 5,
   "metadata": {},
   "outputs": [
    {
     "name": "stdout",
     "output_type": "stream",
     "text": [
      "2019-10\n",
      "\n",
      " confusion_matrix\n",
      "\n",
      "[[7619 1263]\n",
      " [ 750  368]]\n",
      "\n",
      " Accuracy Score\n",
      "\n",
      "0.7987\n",
      "------------------------\n",
      "2019-11\n",
      "\n",
      " confusion_matrix\n",
      "\n",
      "[[7797 1181]\n",
      " [ 647  375]]\n",
      "\n",
      " Accuracy Score\n",
      "\n",
      "0.8172\n",
      "------------------------\n",
      "2019-12\n",
      "\n",
      " confusion_matrix\n",
      "\n",
      "[[7760 1240]\n",
      " [ 617  383]]\n",
      "\n",
      " Accuracy Score\n",
      "\n",
      "0.8143\n",
      "------------------------\n",
      "2020-1\n",
      "\n",
      " confusion_matrix\n",
      "\n",
      "[[7947 1200]\n",
      " [ 514  339]]\n",
      "\n",
      " Accuracy Score\n",
      "\n",
      "0.8286\n",
      "------------------------\n",
      "2020-2\n",
      "\n",
      " confusion_matrix\n",
      "\n",
      "[[7894 1262]\n",
      " [ 486  358]]\n",
      "\n",
      " Accuracy Score\n",
      "\n",
      "0.8252\n",
      "------------------------\n"
     ]
    }
   ],
   "source": [
    "from sklearn.metrics import confusion_matrix, accuracy_score\n",
    "churn_pred = []\n",
    "for i in range(0,5):\n",
    "    print(test_data.columns[i])\n",
    "    tn, fp, fn, tp = confusion_matrix(np.array(test_data.iloc[:,i]).tolist(), [int(a) for a in np.array(preds).T.tolist()[i]]).ravel()\n",
    "    churn_pred.append(fp+tp)\n",
    "    print(\"\\n confusion_matrix\\n\")\n",
    "    print(confusion_matrix(np.array(test_data.iloc[:,i]).tolist(), [int(a) for a in np.array(preds).T.tolist()[i]]))\n",
    "    print(\"\\n Accuracy Score\\n\")\n",
    "    print(accuracy_score(np.array(test_data.iloc[:,i]).tolist(), [int(a) for a in np.array(preds).T.tolist()[i]]))\n",
    "    print(\"------------------------\")"
   ]
  },
  {
   "cell_type": "markdown",
   "metadata": {},
   "source": [
    "This confusion matrices shows that, accuracy would be high. However, sensitivity and specificity metrics indicate a poor model."
   ]
  },
  {
   "cell_type": "code",
   "execution_count": 6,
   "metadata": {
    "scrolled": true
   },
   "outputs": [
    {
     "data": {
      "image/png": "[encoded data removed]",
      "text/plain": [
       "<Figure size 432x288 with 1 Axes>"
      ]
     },
     "metadata": {},
     "output_type": "display_data"
    }
   ],
   "source": [
    "predictions = pd.DataFrame(churn_pred,index = ['2019-10', '2019-11','2019-12','2020-1','2020-2'])\n",
    "\n",
    "real_data = pd.DataFrame(raw_data.drop('Unnamed: 10', axis = 1).sum()).rename({0:'Actual'}, axis = 1)\n",
    "\n",
    "real_data['Predictions'] = predictions\n",
    "\n",
    "ax = real_data.plot()\n",
    "ax.set_title('Number of Survivals')\n",
    "plt.show()"
   ]
  },
  {
   "cell_type": "markdown",
   "metadata": {},
   "source": [
    "Even Markov Chain performed poorly for this dataset."
   ]
  },
  {
   "cell_type": "markdown",
   "metadata": {},
   "source": [
    "### GEOMETRIC"
   ]
  },
  {
   "cell_type": "markdown",
   "metadata": {},
   "source": [
    "Log-likelood of p"
   ]
  },
  {
   "cell_type": "code",
   "execution_count": 7,
   "metadata": {
    "scrolled": true
   },
   "outputs": [
    {
     "data": {
      "text/html": [
       "<div>\n",
       "<style scoped>\n",
       "    .dataframe tbody tr th:only-of-type {\n",
       "        vertical-align: middle;\n",
       "    }\n",
       "\n",
       "    .dataframe tbody tr th {\n",
       "        vertical-align: top;\n",
       "    }\n",
       "\n",
       "    .dataframe thead th {\n",
       "        text-align: right;\n",
       "    }\n",
       "</style>\n",
       "<table border=\"1\" class=\"dataframe\">\n",
       "  <thead>\n",
       "    <tr style=\"text-align: right;\">\n",
       "      <th></th>\n",
       "      <th>Cust</th>\n",
       "    </tr>\n",
       "  </thead>\n",
       "  <tbody>\n",
       "    <tr>\n",
       "      <th>2019-1</th>\n",
       "      <td>10000</td>\n",
       "    </tr>\n",
       "    <tr>\n",
       "      <th>2019-2</th>\n",
       "      <td>2521</td>\n",
       "    </tr>\n",
       "    <tr>\n",
       "      <th>2019-3</th>\n",
       "      <td>2217</td>\n",
       "    </tr>\n",
       "    <tr>\n",
       "      <th>2019-4</th>\n",
       "      <td>1881</td>\n",
       "    </tr>\n",
       "    <tr>\n",
       "      <th>2019-5</th>\n",
       "      <td>1761</td>\n",
       "    </tr>\n",
       "    <tr>\n",
       "      <th>2019-6</th>\n",
       "      <td>1659</td>\n",
       "    </tr>\n",
       "    <tr>\n",
       "      <th>2019-7</th>\n",
       "      <td>1467</td>\n",
       "    </tr>\n",
       "    <tr>\n",
       "      <th>2019-8</th>\n",
       "      <td>1317</td>\n",
       "    </tr>\n",
       "    <tr>\n",
       "      <th>2019-9</th>\n",
       "      <td>1266</td>\n",
       "    </tr>\n",
       "  </tbody>\n",
       "</table>\n",
       "</div>"
      ],
      "text/plain": [
       "         Cust\n",
       "2019-1  10000\n",
       "2019-2   2521\n",
       "2019-3   2217\n",
       "2019-4   1881\n",
       "2019-5   1761\n",
       "2019-6   1659\n",
       "2019-7   1467\n",
       "2019-8   1317\n",
       "2019-9   1266"
      ]
     },
     "execution_count": 7,
     "metadata": {},
     "output_type": "execute_result"
    }
   ],
   "source": [
    "cust_df = pd.DataFrame(train_data.sum(), columns = ['Cust'])\n",
    "cust_df"
   ]
  },
  {
   "cell_type": "code",
   "execution_count": 8,
   "metadata": {},
   "outputs": [],
   "source": [
    "def GeoLL(theta,sData):\n",
    "    N=len(sData)\n",
    "    nCust=sData.Cust.values\n",
    "    ####\n",
    "    nLost=np.zeros(N)\n",
    "    nLost[0]=0\n",
    "    for k in range(1,N):\n",
    "        nLost[k]= nCust[k-1]-nCust[k]\n",
    "    ####\n",
    "    P_die=np.zeros(N)\n",
    "    for k in range(1,N):\n",
    "        P_die[k]= theta*((1-theta)**(k-1))\n",
    "    ####\n",
    "    S_t=np.zeros(N)\n",
    "    S_t[0]=1\n",
    "    for k in range(1,N):\n",
    "        S_t[k]= S_t[k-1]-P_die[k]\n",
    "    ####\n",
    "    LL=0\n",
    "    for k in range(1,N):\n",
    "        LL+= np.log(P_die[k])* nLost[k]\n",
    "    LL+=np.log(S_t[-1])* nCust[-1]\n",
    "    return -LL"
   ]
  },
  {
   "cell_type": "code",
   "execution_count": 9,
   "metadata": {},
   "outputs": [
    {
     "data": {
      "text/plain": [
       "array([0.38268413])"
      ]
     },
     "execution_count": 9,
     "metadata": {},
     "output_type": "execute_result"
    }
   ],
   "source": [
    "initial_guess = [0.5]\n",
    "bnds = ((0.001, 0.999),)\n",
    "res= optimize.minimize(GeoLL,initial_guess,args=cust_df,bounds=bnds)\n",
    "res.x"
   ]
  },
  {
   "cell_type": "markdown",
   "metadata": {},
   "source": [
    "Our log-likelihood search result states that maximum likelihood of p = 0.3826"
   ]
  },
  {
   "cell_type": "code",
   "execution_count": 10,
   "metadata": {},
   "outputs": [],
   "source": [
    "prob = res.x\n",
    "N=14\n",
    "P_die=np.zeros(N)\n",
    "for k in range(1,N):\n",
    "    P_die[k]= prob*((1-prob)**(k-1))\n",
    "S_t=np.zeros(N)\n",
    "S_t[0]=1\n",
    "for k in range(1,N):\n",
    "    S_t[k]= S_t[k-1]-P_die[k]\n",
    "    \n",
    "predictions = (S_t*10000).tolist()"
   ]
  },
  {
   "cell_type": "code",
   "execution_count": 11,
   "metadata": {},
   "outputs": [
    {
     "data": {
      "image/png": "[encoded data removed]",
      "text/plain": [
       "<Figure size 432x288 with 1 Axes>"
      ]
     },
     "metadata": {},
     "output_type": "display_data"
    }
   ],
   "source": [
    "predictions = pd.DataFrame(predictions,index = raw_data.columns.drop( 'Unnamed: 10'))\n",
    "\n",
    "real_data = pd.DataFrame(raw_data.iloc[:,:].drop('Unnamed: 10', axis = 1).sum()).rename({0:'Actual'}, axis = 1)\n",
    "\n",
    "real_data['Predictions'] = predictions\n",
    "\n",
    "ax = real_data.plot()\n",
    "ax.set_title('Number of Purchases')\n",
    "plt.show()"
   ]
  },
  {
   "cell_type": "markdown",
   "metadata": {},
   "source": [
    "Our model underpredicted the number of purchases"
   ]
  },
  {
   "cell_type": "markdown",
   "metadata": {},
   "source": [
    "### BETAGEOMETRIC"
   ]
  },
  {
   "cell_type": "code",
   "execution_count": 12,
   "metadata": {},
   "outputs": [
    {
     "data": {
      "text/html": [
       "<div>\n",
       "<style scoped>\n",
       "    .dataframe tbody tr th:only-of-type {\n",
       "        vertical-align: middle;\n",
       "    }\n",
       "\n",
       "    .dataframe tbody tr th {\n",
       "        vertical-align: top;\n",
       "    }\n",
       "\n",
       "    .dataframe thead th {\n",
       "        text-align: right;\n",
       "    }\n",
       "</style>\n",
       "<table border=\"1\" class=\"dataframe\">\n",
       "  <thead>\n",
       "    <tr style=\"text-align: right;\">\n",
       "      <th></th>\n",
       "      <th>Cust</th>\n",
       "    </tr>\n",
       "  </thead>\n",
       "  <tbody>\n",
       "    <tr>\n",
       "      <th>2019-1</th>\n",
       "      <td>10000</td>\n",
       "    </tr>\n",
       "    <tr>\n",
       "      <th>2019-2</th>\n",
       "      <td>2521</td>\n",
       "    </tr>\n",
       "    <tr>\n",
       "      <th>2019-3</th>\n",
       "      <td>2217</td>\n",
       "    </tr>\n",
       "    <tr>\n",
       "      <th>2019-4</th>\n",
       "      <td>1881</td>\n",
       "    </tr>\n",
       "    <tr>\n",
       "      <th>2019-5</th>\n",
       "      <td>1761</td>\n",
       "    </tr>\n",
       "    <tr>\n",
       "      <th>2019-6</th>\n",
       "      <td>1659</td>\n",
       "    </tr>\n",
       "    <tr>\n",
       "      <th>2019-7</th>\n",
       "      <td>1467</td>\n",
       "    </tr>\n",
       "    <tr>\n",
       "      <th>2019-8</th>\n",
       "      <td>1317</td>\n",
       "    </tr>\n",
       "    <tr>\n",
       "      <th>2019-9</th>\n",
       "      <td>1266</td>\n",
       "    </tr>\n",
       "  </tbody>\n",
       "</table>\n",
       "</div>"
      ],
      "text/plain": [
       "         Cust\n",
       "2019-1  10000\n",
       "2019-2   2521\n",
       "2019-3   2217\n",
       "2019-4   1881\n",
       "2019-5   1761\n",
       "2019-6   1659\n",
       "2019-7   1467\n",
       "2019-8   1317\n",
       "2019-9   1266"
      ]
     },
     "execution_count": 12,
     "metadata": {},
     "output_type": "execute_result"
    }
   ],
   "source": [
    "cust_df"
   ]
  },
  {
   "cell_type": "code",
   "execution_count": 13,
   "metadata": {},
   "outputs": [],
   "source": [
    "def BetaGeoLL(params, sData):\n",
    "    gamma, delta= params\n",
    "    N=len(sData)\n",
    "    nCust=sData.Cust.values\n",
    "    ####\n",
    "    nLost=np.zeros(N)\n",
    "    nLost[0]=0\n",
    "    for k in range(1,N):\n",
    "        nLost[k]= nCust[k-1]-nCust[k]\n",
    "    ####\n",
    "    P_die=np.zeros(N)\n",
    "    P_die[1]=gamma/(gamma+delta)\n",
    "    for k in range(2,N):\n",
    "        P_die[k]= P_die[k-1]*(delta+k-2)/(gamma+delta+k-1)\n",
    "    ####\n",
    "    S_t=np.zeros(N)\n",
    "    S_t[0]=1\n",
    "    for k in range(1,N):\n",
    "        S_t[k]= S_t[k-1]-P_die[k]\n",
    "    ####\n",
    "    LL=0\n",
    "    for k in range(1,N):\n",
    "        LL+= np.log(P_die[k])* nLost[k]\n",
    "    LL+=np.log(S_t[-1])* nCust[-1]\n",
    "    return -LL"
   ]
  },
  {
   "cell_type": "code",
   "execution_count": 14,
   "metadata": {},
   "outputs": [
    {
     "data": {
      "text/plain": [
       "array([0.28690087, 0.09744855])"
      ]
     },
     "execution_count": 14,
     "metadata": {},
     "output_type": "execute_result"
    }
   ],
   "source": [
    "#MLE parameter search \n",
    "initial_guess = [1, 1]\n",
    "bnds = ((0.001, None), (0.001, None))\n",
    "res= optimize.minimize(BetaGeoLL,initial_guess,args=(cust_df),bounds=bnds)\n",
    "res.x"
   ]
  },
  {
   "cell_type": "code",
   "execution_count": 15,
   "metadata": {},
   "outputs": [],
   "source": [
    "gamma, delta= res.x\n",
    "N=14\n",
    "####\n",
    "P_die=np.zeros(N)\n",
    "P_die[1]=gamma/(gamma+delta)\n",
    "for k in range(2,N):\n",
    "    P_die[k]= P_die[k-1]*(delta+k-2)/(gamma+delta+k-1)\n",
    "####\n",
    "S_t=np.zeros(N)\n",
    "S_t[0]=1\n",
    "for k in range(1,N):\n",
    "    S_t[k]= S_t[k-1]-P_die[k]\n",
    "predictions = (S_t*10000).tolist()"
   ]
  },
  {
   "cell_type": "markdown",
   "metadata": {},
   "source": [
    "Survival"
   ]
  },
  {
   "cell_type": "code",
   "execution_count": 16,
   "metadata": {},
   "outputs": [
    {
     "data": {
      "image/png": "[encoded data removed]",
      "text/plain": [
       "<Figure size 432x288 with 1 Axes>"
      ]
     },
     "metadata": {},
     "output_type": "display_data"
    }
   ],
   "source": [
    "predictions = pd.DataFrame(predictions,index = raw_data.columns.drop( 'Unnamed: 10'))\n",
    "\n",
    "real_data = pd.DataFrame(raw_data.iloc[:,:].drop('Unnamed: 10', axis = 1).sum()).rename({0:'Actual'}, axis = 1)\n",
    "\n",
    "real_data['Predictions'] = predictions\n",
    "\n",
    "ax = real_data.plot()\n",
    "ax.set_title('Survival (Numbers)')\n",
    "plt.show()"
   ]
  },
  {
   "cell_type": "markdown",
   "metadata": {},
   "source": [
    "Retention"
   ]
  },
  {
   "cell_type": "code",
   "execution_count": 17,
   "metadata": {},
   "outputs": [
    {
     "data": {
      "image/png": "[encoded data removed]",
      "text/plain": [
       "<Figure size 432x288 with 1 Axes>"
      ]
     },
     "metadata": {},
     "output_type": "display_data"
    }
   ],
   "source": [
    "predictions_2 = 10000-predictions\n",
    "\n",
    "real_data_2 = 10000-real_data\n",
    "real_data_2['Predictions'] = predictions_2\n",
    "\n",
    "ax = real_data_2.plot()\n",
    "ax.set_title('Retention (Numbers)')\n",
    "plt.show()"
   ]
  },
  {
   "cell_type": "markdown",
   "metadata": {},
   "source": [
    "BetaGeometric model predicted next 5 months with a remarkable accuracy"
   ]
  },
  {
   "cell_type": "markdown",
   "metadata": {},
   "source": [
    "### Pareto NBD"
   ]
  },
  {
   "cell_type": "code",
   "execution_count": 18,
   "metadata": {},
   "outputs": [],
   "source": [
    "train_data2 = train_data.drop('2019-1', axis = 1)\n",
    "frequency = train_data2.sum(axis=1)\n",
    "recency = ((train_data2*[8,7,6,5,4,3,2,1]).replace({0:None}).min(axis=1)).fillna(0)\n",
    "T_value = np.ones(10000)*8"
   ]
  },
  {
   "cell_type": "code",
   "execution_count": 19,
   "metadata": {
    "scrolled": true
   },
   "outputs": [
    {
     "data": {
      "text/plain": [
       "<lifetimes.ParetoNBDFitter: fitted with 10000 subjects, alpha: 2.19, beta: 30.31, r: 0.83, s: 3.98>"
      ]
     },
     "execution_count": 19,
     "metadata": {},
     "output_type": "execute_result"
    }
   ],
   "source": [
    "nbd = ParetoNBDFitter()\n",
    "nbd.fit(frequency, recency, T_value )"
   ]
  },
  {
   "cell_type": "code",
   "execution_count": 20,
   "metadata": {},
   "outputs": [
    {
     "data": {
      "text/plain": [
       "<matplotlib.axes._subplots.AxesSubplot at 0x1a5071259e8>"
      ]
     },
     "execution_count": 20,
     "metadata": {},
     "output_type": "execute_result"
    },
    {
     "data": {
      "image/png": "[encoded data removed]",
      "text/plain": [
       "<Figure size 432x288 with 1 Axes>"
      ]
     },
     "metadata": {},
     "output_type": "display_data"
    }
   ],
   "source": [
    "plot_period_transactions(nbd, max_frequency = 8)"
   ]
  },
  {
   "cell_type": "markdown",
   "metadata": {},
   "source": [
    "Tracking transactions"
   ]
  },
  {
   "cell_type": "code",
   "execution_count": 21,
   "metadata": {},
   "outputs": [],
   "source": [
    "#Train and test predictions of model\n",
    "ex_trans_list = []\n",
    "for i in range(1,14):\n",
    "    trans = (nbd.expected_number_of_purchases_up_to_time(i)).sum()\n",
    "    ex_trans_list.append(trans-sum(ex_trans_list))\n",
    "\n",
    "#expected number of transactions\n",
    "ex_trans_list = [10000]+[i*10000 for i in ex_trans_list]"
   ]
  },
  {
   "cell_type": "code",
   "execution_count": 22,
   "metadata": {},
   "outputs": [
    {
     "data": {
      "text/html": [
       "<div>\n",
       "<style scoped>\n",
       "    .dataframe tbody tr th:only-of-type {\n",
       "        vertical-align: middle;\n",
       "    }\n",
       "\n",
       "    .dataframe tbody tr th {\n",
       "        vertical-align: top;\n",
       "    }\n",
       "\n",
       "    .dataframe thead th {\n",
       "        text-align: right;\n",
       "    }\n",
       "</style>\n",
       "<table border=\"1\" class=\"dataframe\">\n",
       "  <thead>\n",
       "    <tr style=\"text-align: right;\">\n",
       "      <th></th>\n",
       "      <th>Actual</th>\n",
       "      <th>Predictions</th>\n",
       "    </tr>\n",
       "  </thead>\n",
       "  <tbody>\n",
       "    <tr>\n",
       "      <th>2019-1</th>\n",
       "      <td>10000</td>\n",
       "      <td>10000.000000</td>\n",
       "    </tr>\n",
       "    <tr>\n",
       "      <th>2019-2</th>\n",
       "      <td>2521</td>\n",
       "      <td>3558.646195</td>\n",
       "    </tr>\n",
       "    <tr>\n",
       "      <th>2019-3</th>\n",
       "      <td>2217</td>\n",
       "      <td>3133.194956</td>\n",
       "    </tr>\n",
       "    <tr>\n",
       "      <th>2019-4</th>\n",
       "      <td>1881</td>\n",
       "      <td>2769.511002</td>\n",
       "    </tr>\n",
       "    <tr>\n",
       "      <th>2019-5</th>\n",
       "      <td>1761</td>\n",
       "      <td>2457.134015</td>\n",
       "    </tr>\n",
       "    <tr>\n",
       "      <th>2019-6</th>\n",
       "      <td>1659</td>\n",
       "      <td>2187.613990</td>\n",
       "    </tr>\n",
       "    <tr>\n",
       "      <th>2019-7</th>\n",
       "      <td>1467</td>\n",
       "      <td>1954.081448</td>\n",
       "    </tr>\n",
       "    <tr>\n",
       "      <th>2019-8</th>\n",
       "      <td>1317</td>\n",
       "      <td>1750.918334</td>\n",
       "    </tr>\n",
       "    <tr>\n",
       "      <th>2019-9</th>\n",
       "      <td>1266</td>\n",
       "      <td>1573.504053</td>\n",
       "    </tr>\n",
       "    <tr>\n",
       "      <th>2019-10</th>\n",
       "      <td>1118</td>\n",
       "      <td>1418.018061</td>\n",
       "    </tr>\n",
       "    <tr>\n",
       "      <th>2019-11</th>\n",
       "      <td>1022</td>\n",
       "      <td>1281.285351</td>\n",
       "    </tr>\n",
       "    <tr>\n",
       "      <th>2019-12</th>\n",
       "      <td>1000</td>\n",
       "      <td>1160.654716</td>\n",
       "    </tr>\n",
       "    <tr>\n",
       "      <th>2020-1</th>\n",
       "      <td>853</td>\n",
       "      <td>1053.902257</td>\n",
       "    </tr>\n",
       "    <tr>\n",
       "      <th>2020-2</th>\n",
       "      <td>844</td>\n",
       "      <td>959.154428</td>\n",
       "    </tr>\n",
       "  </tbody>\n",
       "</table>\n",
       "</div>"
      ],
      "text/plain": [
       "         Actual   Predictions\n",
       "2019-1    10000  10000.000000\n",
       "2019-2     2521   3558.646195\n",
       "2019-3     2217   3133.194956\n",
       "2019-4     1881   2769.511002\n",
       "2019-5     1761   2457.134015\n",
       "2019-6     1659   2187.613990\n",
       "2019-7     1467   1954.081448\n",
       "2019-8     1317   1750.918334\n",
       "2019-9     1266   1573.504053\n",
       "2019-10    1118   1418.018061\n",
       "2019-11    1022   1281.285351\n",
       "2019-12    1000   1160.654716\n",
       "2020-1      853   1053.902257\n",
       "2020-2      844    959.154428"
      ]
     },
     "metadata": {},
     "output_type": "display_data"
    },
    {
     "data": {
      "image/png": "[encoded data removed]",
      "text/plain": [
       "<Figure size 432x288 with 1 Axes>"
      ]
     },
     "metadata": {},
     "output_type": "display_data"
    }
   ],
   "source": [
    "predictions = pd.DataFrame(ex_trans_list,index = raw_data.columns.drop( 'Unnamed: 10'))\n",
    "\n",
    "real_data = pd.DataFrame(raw_data.iloc[:,:].drop('Unnamed: 10', axis = 1).sum()).rename({0:'Actual'}, axis = 1)\n",
    "\n",
    "real_data['Predictions'] = predictions\n",
    "\n",
    "display(real_data)\n",
    "\n",
    "ax = real_data.plot()\n",
    "ax.set_title('Number of Transactions')\n",
    "plt.show()"
   ]
  },
  {
   "cell_type": "markdown",
   "metadata": {},
   "source": [
    "Tracking Cumulative Transactions"
   ]
  },
  {
   "cell_type": "code",
   "execution_count": 23,
   "metadata": {},
   "outputs": [],
   "source": [
    "#Train and test predictions of model\n",
    "cum_trans_list = []\n",
    "for i in range(1,14):\n",
    "    trans = (nbd.expected_number_of_purchases_up_to_time(i)).sum()\n",
    "    cum_trans_list.append(trans)\n",
    "\n",
    "#expected number of transactions\n",
    "cum_trans_list = [10000]+[i*10000+10000 for i in cum_trans_list]"
   ]
  },
  {
   "cell_type": "code",
   "execution_count": 24,
   "metadata": {},
   "outputs": [
    {
     "data": {
      "text/html": [
       "<div>\n",
       "<style scoped>\n",
       "    .dataframe tbody tr th:only-of-type {\n",
       "        vertical-align: middle;\n",
       "    }\n",
       "\n",
       "    .dataframe tbody tr th {\n",
       "        vertical-align: top;\n",
       "    }\n",
       "\n",
       "    .dataframe thead th {\n",
       "        text-align: right;\n",
       "    }\n",
       "</style>\n",
       "<table border=\"1\" class=\"dataframe\">\n",
       "  <thead>\n",
       "    <tr style=\"text-align: right;\">\n",
       "      <th></th>\n",
       "      <th>Actual</th>\n",
       "      <th>Predictions</th>\n",
       "    </tr>\n",
       "  </thead>\n",
       "  <tbody>\n",
       "    <tr>\n",
       "      <th>2019-1</th>\n",
       "      <td>10000</td>\n",
       "      <td>10000.000000</td>\n",
       "    </tr>\n",
       "    <tr>\n",
       "      <th>2019-2</th>\n",
       "      <td>12521</td>\n",
       "      <td>13558.646195</td>\n",
       "    </tr>\n",
       "    <tr>\n",
       "      <th>2019-3</th>\n",
       "      <td>14738</td>\n",
       "      <td>16691.841151</td>\n",
       "    </tr>\n",
       "    <tr>\n",
       "      <th>2019-4</th>\n",
       "      <td>16619</td>\n",
       "      <td>19461.352153</td>\n",
       "    </tr>\n",
       "    <tr>\n",
       "      <th>2019-5</th>\n",
       "      <td>18380</td>\n",
       "      <td>21918.486168</td>\n",
       "    </tr>\n",
       "    <tr>\n",
       "      <th>2019-6</th>\n",
       "      <td>20039</td>\n",
       "      <td>24106.100157</td>\n",
       "    </tr>\n",
       "    <tr>\n",
       "      <th>2019-7</th>\n",
       "      <td>21506</td>\n",
       "      <td>26060.181606</td>\n",
       "    </tr>\n",
       "    <tr>\n",
       "      <th>2019-8</th>\n",
       "      <td>22823</td>\n",
       "      <td>27811.099940</td>\n",
       "    </tr>\n",
       "    <tr>\n",
       "      <th>2019-9</th>\n",
       "      <td>24089</td>\n",
       "      <td>29384.603993</td>\n",
       "    </tr>\n",
       "    <tr>\n",
       "      <th>2019-10</th>\n",
       "      <td>25207</td>\n",
       "      <td>30802.622054</td>\n",
       "    </tr>\n",
       "    <tr>\n",
       "      <th>2019-11</th>\n",
       "      <td>26229</td>\n",
       "      <td>32083.907405</td>\n",
       "    </tr>\n",
       "    <tr>\n",
       "      <th>2019-12</th>\n",
       "      <td>27229</td>\n",
       "      <td>33244.562121</td>\n",
       "    </tr>\n",
       "    <tr>\n",
       "      <th>2020-1</th>\n",
       "      <td>28082</td>\n",
       "      <td>34298.464378</td>\n",
       "    </tr>\n",
       "    <tr>\n",
       "      <th>2020-2</th>\n",
       "      <td>28926</td>\n",
       "      <td>35257.618806</td>\n",
       "    </tr>\n",
       "  </tbody>\n",
       "</table>\n",
       "</div>"
      ],
      "text/plain": [
       "         Actual   Predictions\n",
       "2019-1    10000  10000.000000\n",
       "2019-2    12521  13558.646195\n",
       "2019-3    14738  16691.841151\n",
       "2019-4    16619  19461.352153\n",
       "2019-5    18380  21918.486168\n",
       "2019-6    20039  24106.100157\n",
       "2019-7    21506  26060.181606\n",
       "2019-8    22823  27811.099940\n",
       "2019-9    24089  29384.603993\n",
       "2019-10   25207  30802.622054\n",
       "2019-11   26229  32083.907405\n",
       "2019-12   27229  33244.562121\n",
       "2020-1    28082  34298.464378\n",
       "2020-2    28926  35257.618806"
      ]
     },
     "metadata": {},
     "output_type": "display_data"
    },
    {
     "data": {
      "image/png": "[encoded data removed]",
      "text/plain": [
       "<Figure size 432x288 with 1 Axes>"
      ]
     },
     "metadata": {},
     "output_type": "display_data"
    }
   ],
   "source": [
    "predictions = pd.DataFrame(cum_trans_list,index = raw_data.columns.drop( 'Unnamed: 10'))\n",
    "\n",
    "real_data = pd.DataFrame(raw_data.iloc[:,:].drop('Unnamed: 10', axis = 1).sum().cumsum()).rename({0:'Actual'}, axis = 1)\n",
    "\n",
    "real_data['Predictions'] = predictions\n",
    "\n",
    "display(real_data)\n",
    "\n",
    "ax = real_data.plot()\n",
    "ax.set_title('Cumulative Number of Transactions')\n",
    "plt.show()"
   ]
  },
  {
   "cell_type": "markdown",
   "metadata": {},
   "source": [
    "Cumulative graph shows a more significant difference. However, point estimations look very accurate."
   ]
  }
 ],
 "metadata": {
  "kernelspec": {
   "display_name": "Python 3",
   "language": "python",
   "name": "python3"
  },
  "language_info": {
   "codemirror_mode": {
    "name": "ipython",
    "version": 3
   },
   "file_extension": ".py",
   "mimetype": "text/x-python",
   "name": "python",
   "nbconvert_exporter": "python",
   "pygments_lexer": "ipython3",
   "version": "3.8.3"
  },
  "toc": {
   "base_numbering": 1,
   "nav_menu": {},
   "number_sections": true,
   "sideBar": true,
   "skip_h1_title": false,
   "title_cell": "Table of Contents",
   "title_sidebar": "Contents",
   "toc_cell": false,
   "toc_position": {},
   "toc_section_display": true,
   "toc_window_display": false
  }
 },
 "nbformat": 4,
 "nbformat_minor": 2
}
