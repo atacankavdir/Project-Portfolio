{
 "cells": [
  {
   "cell_type": "code",
   "execution_count": 1,
   "metadata": {},
   "outputs": [],
   "source": [
    "import numpy as np, random\n",
    "def mutation(arr,prob,numswi):\n",
    "    num = len(arr)\n",
    "    mutarr = arr\n",
    "    for i in range(0,num):\n",
    "        dice = random.uniform(0, 1)\n",
    "        if dice <= prob:\n",
    "            if mutarr[i] == 0:\n",
    "                mutarr[i] = 1\n",
    "            else:\n",
    "                mutarr[i] = 0                 \n",
    "    for i in range(0,numswi):\n",
    "        dice = random.uniform(0, 1)\n",
    "        if dice <= prob:\n",
    "            p1 = random.randint(0,num-1)\n",
    "            p2 = random.randint(0,num-1)\n",
    "            mutarr[p1], mutarr[p2] = mutarr[p2], mutarr[p1]   \n",
    "    \n",
    "    return np.array(mutarr)"
   ]
  },
  {
   "cell_type": "code",
   "execution_count": 2,
   "metadata": {},
   "outputs": [],
   "source": [
    "import numpy as np\n",
    "def reproduction(par1,par2,l,u):\n",
    "    num = len(par1)\n",
    "    child  = par2[0:l] + par1[l:u+1] + par2[u+1:num]  \n",
    "#    child2 = par1[0:l] + par2[l:u+1] + par1[u+1:num]\n",
    "    return np.array(child)\n",
    "#    return np.array(child), np.array(child2)"
   ]
  },
  {
   "cell_type": "markdown",
   "metadata": {},
   "source": [
    "# Original Version"
   ]
  },
  {
   "cell_type": "code",
   "execution_count": 288,
   "metadata": {},
   "outputs": [],
   "source": [
    "def GIPSolver(A,b,c,size,time,ratio,prob,l,u):\n",
    "    cons, var = A.shape\n",
    "    sols = np.array([np.zeros(var),np.ones(var)])\n",
    "    # initial population #######################################################\n",
    "    for i in range(size):\n",
    "        sol = np.random.choice([0, 1], size=(var,), p=[1/3, 2/3])\n",
    "        sols = np.append(sols,[sol],axis=0)\n",
    "    LHS = np.dot(A,np.transpose(sols))    \n",
    "    for i in range(size):    \n",
    "        LHS[:,i] = LHS[:,i] - np.transpose(b) \n",
    "    LHS = LHS*100\n",
    "    LHS[LHS>0] = 0\n",
    "   # penalizing infeasibility better ##########################################\n",
    "#   for i in range(size): \n",
    "#       for j in range(cons): \n",
    "#           if LHS[i,j]<0: \n",
    "#               LHS[i,j] = LHS[i,j] - 100\n",
    "   ############################################################################\n",
    "    score = np.dot(c,np.transpose(sols)) - LHS.sum(axis=0)\n",
    "    sortindex = np.argsort(score)\n",
    "   ############################################################################\n",
    "    for t in range(time):          \n",
    "   # Reproduction Phase - Crossover ###########################################\n",
    "        numitem, rep = 0, 1\n",
    "        children = np.empty([np.int(size*ratio)+1, var])\n",
    "        while numitem <= np.int(size*ratio): \n",
    "            p1 = random.randint(0,np.int(size*ratio)-1)\n",
    "            if rep == 1:\n",
    "                p2 = random.randint(0,np.int(size*ratio)-1)\n",
    "                child = reproduction(sols[p1,:].tolist(),sols[p2,:].tolist(),l,u)\n",
    "                rep = 2\n",
    "            else:\n",
    "                p3 = random.randint(np.int(size*ratio),size-1)\n",
    "                child = reproduction(sols[p1,:].tolist(),sols[p3,:].tolist(),l,u)\n",
    "                rep = 1\n",
    "            children[numitem,:] = child \n",
    "#           np.row_stack((children,child))\n",
    "            numitem += 1\n",
    "       \n",
    "        sols = np.delete(sols,sortindex[np.int(size*0.5+1):np.int(size+2)],0)\n",
    "        sols = np.row_stack((sols,children))\n",
    "        # recalculation ########################################################\n",
    "        LHS = np.dot(A,np.transpose(sols))    \n",
    "        for i in range(LHS.shape[1]):    \n",
    "            LHS[:,i] = LHS[:,i] - np.transpose(b) \n",
    "        LHS = LHS*100\n",
    "        LHS[LHS>0] = 0\n",
    "        score = np.dot(c,np.transpose(sols)) - LHS.sum(axis=0)\n",
    "        sortindex = np.argsort(score)\n",
    "\n",
    "        # Mutation Phase #######################################################\n",
    "        nmut = 0\n",
    "        while nmut < np.int(size*ratio):\n",
    "            ind = random.randint(1,size-2)\n",
    "            sols[sortindex[ind],:] = mutation(sols[sortindex[ind],:],prob,np.int(size*ratio))\n",
    "            nmut += 1           \n",
    "        # Migration Phase ######################################################\n",
    "        sols = np.unique(sols, axis=0)\n",
    "        distinct, var = np.shape(sols)\n",
    "        if distinct < size+2:\n",
    "            for i in range(size-distinct+2):\n",
    "                sol = np.random.choice([0, 1], size=(var,), p=[1/3, 2/3])\n",
    "                sols = np.append(sols,[sol],axis=0) \n",
    "        # recalculation        \n",
    "        LHS = np.dot(A,np.transpose(sols))    \n",
    "        for i in range(size+2):    \n",
    "            LHS[:,i] = LHS[:,i] - np.transpose(b) \n",
    "        LHS = LHS*100\n",
    "        LHS[LHS>0] = 0\n",
    "        score = np.dot(c,np.transpose(sols)) - LHS.sum(axis=0)\n",
    "        sortindex = np.argsort(score)\n",
    "\n",
    "    return sols[sortindex[0],:], sum(sols[sortindex[0],:]*c)\n"
   ]
  },
  {
   "cell_type": "markdown",
   "metadata": {},
   "source": [
    "# PART A"
   ]
  },
  {
   "cell_type": "code",
   "execution_count": 295,
   "metadata": {},
   "outputs": [],
   "source": [
    "import numpy as np, random\n",
    "from array import *\n",
    "\n",
    "def GIPSolver_v2(A,b,c,size,time,ratio,prob,l,u):\n",
    "    cons, var = A.shape\n",
    "    sols = np.array([np.zeros(var),np.ones(var)])\n",
    "    # initial population #######################################################\n",
    "    for i in range(size):\n",
    "        sol = np.random.choice([0, 1], size=(var,), p=[1/3, 2/3])\n",
    "        sols = np.append(sols,[sol],axis=0)\n",
    "    LHS = np.dot(A,np.transpose(sols))   \n",
    "    for i in range(size):    \n",
    "        LHS[:,i] = LHS[:,i] - np.transpose(b) \n",
    "    LHS = LHS*100\n",
    "    LHS[LHS>0] = 0\n",
    "    # penalizing infeasibility better ##########################################\n",
    "    #   for i in range(size): \n",
    "    #       for j in range(cons): \n",
    "    #           if LHS[i,j]<0: \n",
    "    #               LHS[i,j] = LHS[i,j] - 100\n",
    "    ############################################################################\n",
    "    score = np.dot(c,np.transpose(sols)) - LHS.sum(axis=0)\n",
    "    sortindex = np.argsort(score)\n",
    "    ############################################################################\n",
    "    for t in range(time):          \n",
    "    # Reproduction Phase - Crossover ###########################################\n",
    "        # Reproduction Phase - Crossover ###########################################\n",
    "        numitem, rep = 0, 1\n",
    "        #Sols matrix was used in unsorted shape, however in genetic reproduction it is necessary to identify strong members.\n",
    "        #With using sortindex, our populations reproduction is far more efficient now.\n",
    "        children = np.empty([np.int(size*ratio)+1, var])\n",
    "        while numitem <= np.int(size*ratio): \n",
    "            p1 = random.randint(0,np.int(size*ratio)-1)\n",
    "            if rep == 1:\n",
    "                p2 = random.randint(0,np.int(size*ratio)-1)\n",
    "                child = reproduction(sols[sortindex[p1],:].tolist(),sols[sortindex[p2],:].tolist(),l,u)\n",
    "                rep = 2\n",
    "            else:\n",
    "                p3 = random.randint(np.int(size*ratio),size-1)\n",
    "                child = reproduction(sols[sortindex[p1],:].tolist(),sols[sortindex[p3],:].tolist(),l,u)\n",
    "                rep = 1\n",
    "            children[numitem,:] = child \n",
    "        #           np.row_stack((children,child))\n",
    "            numitem += 1\n",
    "\n",
    "            #In previous version, delete operation was performed first and append operation of new reproduced members were second.\n",
    "            #That was causing the loss of valuable members. \n",
    "            #The solution was appending new members, making a new calculation and then deleting useless members.\n",
    "            # recalculation ########################################################\n",
    "            LHS = np.dot(A,np.transpose(sols))    \n",
    "            for i in range(LHS.shape[1]):    \n",
    "                LHS[:,i] = LHS[:,i] - np.transpose(b) \n",
    "            LHS = LHS*100\n",
    "            LHS[LHS>0] = 0\n",
    "            score = np.dot(c,np.transpose(sols)) - LHS.sum(axis=0)\n",
    "            sortindex = np.argsort(score)\n",
    "\n",
    "            sols = np.delete(sols,sortindex[np.int(size+2):],0)\n",
    "\n",
    "            # recalculation ########################################################\n",
    "            LHS = np.dot(A,np.transpose(sols))    \n",
    "            for i in range(LHS.shape[1]):    \n",
    "                LHS[:,i] = LHS[:,i] - np.transpose(b) \n",
    "            LHS = LHS*100\n",
    "            LHS[LHS>0] = 0\n",
    "            score = np.dot(c,np.transpose(sols)) - LHS.sum(axis=0)\n",
    "            sortindex = np.argsort(score)\n",
    "\n",
    "            # Mutation Phase #######################################################\n",
    "            #In mutation phase, original members were replaced by newly produced members without knowing the new ones are better.\n",
    "            #That was causing loss of valuable members. \n",
    "            #The solution was appending new mutated members, making a new calculation and then deleting useless members.\n",
    "            nmut = 0\n",
    "            while nmut < np.int(size*ratio):\n",
    "                ind = random.randint(1,size-2)\n",
    "                sols = np.row_stack((sols, mutation(sols[sortindex[ind],:],prob,np.int(size*ratio))))\n",
    "                nmut += 1           \n",
    "            # Migration Phase ######################################################\n",
    "            sols = np.unique(sols, axis=0)\n",
    "            distinct, var = np.shape(sols)\n",
    "            if distinct < size+2:\n",
    "                for i in range(size-distinct+2):\n",
    "                    sol = np.random.choice([0, 1], size=(var,), p=[1/3, 2/3])\n",
    "                    sols = np.append(sols,[sol],axis=0) \n",
    "            # recalculation        \n",
    "            LHS = np.dot(A,np.transpose(sols))    \n",
    "            for i in range(size+2):    \n",
    "                LHS[:,i] = LHS[:,i] - np.transpose(b) \n",
    "            LHS = LHS*100\n",
    "            LHS[LHS>0] = 0\n",
    "            score = np.dot(c,np.transpose(sols)) - LHS.sum(axis=0)\n",
    "            sortindex = np.argsort(score) \n",
    "    print(sols[sortindex[0],:])\n",
    "    print(sum(sols[sortindex[0],:]*c))"
   ]
  },
  {
   "cell_type": "code",
   "execution_count": 270,
   "metadata": {},
   "outputs": [
    {
     "name": "stdout",
     "output_type": "stream",
     "text": [
      "Optimal Solution is:\n",
      "[0, 0, 1, 1, 1, 0, 0, 0, 1, 1]\n",
      "Optimal Value is:\n",
      "14\n"
     ]
    }
   ],
   "source": [
    "def optimal_knapsack_solver(A,b,c):\n",
    "    #Create a list of all possible solutions \n",
    "    import itertools\n",
    "    lst = list(map(list, itertools.product([0, 1], repeat=len(c))))\n",
    "    # Multiply constraints with all possible solutions\n",
    "    std = np.dot(A,np.transpose(lst)) \n",
    "\n",
    "    #Calculate the differences between calculated solutions and constraints\n",
    "    diff = np.transpose(std) - np.transpose(b)\n",
    "\n",
    "    #Calculate and append objective functions value and find optimal solution\n",
    "    sol_list = []\n",
    "    for i in range(0,len(diff)):\n",
    "        if (diff[i][0] > 0) |  (diff[i][1] > 0) |  (diff[i][2] > 0) :\n",
    "            sol_list.append(0)\n",
    "        else: \n",
    "            sol_list.append(sum(lst[i]*c))\n",
    "\n",
    "    optimal_solution, optimal_value = lst[sol_list.index(max(sol_list))] , max(sol_list)  \n",
    "    print('Optimal Solution is:')\n",
    "    print(optimal_solution)\n",
    "    print(optimal_value)\n",
    "    \n",
    "anumeric_knapsack_solver(A,b,c)"
   ]
  },
  {
   "cell_type": "markdown",
   "metadata": {},
   "source": [
    "### Problem 1"
   ]
  },
  {
   "cell_type": "code",
   "execution_count": 271,
   "metadata": {},
   "outputs": [
    {
     "name": "stdout",
     "output_type": "stream",
     "text": [
      "Optimal Solution is:\n",
      "[0, 0, 1, 1, 1, 0, 0, 0, 1, 1]\n",
      "14\n",
      "Original GIPSolver\n",
      "[1. 1. 0. 0. 1. 1. 0. 1. 0. 0.]\n",
      "7.0\n",
      "Modified GIPSolver\n",
      "[1. 1. 0. 0. 1. 1. 0. 1. 0. 0.]\n",
      "7.0\n"
     ]
    }
   ],
   "source": [
    "c = np.array([1, 2, 3, 4, 2, 1, 3, 1, 2, 3])\n",
    "A = np.array([[1, 2, 2, 1, 2, 1, 3, 2, 1, 2],[2, 2, 2, 1, 0, 2, 0, 3, 2, 1], [3, 1, 0, 1, 2, 0, 1, 2, 3, 0]])\n",
    "b = [8, 9, 7] \n",
    "\n",
    "#Optimal Solution\n",
    "optimal_knapsack_solver(A,b,c)\n",
    "\n",
    "#Original GIPSolver\n",
    "sol, score = GIPSolver(A,b,c,100,100,0.5,0.2,4,5)\n",
    "print('Original GIPSolver')\n",
    "print(sol)\n",
    "print(score)\n",
    "#Modified GIPSolver\n",
    "print('Modified GIPSolver')\n",
    "GIPSolver_v2(A,b,c,100,100,0.5,0.2,4,5)   "
   ]
  },
  {
   "cell_type": "markdown",
   "metadata": {},
   "source": [
    "### Problem 2"
   ]
  },
  {
   "cell_type": "code",
   "execution_count": 272,
   "metadata": {},
   "outputs": [
    {
     "name": "stdout",
     "output_type": "stream",
     "text": [
      "Optimal Solution is:\n",
      "[1, 1, 0, 0, 0, 1, 0, 1, 1, 1]\n",
      "19\n",
      "Original GIPSolver\n",
      "[0. 1. 1. 0. 1. 0. 1. 0. 0. 1.]\n",
      "11.0\n",
      "Modified GIPSolver\n",
      "[0. 1. 1. 1. 1. 0. 1. 0. 0. 1.]\n",
      "11.0\n"
     ]
    }
   ],
   "source": [
    "import random\n",
    "c = np.array([random.randint(0,4) for i in range(10)])\n",
    "A = np.array([[random.randint(0,4) for i in range(10)], [random.randint(0,4) for i in range(10)],[random.randint(0,4) for i in range(10)]])\n",
    "b = [random.randint(10,12) for i in range(3)]\n",
    "\n",
    "#Optimal Solution\n",
    "optimal_knapsack_solver(A,b,c)\n",
    "\n",
    "#Original GIPSolver\n",
    "sol, score = GIPSolver(A,b,c,100,100,0.5,0.4,4,7)\n",
    "print('Original GIPSolver')\n",
    "print(sol)\n",
    "print(score)\n",
    "#Modified GIPSolver\n",
    "print('Modified GIPSolver')\n",
    "GIPSolver_v2(A,b,c,100,100,0.5,0.4,4,7)"
   ]
  },
  {
   "cell_type": "markdown",
   "metadata": {},
   "source": [
    "### Problem 3"
   ]
  },
  {
   "cell_type": "code",
   "execution_count": 296,
   "metadata": {},
   "outputs": [
    {
     "name": "stdout",
     "output_type": "stream",
     "text": [
      "Optimal Solution is:\n",
      "[1, 0, 0, 0, 0, 1, 0, 1, 1, 1]\n",
      "15\n",
      "Original GIPSolver\n",
      "[0. 1. 1. 0. 0. 0. 0. 1. 1. 1.]\n",
      "9.0\n",
      "Modified GIPSolver\n",
      "[0. 1. 1. 0. 0. 0. 0. 1. 1. 1.]\n",
      "9.0\n"
     ]
    }
   ],
   "source": [
    "c = np.array([random.randint(0,4) for i in range(10)])\n",
    "A = np.array([[random.randint(0,4) for i in range(10)], [random.randint(0,4) for i in range(10)],[random.randint(0,4) for i in range(10)]])\n",
    "b = [random.randint(11,13) for i in range(3)]\n",
    "\n",
    "#Optimal Solution\n",
    "optimal_knapsack_solver(A,b,c)\n",
    "\n",
    "#Original GIPSolver\n",
    "sol, score = GIPSolver(A,b,c,100,100,0.5,0.4,4,7)\n",
    "print('Original GIPSolver')\n",
    "print(sol)\n",
    "print(score)\n",
    "#Modified GIPSolver\n",
    "print('Modified GIPSolver')\n",
    "GIPSolver_v2(A,b,c,100,100,0.5,0.4,4,7)"
   ]
  },
  {
   "cell_type": "markdown",
   "metadata": {},
   "source": [
    "### Problem 4"
   ]
  },
  {
   "cell_type": "code",
   "execution_count": 274,
   "metadata": {},
   "outputs": [
    {
     "name": "stdout",
     "output_type": "stream",
     "text": [
      "Optimal Solution is:\n",
      "[0, 0, 0, 1, 1, 0, 1, 0, 0, 1]\n",
      "12\n",
      "Original GIPSolver\n",
      "[1. 0. 0. 1. 0. 1. 0. 1. 0. 0.]\n",
      "5.0\n",
      "Modified GIPSolver\n",
      "[1. 0. 0. 1. 0. 1. 0. 1. 0. 0.]\n",
      "5.0\n"
     ]
    }
   ],
   "source": [
    "c = np.array([random.randint(0,4) for i in range(10)])\n",
    "A = np.array([[random.randint(0,4) for i in range(10)], [random.randint(0,4) for i in range(10)],[random.randint(0,4) for i in range(10)]])\n",
    "b = [random.randint(9,12) for i in range(3)]\n",
    "\n",
    "#Optimal Solution\n",
    "optimal_knapsack_solver(A,b,c)\n",
    "\n",
    "#Original GIPSolver\n",
    "sol, score = GIPSolver(A,b,c,100,100,0.5,0.5,4,7)\n",
    "print('Original GIPSolver')\n",
    "print(sol)\n",
    "print(score)\n",
    "#Modified GIPSolver\n",
    "print('Modified GIPSolver')\n",
    "GIPSolver_v2(A,b,c,100,100,0.5,0.5,4,7)"
   ]
  },
  {
   "cell_type": "markdown",
   "metadata": {},
   "source": [
    "### Problem 5"
   ]
  },
  {
   "cell_type": "code",
   "execution_count": 294,
   "metadata": {},
   "outputs": [
    {
     "name": "stdout",
     "output_type": "stream",
     "text": [
      "Optimal Solution is:\n",
      "[0, 0, 1, 1, 0, 0, 1, 0, 1, 1]\n",
      "19\n",
      "Original GIPSolver\n",
      "[1. 0. 1. 1. 1. 1. 0. 1. 0. 0.]\n",
      "13.0\n",
      "Modified GIPSolver\n",
      "[1. 0. 1. 1. 1. 1. 0. 1. 0. 0.]\n",
      "13.0\n"
     ]
    }
   ],
   "source": [
    "c = np.array([random.randint(0,4) for i in range(10)])\n",
    "A = np.array([[random.randint(0,4) for i in range(10)], [random.randint(0,4) for i in range(10)],[random.randint(0,4) for i in range(10)]])\n",
    "b = [random.randint(13,15) for i in range(3)]\n",
    "\n",
    "\n",
    "#Optimal Solution\n",
    "optimal_knapsack_solver(A,b,c)\n",
    "\n",
    "#Original GIPSolver\n",
    "sol, score = GIPSolver(A,b,c,50,100,0.5,0.2,3,4)\n",
    "print('Original GIPSolver')\n",
    "print(sol)\n",
    "print(score)\n",
    "#Modified GIPSolver\n",
    "print('Modified GIPSolver')\n",
    "GIPSolver_v2(A,b,c,50,100,0.5,0.2,3,4)"
   ]
  },
  {
   "cell_type": "markdown",
   "metadata": {},
   "source": [
    "# PART B"
   ]
  },
  {
   "cell_type": "code",
   "execution_count": 359,
   "metadata": {},
   "outputs": [],
   "source": [
    "def GIPSolver_eq(A,b,c,size,time,ratio,prob,l,u):\n",
    "    cons, var = A.shape\n",
    "    sols = np.array([np.zeros(var),np.ones(var)])\n",
    "    # initial population #######################################################\n",
    "    for i in range(size):\n",
    "        sol = np.random.choice([0, 1], size=(var,), p=[1/3, 2/3])\n",
    "        sols = np.append(sols,[sol],axis=0)\n",
    "    LHS = np.dot(A,np.transpose(sols))    \n",
    "    for i in range(size):    \n",
    "        LHS[:,i] = LHS[:,i] - np.transpose(b) \n",
    "    LHS = LHS*100\n",
    "   # penalizing infeasibility better ##########################################\n",
    "#   for i in range(size): \n",
    "#       for j in range(cons): \n",
    "#           if LHS[i,j]<0: \n",
    "#               LHS[i,j] = LHS[i,j] - 100\n",
    "   ############################################################################\n",
    "    score = np.dot(c,np.transpose(sols)) + np.absolute(LHS.sum(axis=0))\n",
    "    sortindex = np.argsort(score)\n",
    "   ############################################################################\n",
    "    for t in range(time):          \n",
    "   # Reproduction Phase - Crossover ###########################################\n",
    "        numitem, rep = 0, 1\n",
    "        children = np.empty([np.int(size*ratio)+1, var])\n",
    "        while numitem <= np.int(size*ratio): \n",
    "            p1 = random.randint(0,np.int(size*ratio)-1)\n",
    "            if rep == 1:\n",
    "                p2 = random.randint(0,np.int(size*ratio)-1)\n",
    "                child = reproduction(sols[p1,:].tolist(),sols[p2,:].tolist(),l,u)\n",
    "                rep = 2\n",
    "            else:\n",
    "                p3 = random.randint(np.int(size*ratio),size-1)\n",
    "                child = reproduction(sols[p1,:].tolist(),sols[p3,:].tolist(),l,u)\n",
    "                rep = 1\n",
    "            children[numitem,:] = child \n",
    "#           np.row_stack((children,child))\n",
    "            numitem += 1\n",
    "       \n",
    "        sols = np.delete(sols,sortindex[np.int(size*0.5+1):np.int(size+2)],0)\n",
    "        sols = np.row_stack((sols,children))\n",
    "        # recalculation ########################################################\n",
    "        LHS = np.dot(A,np.transpose(sols))    \n",
    "        for i in range(LHS.shape[1]):    \n",
    "            LHS[:,i] = LHS[:,i] - np.transpose(b) \n",
    "        LHS = LHS*100\n",
    "        score = np.dot(c,np.transpose(sols)) + np.absolute(LHS.sum(axis=0))\n",
    "        sortindex = np.argsort(score)\n",
    "\n",
    "        # Mutation Phase #######################################################\n",
    "        nmut = 0\n",
    "        while nmut < np.int(size*ratio):\n",
    "            ind = random.randint(1,size-2)\n",
    "            sols[sortindex[ind],:] = mutation(sols[sortindex[ind],:],prob,np.int(size*ratio))\n",
    "            nmut += 1           \n",
    "        # Migration Phase ######################################################\n",
    "        sols = np.unique(sols, axis=0)\n",
    "        distinct, var = np.shape(sols)\n",
    "        if distinct < size+2:\n",
    "            for i in range(size-distinct+2):\n",
    "                sol = np.random.choice([0, 1], size=(var,), p=[1/3, 2/3])\n",
    "                sols = np.append(sols,[sol],axis=0) \n",
    "        # recalculation        \n",
    "        LHS = np.dot(A,np.transpose(sols))    \n",
    "        for i in range(size+2):    \n",
    "            LHS[:,i] = LHS[:,i] - np.transpose(b) \n",
    "        LHS = LHS*100\n",
    "        score = np.dot(c,np.transpose(sols)) + np.absolute(LHS.sum(axis=0))\n",
    "        sortindex = np.argsort(score)\n",
    "\n",
    "    return sols[sortindex[0],:], sum(sols[sortindex[0],:]*c)\n"
   ]
  },
  {
   "cell_type": "code",
   "execution_count": 461,
   "metadata": {},
   "outputs": [],
   "source": [
    "def optimal_knapsack_solver_eq(A,b,c):\n",
    "    #Create a list of all possible solutions \n",
    "    import itertools\n",
    "    lst = list(map(list, itertools.product([0, 1], repeat=len(c))))\n",
    "    # Multiply constraints with all possible solutions\n",
    "    std = np.dot(A,np.transpose(lst)) \n",
    "\n",
    "    #Calculate the differences between calculated solutions and constraints\n",
    "    diff = np.transpose(std) - np.transpose(b)\n",
    "\n",
    "    #Calculate and append objective functions value and find optimal solution\n",
    "    sol_list = []\n",
    "    for i in range(0,len(diff)):\n",
    "        if (diff[i][0] == 0) :\n",
    "            sol_list.append(sum(lst[i]*c))\n",
    "        else: \n",
    "            sol_list.append(0)\n",
    "\n",
    "    optimal_solution, optimal_value = lst[sol_list.index(max(sol_list))] , max(sol_list)  \n",
    "    print('Optimal Solution is:')\n",
    "    print(optimal_solution)\n",
    "    print(optimal_value)\n",
    "    "
   ]
  },
  {
   "cell_type": "markdown",
   "metadata": {},
   "source": [
    "### Problem 1"
   ]
  },
  {
   "cell_type": "code",
   "execution_count": 479,
   "metadata": {
    "scrolled": true
   },
   "outputs": [
    {
     "name": "stdout",
     "output_type": "stream",
     "text": [
      "Optimal Solution is:\n",
      "[1, 1, 1, 1, 1]\n",
      "16\n",
      "Modified Equality GIPSolver\n",
      "[1. 0. 1. 1. 1.]\n",
      "12.0\n"
     ]
    }
   ],
   "source": [
    "c = np.array([random.randint(0,4) for i in range(5)])\n",
    "A = np.array([[random.randint(0,4) for i in range(5)]])\n",
    "b = [random.randint(7,9) for i in range(1)]\n",
    "\n",
    "\n",
    "#Optimal Solution\n",
    "optimal_knapsack_solver_eq(A,b,c)\n",
    "\n",
    "#Original GIPSolver\n",
    "sol, score = GIPSolver_eq(A,b,c,50,100,0.5,0.2,3,4)\n",
    "print('Modified Equality GIPSolver')\n",
    "print(sol)\n",
    "print(score)"
   ]
  }
 ],
 "metadata": {
  "kernelspec": {
   "display_name": "Python 3",
   "language": "python",
   "name": "python3"
  },
  "language_info": {
   "codemirror_mode": {
    "name": "ipython",
    "version": 3
   },
   "file_extension": ".py",
   "mimetype": "text/x-python",
   "name": "python",
   "nbconvert_exporter": "python",
   "pygments_lexer": "ipython3",
   "version": "3.7.3"
  }
 },
 "nbformat": 4,
 "nbformat_minor": 2
}
