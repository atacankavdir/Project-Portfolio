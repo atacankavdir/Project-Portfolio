{
 "cells": [
  {
   "cell_type": "markdown",
   "metadata": {},
   "source": [
    "# Class Grade Prediction"
   ]
  },
  {
   "cell_type": "markdown",
   "metadata": {},
   "source": [
    "The summary results are below, for further information; code part consists of detailed explanations.\n",
    "\n",
    "Several new functions defined with the purpose of data manipulation and feature engineering.\n",
    "\n",
    "For Q1;\n",
    "    According to given information, I defined the final score function and apply it without MT3 score.\n",
    "    So my predictor is : calculated final score\n",
    "    The target is : pass/fail condition\n",
    "    I checked distribution of the feature and the target and there is no obstacle to use this setting.\n",
    "    Decision tree classifer has been used as the predictor and the results are:\n",
    "    Class:A\n",
    "    Accuracy Score: 0.9423076923076923\n",
    "        \n",
    "    Class:B\n",
    "    Accuracy Score: 0.8571428571428571\n",
    "        \n",
    "    Class:C\n",
    "    Accuracy Score: 0.8970588235294118\n",
    "\n",
    "For Q2;\n",
    "    According to given information, I used only MT1 scores of all semesters and apply it..\n",
    "    So my predictor is : MT1 scores of prior semesters\n",
    "    The target is : pass/fail condition\n",
    "    I checked distribution of the feature and the target and there is no obstacle to use this setting.\n",
    "    Decision tree classifer has been used as the predictor and the result is:\n",
    "\n",
    "    Accuracy Score: 0.7891156462585034\n",
    "        \n",
    "For Q3;\n",
    "    According to given information, I used TOTALs of class A and class B with the assumption of they include other column information.\n",
    "    So my predictor is : TOTAL columns of class A and B \n",
    "    The target is : pass/fail condition\n",
    "    I checked distribution of the feature and the target and there is no obstacle to use this setting.\n",
    "    Several different predictors has been tried with cross validation and the GradientBoostingClassifier has been selected.\n",
    "    The results are:\n",
    "    \n",
    "    DecisionTreeClassifier\n",
    "    Accuracy Score of each fold\n",
    "    [0.8372093  0.86046512 0.94186047]\n",
    "    Mean Accuracy Score - 0.87984496124031\n",
    "    \n",
    "    BaggingClassifier\n",
    "    Accuracy Score of each fold\n",
    "    [0.84883721 0.87209302 0.94186047]\n",
    "    Mean Accuracy Score - 0.8875968992248061\n",
    "    \n",
    "    RandomForestClassifier\n",
    "    Accuracy Score of each fold\n",
    "    [0.86046512 0.86046512 0.90697674]\n",
    "    Mean Accuracy Score - 0.8759689922480619\n",
    "    \n",
    "    AdaBoostClassifier\n",
    "    Accuracy Score of each fold\n",
    "    [0.88372093 0.8372093  0.93023256]\n",
    "    Mean Accuracy Score - 0.883720930232558\n",
    "    \n",
    "    GradientBoostingClassifier\n",
    "    Accuracy Score of each fold\n",
    "    [0.89534884 0.86046512 0.94186047]\n",
    "    Mean Accuracy Score - 0.8992248062015503\n",
    "\n",
    "For Q4:\n",
    "    According to given information, I used TOTALs of class A, class B and also more recent MT1 score.\n",
    "    So my predictor is : TOTAL columns of class A, B, and MT1 score of class C. \n",
    "    The target is : pass/fail condition\n",
    "    I checked distribution of the feature and the target and there is no obstacle to use this setting.\n",
    "    Several different predictors has been tried with cross validation and the AdaBoostClassifier has been selected.\n",
    "    It is no suprise that our previous accuracy scores in Q3 has improved significantly with new information.\n",
    "    The results are:\n",
    "        \n",
    "    DecisionTreeClassifier\n",
    "    Accuracy Score of each fold\n",
    "    [0.88372093 0.87209302 0.95348837]\n",
    "    Mean Accuracy Score - 0.9031007751937984\n",
    "    \n",
    "    BaggingClassifier\n",
    "    Accuracy Score of each fold\n",
    "    [0.91860465 0.86046512 0.93023256]\n",
    "    Mean Accuracy Score - 0.9031007751937984\n",
    "    \n",
    "    RandomForestClassifier\n",
    "    Accuracy Score of each fold\n",
    "    [0.94186047 0.87209302 0.95348837]\n",
    "    Mean Accuracy Score - 0.9224806201550387\n",
    "    \n",
    "    AdaBoostClassifier\n",
    "    Accuracy Score of each fold\n",
    "    [0.93023256 0.91860465 0.94186047]\n",
    "    Mean Accuracy Score - 0.9302325581395349\n",
    "    \n",
    "    GradientBoostingClassifier\n",
    "    Accuracy Score of each fold\n",
    "    [0.93023256 0.88372093 0.95348837]\n",
    "    Mean Accuracy Score - 0.9224806201550387\n",
    "\n",
    "For Q5:\n",
    "    According to given information, I have used all available information.\n",
    "    So my predictor is : columns of class A, B and C. \n",
    "    The target is : GPA Brackets\n",
    "    I checked distribution of the feature and the target and there is no obstacle to use this setting.\n",
    "    Several different predictors has been tried with cross validation and with consideration of \n",
    "        accuracy and MSE, BaggingClassifier has been selected.\n",
    "    It is no suprise that our accuracy score decreased because our classification layers increased.\n",
    "    The results are:\n",
    "        \n",
    "    --------------------Accuracy Scores--------------------------\n",
    "    \n",
    "    DecisionTreeClassifier\n",
    "    Accuracy Score of each fold\n",
    "    [0.51851852 0.55555556 0.59259259]\n",
    "    Mean Accuracy Score - 0.5555555555555555\n",
    "    BaggingClassifier\n",
    "    Accuracy Score of each fold\n",
    "    [0.64197531 0.64197531 0.64197531]\n",
    "    Mean Accuracy Score - 0.6419753086419753\n",
    "    RandomForestClassifier\n",
    "    Accuracy Score of each fold\n",
    "    [0.65432099 0.55555556 0.58024691]\n",
    "    Mean Accuracy Score - 0.5967078189300411\n",
    "    AdaBoostClassifier\n",
    "    Accuracy Score of each fold\n",
    "    [0.45679012 0.50617284 0.40740741]\n",
    "    Mean Accuracy Score - 0.45679012345679015\n",
    "    GradientBoostingClassifier\n",
    "    Accuracy Score of each fold\n",
    "    [0.62962963 0.58024691 0.59259259]\n",
    "    Mean Accuracy Score - 0.6008230452674898\n",
    "\n",
    "    --------------------MSE Scores--------------------------\n",
    "\n",
    "    DecisionTreeClassifier\n",
    "    Accuracy Score of each fold\n",
    "    [-0.9382716 -0.7037037 -0.7654321]\n",
    "    Mean Accuracy Score - -0.8024691358024691\n",
    "    BaggingClassifier\n",
    "    Accuracy Score of each fold\n",
    "    [-0.54320988 -0.50617284 -0.4691358 ]\n",
    "    Mean Accuracy Score - -0.5061728395061729\n",
    "    RandomForestClassifier\n",
    "    Accuracy Score of each fold\n",
    "    [-0.5308642  -0.61728395 -0.60493827]\n",
    "    Mean Accuracy Score - -0.5843621399176955\n",
    "    AdaBoostClassifier\n",
    "    Accuracy Score of each fold\n",
    "    [-0.72839506 -0.64197531 -0.85185185]\n",
    "    Mean Accuracy Score - -0.7407407407407408\n",
    "    GradientBoostingClassifier\n",
    "    Accuracy Score of each fold\n",
    "    [-0.59259259 -0.67901235 -0.44444444]\n",
    "    Mean Accuracy Score - -0.5720164609053497\n",
    "\n",
    "    However, overfit is a threat which would originated by high number of features and low number of sample size. \n",
    "    I checked overfitting and implemented hyperparameter tuning with randomized search.\n",
    "    the result is;\n",
    "    \n",
    "    Accuracy Score =  0.7551020408163265\n",
    "    \n",
    "    The accuracy increased from 0.60 to 0.76.\n",
    "    \n",
    "    \n",
    "    \n",
    "    \n",
    "    \n",
    "    "
   ]
  },
  {
   "cell_type": "markdown",
   "metadata": {},
   "source": [
    "# Import Libs and Manually Implemented Functions "
   ]
  },
  {
   "cell_type": "code",
   "execution_count": 1,
   "metadata": {
    "scrolled": true
   },
   "outputs": [],
   "source": [
    "from Class_Grade_Prediction_utils import *"
   ]
  },
  {
   "cell_type": "markdown",
   "metadata": {},
   "source": [
    "# Q1"
   ]
  },
  {
   "cell_type": "markdown",
   "metadata": {},
   "source": [
    "Q1. For all the courses data given, use only the data of the respective course and predict\n",
    "the pass/fail condition of the students given that the MT3 score is not available. Please\n",
    "use a 80/20 test train split with a random state parameter equal to 42. Report you\n",
    "accuracy score for each course and provide a detailed explanation of your solution\n",
    "method."
   ]
  },
  {
   "cell_type": "code",
   "execution_count": 4,
   "metadata": {
    "scrolled": true
   },
   "outputs": [
    {
     "name": "stdout",
     "output_type": "stream",
     "text": [
      "class_A_dict is ready\n",
      "class_B_dict is ready\n",
      "class_C_dict is ready\n",
      "aggreated_dict_A is ready\n",
      "categorized_dict_A is ready\n",
      "aggreated_dict_B is ready\n",
      "categorized_dict_B is ready\n",
      "aggreated_dict_C is ready\n",
      "categorized_dict_C is ready\n",
      "q1_df_A is ready\n",
      "q1_df_B is ready\n",
      "q1_df_C is ready\n",
      "final_df_list is ready\n",
      "Class Dispersions\n",
      "Class:A\n"
     ]
    },
    {
     "data": {
      "text/plain": [
       "<Figure size 640x480 with 1 Axes>"
      ]
     },
     "metadata": {},
     "output_type": "display_data"
    },
    {
     "name": "stdout",
     "output_type": "stream",
     "text": [
      "Class:B\n"
     ]
    },
    {
     "data": {
      "text/plain": [
       "<Figure size 640x480 with 1 Axes>"
      ]
     },
     "metadata": {},
     "output_type": "display_data"
    },
    {
     "name": "stdout",
     "output_type": "stream",
     "text": [
      "Class:C\n"
     ]
    },
    {
     "data": {
      "text/plain": [
       "<Figure size 640x480 with 1 Axes>"
      ]
     },
     "metadata": {},
     "output_type": "display_data"
    }
   ],
   "source": [
    "#With respect to given information:\n",
    "#Main assumption is; MT3's importance on passing score is not changed over the years for A and B classes.\n",
    "#For class C, it was constant for first 3 years and it just increased %7.5 so it is proper to assume the weight of MT3 constant over the years.\n",
    "\n",
    "\n",
    "#This part creates and aggregates all necessary features and targets. Creates graphs of dispersions.\n",
    "\n",
    "\n",
    "#Re-creating our main dict's to be sure everything is clear and correct\n",
    "class_A_list, class_B_list, class_C_list, class_A_dict, class_B_dict, class_C_dict,GPANew= create_class_dicts()\n",
    "\n",
    "#This part uses former functions that we defined and creates final forms of main dictionaries.\n",
    "for class_letter in ['A', 'B','C']:\n",
    "    class_dict = locals()['class_'+class_letter+'_dict']\n",
    "    #Fiils all MT3 columns with 0, because it is given that we have no clue about this feature.\n",
    "    for dataframes in class_dict.values():\n",
    "        dataframes['MT3'] = 0\n",
    "    #Model decision took place in this section. While doing model; I decided to use only final score as the feature.\n",
    "    #The code which is below calculates final scores without MT3 and transforms Grade column in to binary form.\n",
    "    exec(\"aggreated_dict_\"+class_letter+\" = final_score_calculator(class_dict, class_name = class_letter)\")\n",
    "    exec(\"categorized_dict_\"+class_letter+\" = grade_categorizer(aggreated_dict_\"+class_letter+\")\")\n",
    "    print('aggreated_dict_'+class_letter+' is ready')\n",
    "    #And our output dict is ready to use\n",
    "    print('categorized_dict_'+class_letter+' is ready')\n",
    "    \n",
    "    \n",
    "#Create aggreagated single feature dataframes to create train and test datas.\n",
    "for class_letter in ['A', 'B','C']:\n",
    "    df_list=[]\n",
    "    final_df_list = []\n",
    "    categorized_dict = locals()['categorized_dict_'+class_letter]\n",
    "    #This part concatanates data of each class seperately in to dataframes which are ready to do tran and test split phase.\n",
    "    for value in categorized_dict.values():\n",
    "        df_list.append(value)\n",
    "        locals()['q1_df_'+class_letter] = pd.concat(df_list,keys=list(range(0,len(df_list))))\n",
    "        locals()['q1_df_'+class_letter] = locals()['q1_df_'+class_letter].reset_index().drop(['level_0', 'level_1'],axis = 1)\n",
    "    print('q1_df_'+class_letter+' is ready')\n",
    "\n",
    "#Pack class dataframes in list to iterate easily\n",
    "final_df_list = [q1_df_A, q1_df_B, q1_df_C]\n",
    "print('final_df_list is ready')\n",
    "\n",
    "\n",
    "#Lets view each semesters dispersion with simple scatter plot graphs\n",
    "print('Class Dispersions')\n",
    "for class_df, classy in zip(final_df_list, ['A', 'B', 'C']): \n",
    "    print('Class:' + classy )\n",
    "    scatter_plot_creater(class_df['FINAL_SCORE'],class_df['Grade'], 'Final_Score', 'Grade')"
   ]
  },
  {
   "cell_type": "code",
   "execution_count": 5,
   "metadata": {},
   "outputs": [
    {
     "name": "stdout",
     "output_type": "stream",
     "text": [
      "Class:A\n",
      "                   \n",
      "Class prediction: \n",
      "                   \n",
      "[[ 7  1]\n",
      " [ 2 42]]\n",
      "                   \n",
      "Accuracy Score: 0.9423076923076923\n",
      "Class:B\n",
      "                   \n",
      "Class prediction: \n",
      "                   \n",
      "[[ 7  3]\n",
      " [ 5 41]]\n",
      "                   \n",
      "Accuracy Score: 0.8571428571428571\n",
      "Class:C\n",
      "                   \n",
      "Class prediction: \n",
      "                   \n",
      "[[ 9  6]\n",
      " [ 1 52]]\n",
      "                   \n",
      "Accuracy Score: 0.8970588235294118\n"
     ]
    }
   ],
   "source": [
    "#This is the decision tree classifier which is our model.\n",
    "for class_df, classy in zip(final_df_list, ['A', 'B', 'C']): \n",
    "    df_feature = class_df['FINAL_SCORE']\n",
    "    target = class_df['Grade']\n",
    "    print('Class:' + classy )\n",
    "    train_x, test_x, train_y, test_y = train_test_split(df_feature, target, test_size = 0.2, random_state = 42, shuffle = True)\n",
    "    my_decision_tree(train_x,train_y,test_x,test_y)"
   ]
  },
  {
   "cell_type": "markdown",
   "metadata": {},
   "source": [
    "# Q2"
   ]
  },
  {
   "cell_type": "markdown",
   "metadata": {},
   "source": [
    "Q2. For Course C, given that 2013, 2014 and 2015 data is fully available and for Spring\n",
    "semester 2018, only MT1 score is available. You are supposed to predict the pass/fail\n",
    "condition of the students in 2018 given the available data. You may use any information\n",
    "regarding Course C (that is 2013, 2014 and 2015 data) as the training data and your\n",
    "test data will be the 2018 student data. Note that the grading scheme and the student\n",
    "body has changed over the years. Once again report your accuracy score and provide\n",
    "a detailed explanation of your solution method."
   ]
  },
  {
   "cell_type": "code",
   "execution_count": 7,
   "metadata": {},
   "outputs": [
    {
     "name": "stdout",
     "output_type": "stream",
     "text": [
      "class_A_dict is ready\n",
      "class_B_dict is ready\n",
      "class_C_dict is ready\n",
      "First 3 semesters (train data)\n"
     ]
    },
    {
     "data": {
      "image/png": "[encoded data removed]",
      "text/plain": [
       "<Figure size 432x288 with 1 Axes>"
      ]
     },
     "metadata": {},
     "output_type": "display_data"
    },
    {
     "data": {
      "image/png": "[encoded data removed]",
      "text/plain": [
       "<Figure size 432x288 with 1 Axes>"
      ]
     },
     "metadata": {},
     "output_type": "display_data"
    },
    {
     "data": {
      "image/png": "[encoded data removed]",
      "text/plain": [
       "<Figure size 432x288 with 1 Axes>"
      ]
     },
     "metadata": {},
     "output_type": "display_data"
    },
    {
     "name": "stdout",
     "output_type": "stream",
     "text": [
      "Last semester (test data)\n"
     ]
    },
    {
     "data": {
      "image/png": "[encoded data removed]",
      "text/plain": [
       "<Figure size 432x288 with 1 Axes>"
      ]
     },
     "metadata": {},
     "output_type": "display_data"
    }
   ],
   "source": [
    "#Re-creating our main dict's to be sure everything is clear and correct\n",
    "class_A_list, class_B_list, class_C_list, class_A_dict, class_B_dict, class_C_dict,GPANew = create_class_dicts()\n",
    "\n",
    "#Create a copy of our main dictionary. Just a reflex to protection.\n",
    "class_C_dict2 = class_C_dict.copy()\n",
    "\n",
    "#Exctract necessary parts of our raw data and pick MT1 and Grade columns\n",
    "for key, value in class_C_dict2.items():\n",
    "    class_C_dict2[key] = value[['MT1', 'Grade']]   \n",
    "\n",
    "#Transform Grade column to a categoric one.\n",
    "class_C_dict2 = grade_categorizer(class_C_dict2)\n",
    "\n",
    "#Here is our target semester\n",
    "df_C2018New = class_C_dict2['C2018New']\n",
    "\n",
    "#Unpacking necessary semesters from our main dict and appending them in to a list (list of semester dfs)\n",
    "train_semester_list = ['C2013New', 'C2014New','C2015New']\n",
    "first_3_semesters_list = [value for (key,value) in class_C_dict2.items() if key in train_semester_list] \n",
    "\n",
    "\n",
    "#Scatter plots of each class in terms of final scores without MT3 and binary form of grades\n",
    "import matplotlib.pyplot as plt\n",
    "print('First 3 semesters (train data)')\n",
    "for i in list(range(0,3)):\n",
    "    scatter_plot_creater(first_3_semesters_list[i]['MT1'],first_3_semesters_list[i]['Grade'], 'MT1', 'Grade')\n",
    "print('Last semester (test data)')\n",
    " \n",
    "scatter_plot_creater(df_C2018New['MT1'],df_C2018New['Grade'], 'MT1', 'Grade')\n",
    "    \n",
    "#According to below graphs of prior semesters, it is possible to see that there is almost exact relationship between MT1 Grade and the passing condition\n",
    "#However what we know is, weight of MT1 changed last semester and information is limited with MT1.\n",
    "#So it would be a good idea to apply weights of each semester and run a model afterwards. \n",
    "#However, I tried and it was -obviously- not a good idea.\n",
    "#So I decided to go simple and trained as it is"
   ]
  },
  {
   "cell_type": "code",
   "execution_count": 8,
   "metadata": {},
   "outputs": [
    {
     "name": "stdout",
     "output_type": "stream",
     "text": [
      "                   \n",
      "Class prediction: \n",
      "                   \n",
      "[[41 10]\n",
      " [21 75]]\n",
      "                   \n",
      "Accuracy Score: 0.7891156462585034\n"
     ]
    }
   ],
   "source": [
    "#training dataframe\n",
    "semester_df = pd.concat(first_3_semesters_list,keys=list(range(0,len(df_list))))\n",
    "semester_df.reset_index().drop(['level_0', 'level_1'],axis = 1)\n",
    "\n",
    "#test dataframe\n",
    "df_C2018New\n",
    "\n",
    "train_x = semester_df['MT1']\n",
    "train_y = semester_df['Grade']\n",
    "test_x = df_C2018New['MT1']\n",
    "test_y = df_C2018New['Grade']\n",
    "\n",
    "my_decision_tree(train_x,train_y,test_x,test_y)"
   ]
  },
  {
   "cell_type": "markdown",
   "metadata": {},
   "source": [
    "# Q3"
   ]
  },
  {
   "cell_type": "markdown",
   "metadata": {},
   "source": [
    "Q3.Assume that you have the full data available for Course A and B for years 2013, 2014\n",
    "and 2015. You are supposed to predict the pass/fail condition of the Course C students\n",
    "for years 2013, 2014 and 2015 with no information regarding Course C. Note that the\n",
    "students are mostly the same students in these courses although there might a semester\n",
    "shift (so one particular student taking Course A in 2013 but Course C in 2015). You\n",
    "prediction will be based solely on the information of the student in previous courses.\n",
    "Once again report your accuracy score and provide a detailed explanation of your\n",
    "solution method."
   ]
  },
  {
   "cell_type": "code",
   "execution_count": 10,
   "metadata": {},
   "outputs": [
    {
     "name": "stdout",
     "output_type": "stream",
     "text": [
      "class_A_dict is ready\n",
      "class_B_dict is ready\n",
      "class_C_dict is ready\n"
     ]
    }
   ],
   "source": [
    "#Re-creating our main dict's to be sure everything is clear and correct\n",
    "class_A_list, class_B_list, class_C_list, class_A_dict, class_B_dict, class_C_dict,GPANew = create_class_dicts()\n",
    "\n",
    "#Create a copy of our main dictionary. Just a reflex to protection.\n",
    "class_A_dict2 = class_A_dict.copy()\n",
    "class_B_dict2 = class_B_dict.copy()\n",
    "class_C_dict2 = class_C_dict.copy()\n",
    "\n",
    "#Exctract necessary parts of our raw data and pick MT1 and Grade columns\n",
    "class_list = [class_A_dict2,class_B_dict2,class_C_dict2]\n",
    "for class_dict in class_list:\n",
    "    for key, value in class_dict.items():\n",
    "        class_dict[key] = value[['StudentID', 'TOTAL', 'Grade']] \n",
    "    class_dict = grade_categorizer(class_dict)\n",
    "    \n",
    "#converting target data: class A in to a non-duplicate, categorized and fitered dataframe form\n",
    "target_semestername_list = ['C2013New', 'C2014New','C2015New']\n",
    "target_semesters_list = [value for (key,value) in class_C_dict2.items() if key in target_semestername_list] \n",
    "#Target dataframe\n",
    "c_semester_df = pd.concat(target_semesters_list,join = 'outer', keys = 'StudentID')\n",
    "c_semester_df = c_semester_df.reset_index().drop(['level_0', 'level_1','TOTAL'],axis = 1).drop_duplicates(subset = 'StudentID', keep = 'last').rename(columns={\"Grade\": \"Grade_C\"})\n",
    "\n",
    "\n",
    "#converting train data:class A in to a non-duplicate, categorized and fitered dataframe form \n",
    "train_semestername_list_A = ['A2013New', 'A2014New','A2015New']\n",
    "train_semesters_list_A = [value for (key,value) in class_A_dict2.items() if key in train_semestername_list_A] \n",
    "a_semester_df = pd.concat(train_semesters_list_A,join = 'outer', keys = 'StudentID')\n",
    "a_semester_df = a_semester_df.reset_index().drop(['level_0', 'level_1'],axis = 1).drop_duplicates(subset = 'StudentID', keep = 'last').rename(columns={\"TOTAL\": \"TOTAL_A\", \"Grade\": \"Grade_A\"})\n",
    "\n",
    "#converting train data:class B in to a non-duplicate, categorized and fitered dataframe form \n",
    "train_semestername_list_B = ['B2013New', 'B2014New','B2015New']\n",
    "train_semesters_list_B = [value for (key,value) in class_B_dict2.items() if key in train_semestername_list_B] \n",
    "b_semester_df = pd.concat(train_semesters_list_B,join = 'outer', keys = 'StudentID')\n",
    "b_semester_df = b_semester_df.reset_index().drop(['level_0', 'level_1'],axis = 1).drop_duplicates(subset = 'StudentID', keep = 'last').rename(columns={\"TOTAL\": \"TOTAL_B\", \"Grade\": \"Grade_B\"})\n",
    "\n",
    "#Merge our features data class A, B and target class A dataframes in to one on StudentID key\n",
    "#Filling NaN values with 1 is not a knowledge decision, I tried several possibilities, like 0, 999. Best solution is reached by 1\n",
    "full_data_df = pd.merge(a_semester_df, pd.merge(c_semester_df, b_semester_df,how= 'outer', on = 'StudentID' ),how= 'outer', on = 'StudentID' ).fillna(1)\n",
    "\n",
    "#This step is unnecessary in case of usage of cross validation function, however it was necessary while I was doing my trials on different models.\n",
    "df_feature = full_data_df[['TOTAL_A','Grade_A','TOTAL_B', 'Grade_B']]\n",
    "target = full_data_df['Grade_C']\n",
    "train_x, test_x, train_y, test_y = train_test_split(df_feature, target, test_size = 0.2, random_state = 42, shuffle = True)\n",
    "#my_decision_tree(train_x,train_y,test_x,test_y)\n"
   ]
  },
  {
   "cell_type": "code",
   "execution_count": 12,
   "metadata": {},
   "outputs": [
    {
     "name": "stdout",
     "output_type": "stream",
     "text": [
      "\u001b[1mDecisionTreeClassifier\u001b[0m\n",
      "Accuracy Score of each fold\n",
      "[0.8372093  0.84883721 0.86046512]\n",
      "Mean Accuracy Score - \u001b[4m0.8488372093023256\u001b[0m\n",
      "\u001b[1mBaggingClassifier\u001b[0m\n",
      "Accuracy Score of each fold\n",
      "[0.84883721 0.87209302 0.94186047]\n",
      "Mean Accuracy Score - \u001b[4m0.8875968992248061\u001b[0m\n",
      "\u001b[1mRandomForestClassifier\u001b[0m\n",
      "Accuracy Score of each fold\n",
      "[0.86046512 0.87209302 0.90697674]\n",
      "Mean Accuracy Score - \u001b[4m0.87984496124031\u001b[0m\n",
      "\u001b[1mAdaBoostClassifier\u001b[0m\n",
      "Accuracy Score of each fold\n",
      "[0.88372093 0.8372093  0.93023256]\n",
      "Mean Accuracy Score - \u001b[4m0.883720930232558\u001b[0m\n",
      "\u001b[1mGradientBoostingClassifier\u001b[0m\n",
      "Accuracy Score of each fold\n",
      "[0.89534884 0.86046512 0.94186047]\n",
      "Mean Accuracy Score - \u001b[4m0.8992248062015503\u001b[0m\n"
     ]
    }
   ],
   "source": [
    "#We are trying new classifiers in question 3 as a result of multiple inputs.\n",
    "#Q1 and Q2 have had single dimension features.So It was unnecessary to implement multiple classifiers.\n",
    "#define desired predictors\n",
    "clf = DecisionTreeClassifier()\n",
    "bgc = BaggingClassifier(base_estimator=clf, n_estimators=10, random_state=42)\n",
    "rfc = RandomForestClassifier(n_estimators=10)\n",
    "abc = AdaBoostClassifier(n_estimators=10, random_state=42)\n",
    "sgb = GradientBoostingClassifier(n_estimators=10, random_state=42)\n",
    "\n",
    "#predictors list\n",
    "classifier_list = [clf,bgc,rfc,abc,sgb]\n",
    "\n",
    "#Calculate mean cv scores and view accuracies for each fold\n",
    "classifier_name = []\n",
    "cv_score_list = []\n",
    "mean_cvs = []\n",
    "for i in classifier_list:\n",
    "    print('\\033[1m'+str(i)[0:str(i).find('(')]+'\\033[0m')\n",
    "    classifier_name.append(str(i)[0:str(i).find('(')])\n",
    "    cv_scores, mean_cv = lets_cross_validate(i, df_feature, target, cv = KFold(3, shuffle = True, random_state = 42), scoring = 'accuracy')\n",
    "    cv_score_list.append(cv_scores)\n",
    "    mean_cvs.append(mean_cv)"
   ]
  },
  {
   "cell_type": "markdown",
   "metadata": {
    "scrolled": true
   },
   "source": [
    "So we choose GradientBoostingClassifier as a result of its success in accuracy score.\n",
    "\n",
    "GradientBoostingClassifier\n",
    "Accuracy Score of each fold\n",
    "\n",
    "[0.89534884 0.86046512 0.94186047]\n",
    "\n",
    "Mean Accuracy Score - 0.8992248062015503"
   ]
  },
  {
   "cell_type": "markdown",
   "metadata": {},
   "source": [
    "# Q4"
   ]
  },
  {
   "cell_type": "markdown",
   "metadata": {},
   "source": [
    "Q4. Similar to the previous question, but this time MT1 score is available for all the re-\n",
    "spective semester for Course C. Therefore, your predictions will not be solely based\n",
    "on student previous performance but this partially this course's data as well. Once\n",
    "again report your accuracy score and provide a detailed explanation of your solution\n",
    "method."
   ]
  },
  {
   "cell_type": "code",
   "execution_count": 15,
   "metadata": {},
   "outputs": [
    {
     "name": "stdout",
     "output_type": "stream",
     "text": [
      "class_A_dict is ready\n",
      "class_B_dict is ready\n",
      "class_C_dict is ready\n"
     ]
    }
   ],
   "source": [
    "#Re-creating our main dict's to be sure everything is clear and correct\n",
    "class_A_list, class_B_list, class_C_list, class_A_dict, class_B_dict, class_C_dict,GPANew= create_class_dicts()\n",
    "\n",
    "#Create a copy of our main dictionary. Just a reflex to protection.\n",
    "class_A_dict2 = class_A_dict.copy()\n",
    "class_B_dict2 = class_B_dict.copy()\n",
    "class_C_dict2 = class_C_dict.copy()\n",
    "\n",
    "#Exctract necessary parts of our raw data and pick MT1 and Grade columns\n",
    "class_list = [class_A_dict2,class_B_dict2,class_C_dict2]\n",
    "for class_dict in class_list:\n",
    "    for key, value in class_dict.items():\n",
    "        class_dict[key] = value[['StudentID','MT1', 'TOTAL', 'Grade']] \n",
    "    class_dict = grade_categorizer(class_dict)\n",
    "    \n",
    "#converting target data: class A in to a non-duplicate, categorized and fitered dataframe form\n",
    "target_semestername_list = ['C2013New', 'C2014New','C2015New']\n",
    "target_semesters_list = [value for (key,value) in class_C_dict2.items() if key in target_semestername_list] \n",
    "#Target dataframe\n",
    "c_semester_df = pd.concat(target_semesters_list,join = 'outer', keys = 'StudentID')\n",
    "c_semester_df = c_semester_df.reset_index().drop(['level_0', 'level_1','TOTAL'],axis = 1).drop_duplicates(subset = 'StudentID', keep = 'last').rename(columns={\"Grade\": \"Grade_C\"})\n",
    "\n",
    "\n",
    "#converting train data:class A in to a non-duplicate, categorized and fitered dataframe form \n",
    "train_semestername_list_A = ['A2013New', 'A2014New','A2015New']\n",
    "train_semesters_list_A = [value for (key,value) in class_A_dict2.items() if key in train_semestername_list_A] \n",
    "a_semester_df = pd.concat(train_semesters_list_A,join = 'outer', keys = 'StudentID')\n",
    "a_semester_df = a_semester_df.reset_index().drop(['level_0', 'level_1','MT1'],axis = 1).drop_duplicates(subset = 'StudentID', keep = 'last').rename(columns={\"TOTAL\": \"TOTAL_A\", \"Grade\": \"Grade_A\"})\n",
    "\n",
    "#converting train data:class B in to a non-duplicate, categorized and fitered dataframe form \n",
    "train_semestername_list_B = ['B2013New', 'B2014New','B2015New']\n",
    "train_semesters_list_B = [value for (key,value) in class_B_dict2.items() if key in train_semestername_list_B] \n",
    "b_semester_df = pd.concat(train_semesters_list_B,join = 'outer', keys = 'StudentID')\n",
    "b_semester_df = b_semester_df.reset_index().drop(['level_0', 'level_1','MT1'],axis = 1).drop_duplicates(subset = 'StudentID', keep = 'last').rename(columns={\"TOTAL\": \"TOTAL_B\", \"Grade\": \"Grade_B\"})\n",
    "\n",
    "#Merge our features data class A, B and target class A dataframes in to one on StudentID key\n",
    "#Filling NaN values with 1 is not a knowledge decision, I tried several possibilities, like 0, 999. Best solution is reached by 1\n",
    "full_data_df = pd.merge(a_semester_df, pd.merge(c_semester_df, b_semester_df,how= 'outer', on = 'StudentID' ),how= 'outer', on = 'StudentID' ).fillna(1)\n",
    "\n",
    "#This step is unnecessary in case of usage of cross validation function, however it was necessary while I was doing my trials on different models.\n",
    "df_feature = full_data_df[['TOTAL_A','Grade_A','TOTAL_B', 'Grade_B','MT1']]\n",
    "target = full_data_df['Grade_C']\n",
    "train_x, test_x, train_y, test_y = train_test_split(df_feature, target, test_size = 0.2, random_state = 42, shuffle = True)\n",
    "#my_decision_tree(train_x,train_y,test_x,test_y)\n"
   ]
  },
  {
   "cell_type": "code",
   "execution_count": 16,
   "metadata": {},
   "outputs": [
    {
     "name": "stdout",
     "output_type": "stream",
     "text": [
      "\u001b[1mDecisionTreeClassifier\u001b[0m\n",
      "Accuracy Score of each fold\n",
      "[0.90697674 0.88372093 0.93023256]\n",
      "Mean Accuracy Score - \u001b[4m0.9069767441860465\u001b[0m\n",
      "\u001b[1mBaggingClassifier\u001b[0m\n",
      "Accuracy Score of each fold\n",
      "[0.91860465 0.86046512 0.93023256]\n",
      "Mean Accuracy Score - \u001b[4m0.9031007751937984\u001b[0m\n",
      "\u001b[1mRandomForestClassifier\u001b[0m\n",
      "Accuracy Score of each fold\n",
      "[0.94186047 0.87209302 0.95348837]\n",
      "Mean Accuracy Score - \u001b[4m0.9224806201550387\u001b[0m\n",
      "\u001b[1mAdaBoostClassifier\u001b[0m\n",
      "Accuracy Score of each fold\n",
      "[0.93023256 0.91860465 0.94186047]\n",
      "Mean Accuracy Score - \u001b[4m0.9302325581395349\u001b[0m\n",
      "\u001b[1mGradientBoostingClassifier\u001b[0m\n",
      "Accuracy Score of each fold\n",
      "[0.93023256 0.88372093 0.95348837]\n",
      "Mean Accuracy Score - \u001b[4m0.9224806201550387\u001b[0m\n"
     ]
    }
   ],
   "source": [
    "#We are trying new classifiers in question 3 as a result of multiple inputs.\n",
    "#Q1 and Q2 have had single dimension features.So It was unnecessary to implement multiple classifiers.\n",
    "#define desired predictors\n",
    "clf = DecisionTreeClassifier()\n",
    "bgc = BaggingClassifier(base_estimator=clf, n_estimators=10, random_state=42)\n",
    "rfc = RandomForestClassifier(n_estimators=10)\n",
    "abc = AdaBoostClassifier(n_estimators=10, random_state=42)\n",
    "sgb = GradientBoostingClassifier(n_estimators=10, random_state=42)\n",
    "\n",
    "#predictors list\n",
    "classifier_list = [clf,bgc,rfc,abc,sgb]\n",
    "\n",
    "#Calculate mean cv scores and view accuracies for each fold\n",
    "classifier_name = []\n",
    "cv_score_list = []\n",
    "mean_cvs = []\n",
    "for i in classifier_list:\n",
    "    print('\\033[1m'+str(i)[0:str(i).find('(')]+'\\033[0m')\n",
    "    classifier_name.append(str(i)[0:str(i).find('(')])\n",
    "    cv_scores, mean_cv = lets_cross_validate(i, df_feature, target, cv = KFold(3, shuffle = True, random_state = 42), scoring = 'accuracy')\n",
    "    cv_score_list.append(cv_scores)\n",
    "    mean_cvs.append(mean_cv)"
   ]
  },
  {
   "cell_type": "markdown",
   "metadata": {
    "scrolled": true
   },
   "source": [
    "We did almost the same thing in Q3 - only with MT1 score of class C- and tables have turned. \n",
    "So there is no harm to give a look to roc_auc score in decision process.\n",
    "AdaBoostClassifier: 0.869\n",
    "GradientBoostingClassifier: 0.899\n",
    "\n",
    "MT1's marginal effect is really high and significant in both accuracy and roc_auc\n",
    "\n",
    "However, we choose AdaBoostClassifier with a higher accuracy and inner peace, thanks to MT1 scores\n"
   ]
  },
  {
   "cell_type": "markdown",
   "metadata": {},
   "source": [
    "# Q5"
   ]
  },
  {
   "cell_type": "markdown",
   "metadata": {},
   "source": [
    "5. Finally, given the grade performance of the student in all these courses, you are sup-\n",
    "posed to predict the GPA bracket of the students (only the students taking at least one\n",
    "course out of A,B and C in years 2013, 2014 and 2015). The brackets are de\f",
    "ned as\n",
    "2.00-2.50, 2.50-3.00, 3.00-3.50 and \f",
    "nally 3.50-4.00. Besides the accuracy score, please\n",
    "consider Mean Square Error as another criterion while brackets are ordered as 1, 2,\n",
    "3, and 4 respectively and predicting a close bracket is preferable to otherwise. Once\n",
    "again report your accuracy score, MSE score and provide a detailed explanation of\n",
    "your solution method."
   ]
  },
  {
   "cell_type": "code",
   "execution_count": 30,
   "metadata": {},
   "outputs": [
    {
     "name": "stdout",
     "output_type": "stream",
     "text": [
      "class_A_dict is ready\n",
      "class_B_dict is ready\n",
      "class_C_dict is ready\n"
     ]
    }
   ],
   "source": [
    "#Re-creating our main dict's to be sure everything is clear and correct\n",
    "class_A_list, class_B_list, class_C_list, class_A_dict, class_B_dict, class_C_dict,GPANew = create_class_dicts()\n",
    "\n",
    "#Create a copy of our main dictionary. Just a reflex to protection.\n",
    "class_A_dict2 = class_A_dict.copy()\n",
    "class_B_dict2 = class_B_dict.copy()\n",
    "class_C_dict2 = class_C_dict.copy()\n",
    "\n",
    "\n",
    "#Grade is our categorical variable and we treat it like it is.\n",
    "class_list = [class_A_dict2,class_B_dict2,class_C_dict2]\n",
    "for class_dict in class_list:\n",
    "    for key, value in class_dict.items():\n",
    "        value['Grade'] = value['Grade'].astype('category').cat.codes\n",
    "        class_dict[key] = value\n",
    "        \n",
    "        \n",
    "        \n",
    "#converting train data:class A in to a non-duplicate, categorized and fitered dataframe form \n",
    "train_semestername_list_A = ['A2013New', 'A2014New','A2015New']\n",
    "train_semesters_list_A = [value for (key,value) in class_A_dict2.items() if key in train_semestername_list_A] \n",
    "a_semester_df = pd.concat(train_semesters_list_A,join = 'outer', keys = 'StudentID')\n",
    "a_semester_df = a_semester_df.reset_index().drop(['level_0', 'level_1'],axis = 1).drop_duplicates(subset = 'StudentID', keep = 'last').rename(columns = {'Grade': 'Grade_A' , 'HW1': 'HW1_A', 'HW2' : 'HW2_A' , 'HW3':'HW3_A', 'MT1':'MT1_A', 'MT2':'MT2_A','MT3':'MT3_A','TOTAL' : 'TOTAL_A'})\n",
    "\n",
    "#converting train data:class B in to a non-duplicate, categorized and fitered dataframe form \n",
    "train_semestername_list_B = ['B2013New', 'B2014New','B2015New']\n",
    "train_semesters_list_B = [value for (key,value) in class_B_dict2.items() if key in train_semestername_list_B] \n",
    "b_semester_df = pd.concat(train_semesters_list_B,join = 'outer', keys = 'StudentID')\n",
    "b_semester_df = b_semester_df.reset_index().drop(['level_0', 'level_1'],axis = 1).drop_duplicates(subset = 'StudentID', keep = 'last').rename(columns = {'Grade': 'Grade_B' , 'PRJ': 'PRJ_B', 'Q1' : 'Q1_B' , 'MT1':'MT1_B', 'MT2':'MT2_B','MT3':'MT3_B','TOTAL' : 'TOTAL_B'})\n",
    "\n",
    "#converting train data:class A in to a non-duplicate, categorized and fitered dataframe form \n",
    "train_semestername_list_C = ['C2013New', 'C2014New','C2015New']\n",
    "train_semesters_list_C = [value for (key,value) in class_C_dict2.items() if key in train_semestername_list_C] \n",
    "c_semester_df = pd.concat(train_semesters_list_C,join = 'outer', keys = 'StudentID')\n",
    "c_semester_df = c_semester_df.reset_index().drop(['level_0', 'level_1'],axis = 1).drop_duplicates(subset = 'StudentID', keep = 'last').rename(columns = {'Grade': 'Grade_C' , 'PRJ': 'PRJ_C', 'Q1' : 'Q1_C' , 'MT1':'MT1_C', 'MT2':'MT2_C','MT3':'MT3_C','TOTAL' : 'TOTAL_C'})\n",
    "\n",
    "\n",
    "#Lets categorize out GPA in to 4 brackets \n",
    "condlist = [GPANew['GPA']<=2.5,GPANew['GPA']<=3,GPANew['GPA']<=3.5, GPANew['GPA']<=4]\n",
    "choicelist = [1,2,3,4]\n",
    "GPANew['GPA'] = np.select(condlist,choicelist, default = 999 )\n",
    "GPANew = GPANew.drop('TotalCredits',axis = 1)\n",
    "\n",
    "#Merge our features data class A, B and C dataframes in to one on StudentID key\n",
    "#Filling NaN values with 1 is not a knowledge decision, I tried several possibilities, like 0, 999. Best solution is reached by 1\n",
    "#One important issue is applying inner join in last merge: if the student do not exist in GPANew, it not possible to assign an GPA bracket to her.\n",
    "full_data_df = pd.merge(GPANew, pd.merge(a_semester_df, pd.merge(c_semester_df, b_semester_df,how= 'outer', on = 'StudentID' ),how= 'outer', on = 'StudentID' ), how = 'inner', on = 'StudentID' ).fillna(1)\n",
    "\n",
    "#Set target array and features df\n",
    "df_feature = full_data_df.drop('GPA',axis=1)\n",
    "target = full_data_df['GPA']"
   ]
  },
  {
   "cell_type": "code",
   "execution_count": 23,
   "metadata": {},
   "outputs": [
    {
     "name": "stdout",
     "output_type": "stream",
     "text": [
      "\u001b[1mDecisionTreeClassifier\u001b[0m\n",
      "Accuracy Score of each fold\n",
      "[0.54098361 0.57377049 0.50819672 0.61666667]\n",
      "Mean Accuracy Score - \u001b[4m0.5599043715846994\u001b[0m\n",
      "\u001b[1mBaggingClassifier\u001b[0m\n",
      "Accuracy Score of each fold\n",
      "[0.6557377  0.67213115 0.49180328 0.6       ]\n",
      "Mean Accuracy Score - \u001b[4m0.6049180327868853\u001b[0m\n",
      "\u001b[1mRandomForestClassifier\u001b[0m\n",
      "Accuracy Score of each fold\n",
      "[0.63934426 0.59016393 0.57377049 0.63333333]\n",
      "Mean Accuracy Score - \u001b[4m0.6091530054644809\u001b[0m\n",
      "\u001b[1mAdaBoostClassifier\u001b[0m\n",
      "Accuracy Score of each fold\n",
      "[0.63934426 0.60655738 0.50819672 0.23333333]\n",
      "Mean Accuracy Score - \u001b[4m0.49685792349726776\u001b[0m\n",
      "\u001b[1mGradientBoostingClassifier\u001b[0m\n",
      "Accuracy Score of each fold\n",
      "[0.73770492 0.59016393 0.50819672 0.63333333]\n",
      "Mean Accuracy Score - \u001b[4m0.6173497267759562\u001b[0m\n",
      " \n",
      "--------------------MSE Scores--------------------------\n",
      " \n",
      "\u001b[1mDecisionTreeClassifier\u001b[0m\n",
      "Accuracy Score of each fold\n",
      "[-0.73770492 -0.54098361 -0.86885246 -0.58333333]\n",
      "Mean Accuracy Score - \u001b[4m-0.6827185792349727\u001b[0m\n",
      "\u001b[1mBaggingClassifier\u001b[0m\n",
      "Accuracy Score of each fold\n",
      "[-0.54098361 -0.47540984 -0.6557377  -0.65      ]\n",
      "Mean Accuracy Score - \u001b[4m-0.5805327868852459\u001b[0m\n",
      "\u001b[1mRandomForestClassifier\u001b[0m\n",
      "Accuracy Score of each fold\n",
      "[-0.37704918 -0.59016393 -0.59016393 -0.58333333]\n",
      "Mean Accuracy Score - \u001b[4m-0.5351775956284153\u001b[0m\n",
      "\u001b[1mAdaBoostClassifier\u001b[0m\n",
      "Accuracy Score of each fold\n",
      "[-0.40983607 -0.59016393 -0.83606557 -0.96666667]\n",
      "Mean Accuracy Score - \u001b[4m-0.7006830601092896\u001b[0m\n",
      "\u001b[1mGradientBoostingClassifier\u001b[0m\n",
      "Accuracy Score of each fold\n",
      "[-0.45901639 -0.55737705 -0.54098361 -0.41666667]\n",
      "Mean Accuracy Score - \u001b[4m-0.4935109289617487\u001b[0m\n"
     ]
    }
   ],
   "source": [
    "#We are trying new classifiers in question 3 as a result of multiple inputs.\n",
    "#Q1 and Q2 have had single dimension features.So It was unnecessary to implement multiple classifiers.\n",
    "#define desired predictors\n",
    "clf = DecisionTreeClassifier()\n",
    "bgc = BaggingClassifier(base_estimator=clf, random_state=42)\n",
    "rfc = RandomForestClassifier()\n",
    "abc = AdaBoostClassifier(random_state=42)\n",
    "sgb = GradientBoostingClassifier( random_state=42)\n",
    "\n",
    "#predictors list\n",
    "classifier_list = [clf,bgc,rfc,abc,sgb]\n",
    "\n",
    "#Calculate mean cv scores and view accuracies for each fold\n",
    "classifier_name = []\n",
    "cv_score_list = []\n",
    "mean_cvs = []\n",
    "for i in classifier_list:\n",
    "    print('\\033[1m'+str(i)[0:str(i).find('(')]+'\\033[0m')\n",
    "    classifier_name.append(str(i)[0:str(i).find('(')])\n",
    "    cv_scores, mean_cv = lets_cross_validate(i, df_feature, target, cv = KFold(4, shuffle = True, random_state = 42), scoring = 'accuracy')\n",
    "    cv_score_list.append(cv_scores)\n",
    "    mean_cvs.append(mean_cv)\n",
    "#Calculate mean cv scores and view accuracies for each fold\n",
    "classifier_name = []\n",
    "cv_score_list = []\n",
    "mean_cvs = []\n",
    "print(' ')\n",
    "print('--------------------MSE Scores--------------------------')\n",
    "print(' ')\n",
    "for i in classifier_list:\n",
    "    print('\\033[1m'+str(i)[0:str(i).find('(')]+'\\033[0m')\n",
    "    classifier_name.append(str(i)[0:str(i).find('(')])\n",
    "    cv_scores, mean_cv = lets_cross_validate(i, df_feature, target, cv = KFold(4, shuffle = True, random_state = 42), scoring = 'neg_mean_squared_error')\n",
    "    cv_score_list.append(cv_scores)\n",
    "    mean_cvs.append(mean_cv)"
   ]
  },
  {
   "cell_type": "markdown",
   "metadata": {},
   "source": [
    "Best 3 classifiers, accuracy score, MSE:\n",
    " - BaggingClassifier = 0.6419753086419753 ,0.5061728395061729\n",
    " - RandomForestClassifier = 0.6172839506172839 ,0.5720164609053497\n",
    " - GradientBoostingClassifier = 0.6008230452674898, 0.5720164609053497\n",
    "\n",
    "Possible to say, higher the models Accuracy score , lower the MSE score .\n",
    "So we choose Bagging classifier and we will implement hyper parameter tuning on it."
   ]
  },
  {
   "cell_type": "markdown",
   "metadata": {},
   "source": [
    "##### Hyper-paraneter Tuning"
   ]
  },
  {
   "cell_type": "code",
   "execution_count": 27,
   "metadata": {},
   "outputs": [
    {
     "name": "stdout",
     "output_type": "stream",
     "text": [
      "Fitting 4 folds for each of 20 candidates, totalling 80 fits\n"
     ]
    },
    {
     "name": "stderr",
     "output_type": "stream",
     "text": [
      "[Parallel(n_jobs=-1)]: Done  10 tasks      | elapsed:    8.2s\n",
      "[Parallel(n_jobs=-1)]: Done  64 tasks      | elapsed:   11.2s\n",
      "[Parallel(n_jobs=-1)]: Done  80 out of  80 | elapsed:   12.5s finished\n"
     ]
    },
    {
     "name": "stdout",
     "output_type": "stream",
     "text": [
      "Random\n",
      "[[21  2  0  0]\n",
      " [ 2  8  0  0]\n",
      " [ 3  2  8  2]\n",
      " [ 0  0  1  0]]\n",
      "0.7551020408163265\n"
     ]
    }
   ],
   "source": [
    "train_x, test_x, train_y, test_y = train_test_split(df_feature, target, test_size = 0.2, random_state = 42, shuffle = True)\n",
    "parameters = {\n",
    "              'max_features': ['auto', 'sqrt','log2', None],\n",
    "              'min_samples_leaf': [8, 12],\n",
    "              'min_samples_split': [10, 14],\n",
    "              'max_depth': list(np.linspace(5, 30, 2, dtype = int)) + [None],\n",
    "              'learning_rate': [0.05,0.1,0.2,0.3],\n",
    "              'n_estimators' : list(np.linspace(5, 100, 5, dtype = int)), \n",
    "             }\n",
    "sgb = GradientBoostingClassifier( random_state=42)\n",
    "model = RandomizedSearchCV(estimator = sgb, param_distributions = parameters, n_iter = 20, \n",
    "                               cv = 4, verbose= 5, random_state= 42, n_jobs = -1)\n",
    "model.fit(train_x,train_y)\n",
    "\n",
    "\n",
    "print(\"Random\")\n",
    "predictionforest = model.best_estimator_.predict(test_x)\n",
    "print(confusion_matrix(test_y,predictionforest))\n",
    "print(metrics.accuracy_score(test_y,predictionforest))"
   ]
  },
  {
   "cell_type": "markdown",
   "metadata": {},
   "source": [
    "Final model parameters"
   ]
  },
  {
   "cell_type": "code",
   "execution_count": 28,
   "metadata": {},
   "outputs": [
    {
     "name": "stdout",
     "output_type": "stream",
     "text": [
      "[[21  2  0  0]\n",
      " [ 2  8  0  0]\n",
      " [ 3  2  8  2]\n",
      " [ 0  0  1  0]]\n",
      "0.7551020408163265\n"
     ]
    }
   ],
   "source": [
    "#model.get_params\n",
    "final_sgb = GradientBoostingClassifier(criterion='friedman_mse', init=None,\n",
    "              learning_rate=0.1, loss='deviance', max_depth=3,\n",
    "              max_features=None, max_leaf_nodes=None,\n",
    "              min_impurity_decrease=0.0, min_impurity_split=None,\n",
    "              min_samples_leaf=1, min_samples_split=2,\n",
    "              min_weight_fraction_leaf=0.0, n_estimators=100,\n",
    "              presort='auto', random_state=42, subsample=1.0, verbose=0,\n",
    "              warm_start=False)\n",
    "\n",
    "final_sgb.fit(train_x,train_y)\n",
    "predictionforest = model.best_estimator_.predict(test_x)\n",
    "print(confusion_matrix(test_y,predictionforest))\n",
    "print(metrics.accuracy_score(test_y,predictionforest))"
   ]
  }
 ],
 "metadata": {
  "kernelspec": {
   "display_name": "Python 3",
   "language": "python",
   "name": "python3"
  },
  "language_info": {
   "codemirror_mode": {
    "name": "ipython",
    "version": 3
   },
   "file_extension": ".py",
   "mimetype": "text/x-python",
   "name": "python",
   "nbconvert_exporter": "python",
   "pygments_lexer": "ipython3",
   "version": "3.7.3"
  }
 },
 "nbformat": 4,
 "nbformat_minor": 2
}
