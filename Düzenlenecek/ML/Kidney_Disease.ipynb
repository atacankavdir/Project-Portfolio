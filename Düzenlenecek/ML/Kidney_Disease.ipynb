{
 "cells": [
  {
   "cell_type": "raw",
   "metadata": {},
   "source": [
    "    Data cleaning was challenging, column names are not strings, the null values were in the form questionmarks. \n",
    "    I changed couple of characters and made null threatment with mode values of categorical variables and median values of numeric variables.\n",
    "    So I splitted the data into 2 parts: Categoric columns and numeric columns.\n",
    "    Transformed categoric columns in to binary form.\n",
    "    Merged 2 column types into 1 df, and set target variable as labels.\n",
    "    Trained 5 different models with 3 KFold cross validation and decided on using randomforest\n",
    "    Random forest worked perfectly and accuracy score was 1.0.\n",
    "    To implement a parameter tuning I changed test size to 0.80.\n",
    "    Implemented random search and accuracy score increased(most of the times)."
   ]
  },
  {
   "cell_type": "markdown",
   "metadata": {},
   "source": [
    "## Import ibs and read data"
   ]
  },
  {
   "cell_type": "code",
   "execution_count": 1,
   "metadata": {},
   "outputs": [],
   "source": [
    "import pandas as pd\n",
    "import numpy as np\n",
    "from sklearn.tree import DecisionTreeClassifier # Import Decision Tree Classifier\n",
    "from sklearn.model_selection import train_test_split # Import train_test_split function\n",
    "from sklearn import metrics #Import scikit-learn metrics module for accuracy calculation\n",
    "from sklearn.metrics import roc_auc_score\n",
    "from sklearn.metrics import confusion_matrix\n",
    "from sklearn.metrics import precision_score\n",
    "from sklearn.metrics import recall_score\n",
    "from sklearn.metrics import f1_score\n",
    "from sklearn.ensemble import BaggingClassifier\n",
    "from sklearn.ensemble import RandomForestClassifier\n",
    "from sklearn.ensemble import AdaBoostClassifier\n",
    "from sklearn.ensemble import GradientBoostingClassifier\n",
    "from sklearn.metrics import classification_report\n",
    "from sklearn.model_selection import cross_val_predict\n",
    "from sklearn.model_selection import cross_val_score, KFold, StratifiedKFold\n",
    "from sklearn.model_selection import RandomizedSearchCV\n",
    "from sklearn.model_selection import cross_val_score\n",
    "import seaborn as sns\n",
    "from sklearn.model_selection import GridSearchCV\n",
    "\n",
    "# Loading other necessary packages\n",
    "import pandas as pd\n",
    "import numpy as np\n",
    "import matplotlib.pyplot as plt\n",
    "import scipy.stats as st\n",
    "import seaborn as sns\n",
    "import requests \n",
    "%matplotlib inline\n",
    "\n",
    "#Display all columns\n",
    "pd.set_option('display.max_columns', None)\n",
    "pd.set_option('display.max_rows', None)\n",
    "\n",
    "\n",
    "np.random.seed(1001)\n",
    "\n",
    "# load dataset\n",
    "df = pd.read_csv(\"chronic_kidney_disease_full.csv\", decimal=',')"
   ]
  },
  {
   "cell_type": "markdown",
   "metadata": {},
   "source": [
    "## Data cleaning"
   ]
  },
  {
   "cell_type": "code",
   "execution_count": 2,
   "metadata": {},
   "outputs": [],
   "source": [
    "#Column names were not proper strings(ex. ''age''), set proper column names.\n",
    "columns = ['age', 'bp', 'sg', 'al', 'su', 'rbc', 'pc', 'pcc',\n",
    "       'ba', 'bgr', 'bu', 'sc', 'sod', 'pot', 'hemo', 'pcv',\n",
    "       'wbcc', 'rbcc', 'htn', 'dm', 'cad', 'appet', 'pe',\n",
    "       'ane', 'class']\n",
    "df.columns = columns\n",
    "\n",
    "#Some columns have character problems,to handle that; Drop corrupted '/t' characters\n",
    "for clm in df.columns:\n",
    "    df[clm] = df[clm].str.replace('\\t','')\n",
    "    df[clm] = df[clm].str.replace(' ','')\n",
    "\n",
    "#Binary classifier unable to handle targets inputs,so replace it with a more general appearence.\n",
    "df['class'] = df['class'].replace(['ckd', 'notckd'], ['yes','no'])\n",
    "\n",
    "#Null values are displayed as questionmarks ('?').We will handle null values in this section\n",
    "\n",
    "#Filters and drops the columns with more then %25 questionmarks(Nulls) of the all rows\n",
    "freq_qmark = []\n",
    "for i in columns[:-1]:\n",
    "    freq_qmark.append(df[df.loc[:,i] == '?'].count()[1]/400*100)\n",
    "qmark_rate = dict(zip(columns[:-1],freq_qmark))\n",
    "filtered_qmark_cols = { key:value for (key,value) in qmark_rate.items() if value > 25}\n",
    "df.drop(filtered_qmark_cols.keys(), axis = 1, inplace = True)\n",
    "\n",
    "#Drop the rows with more then 7 '?' values -- 8 rows\n",
    "df.drop(df[df.applymap(lambda x: str.count(x, '?')).sum(axis = 1) > 7].index, inplace = True)\n",
    "\n",
    "#Define column types\n",
    "categorical = ['sg','al','su','pc', 'pcc', 'ba', 'htn', 'dm', 'cad', 'appet', 'pe', 'ane', 'class']\n",
    "numeric = df.columns.drop(categorical)\n",
    "\n",
    "#Dealing with '?' values for both cathegorical and numeric columns\n",
    "#Replace the missing values of categorical features with the mode of column\n",
    "for column in categorical:\n",
    "    df[column] = df[column].replace('?', df[column].mode()[0])\n",
    "#Replace the missing values of numeric features with the mode of column\n",
    "for column in numeric:\n",
    "    df[column] = df[column].replace('?', 99999)\n",
    "for column in numeric:\n",
    "    df[column] = df[column].replace(99999, df[column].median())\n",
    "    \n",
    "#Because of questionmarks, csv could not handle column types, after cleaning we set column types manually    \n",
    "df[numeric] = df[numeric].astype('float')\n",
    "df[categorical] = df[categorical].astype('str')    "
   ]
  },
  {
   "cell_type": "markdown",
   "metadata": {},
   "source": [
    "## Necessary functions"
   ]
  },
  {
   "cell_type": "code",
   "execution_count": 3,
   "metadata": {},
   "outputs": [],
   "source": [
    "def prepare_inputs(df_categ):\n",
    "    '''\n",
    "    Function implies binary encoding of both categorical variables and target variable.\n",
    "    Input: Str formatted categorical feature columns which consist 2 differenct variables\n",
    "    Output: Binary form of every categorical feature.\n",
    "    '''\n",
    "    df_cat = df_categ.copy()\n",
    "    from sklearn.preprocessing import LabelEncoder\n",
    "    le = LabelEncoder()\n",
    "    for columner in df_cat.columns:\n",
    "        df_cat[columner] = le.fit_transform(df_cat[columner])\n",
    "    return df_cat"
   ]
  },
  {
   "cell_type": "code",
   "execution_count": 4,
   "metadata": {
    "scrolled": true
   },
   "outputs": [],
   "source": [
    "def correlation_matrix_constructor(df, target_column):\n",
    "    '''\n",
    "    Creates a correlation matrix.\n",
    "    '''\n",
    "    corrmat = df.corr()\n",
    "    plt.figure(figsize=(20,10))\n",
    "    k = 15 #number of variables for heatmap\n",
    "    cols = corrmat.nlargest(k, target_column)[target_column].index\n",
    "    cm = np.corrcoef(df[cols].values.T)\n",
    "    sns.set(font_scale=1.25)\n",
    "    hm = sns.heatmap(cm, cbar=True, annot=True, square=True, fmt='.2f', annot_kws={'size': 10}, yticklabels=cols.values, xticklabels=cols.values)\n",
    "    plt.show()"
   ]
  },
  {
   "cell_type": "code",
   "execution_count": 5,
   "metadata": {},
   "outputs": [],
   "source": [
    "#define a cross validation calculator function\n",
    "def lets_cross_validate(classifier, feature_df, target, cv, scoring):\n",
    "    cv_score = cross_val_score(classifier, feature_df, target, cv=cv, scoring=scoring)\n",
    "    print('Accuracy Score of each fold')\n",
    "    print(cv_score)\n",
    "    print(\"Mean Accuracy Score - \" + '\\033[4m'+ str(cv_score.mean()) + '\\033[0m')\n",
    "    return cv_score, cv_score.mean()"
   ]
  },
  {
   "cell_type": "markdown",
   "metadata": {},
   "source": [
    "## Prepare Final Data"
   ]
  },
  {
   "cell_type": "code",
   "execution_count": 6,
   "metadata": {},
   "outputs": [],
   "source": [
    "#Prepare categorical inputs and target as binary columns and merge with numerical columns\n",
    "df_categorical = prepare_inputs(df[categorical])\n",
    "df_final = pd.merge(df[numeric],df_categorical, how = 'inner', left_index = True, right_index = True)"
   ]
  },
  {
   "cell_type": "markdown",
   "metadata": {},
   "source": [
    "###### Just a quick check on Multicollinearity"
   ]
  },
  {
   "cell_type": "code",
   "execution_count": 7,
   "metadata": {},
   "outputs": [
    {
     "data": {
      "image/png": "[encoded data removed]",
      "text/plain": [
       "<Figure size 1440x720 with 2 Axes>"
      ]
     },
     "metadata": {},
     "output_type": "display_data"
    }
   ],
   "source": [
    "'''We know that ensemble methods like decision tree or random forest are immune to multicollinearity. \n",
    "However, it is still a qood idea to check it to understand feature structure'''\n",
    "correlation_matrix_constructor(df_final, 'class')"
   ]
  },
  {
   "cell_type": "markdown",
   "metadata": {},
   "source": [
    "#### Split target variable"
   ]
  },
  {
   "cell_type": "code",
   "execution_count": 8,
   "metadata": {},
   "outputs": [],
   "source": [
    "#Lets shuffle our data\n",
    "df_final = df_final.sample(frac=1)\n",
    "#Create features dataframe and target array\n",
    "labels = df_final['class']\n",
    "df_final.drop('class', axis = 1, inplace = True)"
   ]
  },
  {
   "cell_type": "markdown",
   "metadata": {},
   "source": [
    "# Lets CrossValidate"
   ]
  },
  {
   "cell_type": "code",
   "execution_count": 9,
   "metadata": {},
   "outputs": [
    {
     "name": "stdout",
     "output_type": "stream",
     "text": [
      "\u001b[1mDecisionTreeClassifier\u001b[0m\n",
      "Accuracy Score of each fold\n",
      "[0.92366412 0.96183206 0.98461538]\n",
      "Mean Accuracy Score - \u001b[4m0.9567038559404972\u001b[0m\n",
      "\u001b[1mBaggingClassifier\u001b[0m\n",
      "Accuracy Score of each fold\n",
      "[0.96183206 0.96946565 0.99230769]\n",
      "Mean Accuracy Score - \u001b[4m0.9745351340771188\u001b[0m\n",
      "\u001b[1mRandomForestClassifier\u001b[0m\n",
      "Accuracy Score of each fold\n",
      "[0.96946565 0.97709924 1.        ]\n",
      "Mean Accuracy Score - \u001b[4m0.9821882951653943\u001b[0m\n",
      "\u001b[1mAdaBoostClassifier\u001b[0m\n",
      "Accuracy Score of each fold\n",
      "[1.         0.99236641 1.        ]\n",
      "Mean Accuracy Score - \u001b[4m0.9974554707379135\u001b[0m\n",
      "\u001b[1mGradientBoostingClassifier\u001b[0m\n",
      "Accuracy Score of each fold\n",
      "[0.95419847 0.96183206 1.        ]\n",
      "Mean Accuracy Score - \u001b[4m0.9720101781170484\u001b[0m\n"
     ]
    }
   ],
   "source": [
    "#define desired predictors\n",
    "clf = DecisionTreeClassifier()\n",
    "bgc = BaggingClassifier(base_estimator=clf, n_estimators=10, random_state=42)\n",
    "rfc = RandomForestClassifier(n_estimators=10, max_features=10)\n",
    "abc = AdaBoostClassifier(n_estimators=10, random_state=42)\n",
    "sgb = GradientBoostingClassifier(n_estimators=10, random_state=42)\n",
    "\n",
    "#predictors list\n",
    "classifier_list = [clf,bgc,rfc,abc,sgb]\n",
    "\n",
    "#Calculate mean cv scores and view accuracies for each fold\n",
    "classifier_name = []\n",
    "cv_score_list = []\n",
    "mean_cvs = []\n",
    "for i in classifier_list:\n",
    "    print('\\033[1m'+str(i)[0:str(i).find('(')]+'\\033[0m')\n",
    "    classifier_name.append(str(i)[0:str(i).find('(')])\n",
    "    cv_scores, mean_cv = lets_cross_validate(i, df_final, labels, cv = KFold(3), scoring = 'accuracy')\n",
    "    cv_score_list.append(cv_scores)\n",
    "    mean_cvs.append(mean_cv)"
   ]
  },
  {
   "cell_type": "code",
   "execution_count": 10,
   "metadata": {},
   "outputs": [
    {
     "data": {
      "text/plain": [
       "\"According to Prior cross validation results, because of its accuracy score and consistency; \\nWe pick RandomForestClassifier(because of high scores, it actually doesn't matter)\""
      ]
     },
     "execution_count": 10,
     "metadata": {},
     "output_type": "execute_result"
    }
   ],
   "source": [
    "'''According to Prior cross validation results, because of its accuracy score and consistency; \n",
    "We pick RandomForestClassifier(because of high scores, it actually doesn't matter)'''"
   ]
  },
  {
   "cell_type": "markdown",
   "metadata": {},
   "source": [
    "## Hyper Parameter Tuning"
   ]
  },
  {
   "cell_type": "code",
   "execution_count": 11,
   "metadata": {},
   "outputs": [
    {
     "data": {
      "text/plain": [
       "'To follow traditional train test split methodology, I used 0.30 test size, and the result is just perfect: 1.0 accuracy score.\\nAnd I just checked feature importances and everything looks normal.'"
      ]
     },
     "execution_count": 11,
     "metadata": {},
     "output_type": "execute_result"
    }
   ],
   "source": [
    "'''To follow traditional train test split methodology, I used 0.30 test size, and the result is just perfect: 1.0 accuracy score.\n",
    "And I just checked feature importances and everything looks normal.'''"
   ]
  },
  {
   "cell_type": "code",
   "execution_count": 12,
   "metadata": {
    "scrolled": false
   },
   "outputs": [
    {
     "name": "stdout",
     "output_type": "stream",
     "text": [
      "[[47  0]\n",
      " [ 0 71]]\n",
      "1.0\n"
     ]
    }
   ],
   "source": [
    "X_Train, X_Test, Y_Train, Y_Test = train_test_split(df_final, labels, test_size = 0.30, \n",
    "                                                    random_state = 101)\n",
    "\n",
    "model = RandomForestClassifier(random_state= 101).fit(X_Train,Y_Train)\n",
    "predictionforest = model.predict(X_Test)\n",
    "print(confusion_matrix(Y_Test,predictionforest))\n",
    "print(metrics.accuracy_score(Y_Test,predictionforest))"
   ]
  },
  {
   "cell_type": "code",
   "execution_count": 13,
   "metadata": {},
   "outputs": [
    {
     "data": {
      "text/html": [
       "<div>\n",
       "<style scoped>\n",
       "    .dataframe tbody tr th:only-of-type {\n",
       "        vertical-align: middle;\n",
       "    }\n",
       "\n",
       "    .dataframe tbody tr th {\n",
       "        vertical-align: top;\n",
       "    }\n",
       "\n",
       "    .dataframe thead th {\n",
       "        text-align: right;\n",
       "    }\n",
       "</style>\n",
       "<table border=\"1\" class=\"dataframe\">\n",
       "  <thead>\n",
       "    <tr style=\"text-align: right;\">\n",
       "      <th></th>\n",
       "      <th>importance</th>\n",
       "    </tr>\n",
       "  </thead>\n",
       "  <tbody>\n",
       "    <tr>\n",
       "      <th>sc</th>\n",
       "      <td>0.228615</td>\n",
       "    </tr>\n",
       "    <tr>\n",
       "      <th>hemo</th>\n",
       "      <td>0.201320</td>\n",
       "    </tr>\n",
       "    <tr>\n",
       "      <th>sg</th>\n",
       "      <td>0.129798</td>\n",
       "    </tr>\n",
       "    <tr>\n",
       "      <th>bu</th>\n",
       "      <td>0.099065</td>\n",
       "    </tr>\n",
       "    <tr>\n",
       "      <th>al</th>\n",
       "      <td>0.097061</td>\n",
       "    </tr>\n",
       "    <tr>\n",
       "      <th>pcv</th>\n",
       "      <td>0.085548</td>\n",
       "    </tr>\n",
       "    <tr>\n",
       "      <th>bp</th>\n",
       "      <td>0.054959</td>\n",
       "    </tr>\n",
       "    <tr>\n",
       "      <th>dm</th>\n",
       "      <td>0.026829</td>\n",
       "    </tr>\n",
       "    <tr>\n",
       "      <th>bgr</th>\n",
       "      <td>0.013102</td>\n",
       "    </tr>\n",
       "    <tr>\n",
       "      <th>sod</th>\n",
       "      <td>0.012224</td>\n",
       "    </tr>\n",
       "    <tr>\n",
       "      <th>pc</th>\n",
       "      <td>0.010500</td>\n",
       "    </tr>\n",
       "    <tr>\n",
       "      <th>age</th>\n",
       "      <td>0.010217</td>\n",
       "    </tr>\n",
       "    <tr>\n",
       "      <th>appet</th>\n",
       "      <td>0.007793</td>\n",
       "    </tr>\n",
       "    <tr>\n",
       "      <th>pot</th>\n",
       "      <td>0.007586</td>\n",
       "    </tr>\n",
       "    <tr>\n",
       "      <th>pe</th>\n",
       "      <td>0.007462</td>\n",
       "    </tr>\n",
       "    <tr>\n",
       "      <th>htn</th>\n",
       "      <td>0.002664</td>\n",
       "    </tr>\n",
       "    <tr>\n",
       "      <th>pcc</th>\n",
       "      <td>0.002336</td>\n",
       "    </tr>\n",
       "    <tr>\n",
       "      <th>su</th>\n",
       "      <td>0.001476</td>\n",
       "    </tr>\n",
       "    <tr>\n",
       "      <th>ba</th>\n",
       "      <td>0.001445</td>\n",
       "    </tr>\n",
       "    <tr>\n",
       "      <th>cad</th>\n",
       "      <td>0.000000</td>\n",
       "    </tr>\n",
       "    <tr>\n",
       "      <th>ane</th>\n",
       "      <td>0.000000</td>\n",
       "    </tr>\n",
       "  </tbody>\n",
       "</table>\n",
       "</div>"
      ],
      "text/plain": [
       "       importance\n",
       "sc       0.228615\n",
       "hemo     0.201320\n",
       "sg       0.129798\n",
       "bu       0.099065\n",
       "al       0.097061\n",
       "pcv      0.085548\n",
       "bp       0.054959\n",
       "dm       0.026829\n",
       "bgr      0.013102\n",
       "sod      0.012224\n",
       "pc       0.010500\n",
       "age      0.010217\n",
       "appet    0.007793\n",
       "pot      0.007586\n",
       "pe       0.007462\n",
       "htn      0.002664\n",
       "pcc      0.002336\n",
       "su       0.001476\n",
       "ba       0.001445\n",
       "cad      0.000000\n",
       "ane      0.000000"
      ]
     },
     "execution_count": 13,
     "metadata": {},
     "output_type": "execute_result"
    }
   ],
   "source": [
    "feature_importances = pd.DataFrame(model.feature_importances_, index = X_Train.columns, columns=['importance']).sort_values('importance', ascending=False)\n",
    "feature_importances.sort_values(by = 'importance', ascending = False)"
   ]
  },
  {
   "cell_type": "markdown",
   "metadata": {},
   "source": [
    "### Try again"
   ]
  },
  {
   "cell_type": "code",
   "execution_count": 14,
   "metadata": {},
   "outputs": [
    {
     "data": {
      "text/plain": [
       "'However just to implement a hypertuning methodology:\\nI changed my test size to 0.80. Which means my randomforest will be trained by using %20 of data, \\n                                                        and will be tested by using %80 of the data.\\n                                                        \\n In Conclusion, my random search worked and my accuracy score increased from 0.949044 to 0.958598'"
      ]
     },
     "execution_count": 14,
     "metadata": {},
     "output_type": "execute_result"
    }
   ],
   "source": [
    "'''However just to implement a hypertuning methodology:\n",
    "I changed my test size to 0.80. Which means my randomforest will be trained by using %20 of data, \n",
    "                                                        and will be tested by using %80 of the data.\n",
    "                                                        \n",
    " In Conclusion, my random search worked and my accuracy score increased from 0.949044 to 0.958598'''"
   ]
  },
  {
   "cell_type": "code",
   "execution_count": 15,
   "metadata": {
    "scrolled": true
   },
   "outputs": [
    {
     "name": "stdout",
     "output_type": "stream",
     "text": [
      "[[121   0]\n",
      " [ 16 177]]\n",
      "0.9490445859872612\n"
     ]
    }
   ],
   "source": [
    "X_Train, X_Test, Y_Train, Y_Test = train_test_split(df_final, labels, test_size = 0.80, \n",
    "                                                    random_state = 101)\n",
    "\n",
    "model = RandomForestClassifier(random_state= 101).fit(X_Train,Y_Train)\n",
    "predictionforest = model.predict(X_Test)\n",
    "print(confusion_matrix(Y_Test,predictionforest))\n",
    "print(metrics.accuracy_score(Y_Test,predictionforest))"
   ]
  },
  {
   "cell_type": "code",
   "execution_count": 16,
   "metadata": {},
   "outputs": [
    {
     "data": {
      "text/html": [
       "<div>\n",
       "<style scoped>\n",
       "    .dataframe tbody tr th:only-of-type {\n",
       "        vertical-align: middle;\n",
       "    }\n",
       "\n",
       "    .dataframe tbody tr th {\n",
       "        vertical-align: top;\n",
       "    }\n",
       "\n",
       "    .dataframe thead th {\n",
       "        text-align: right;\n",
       "    }\n",
       "</style>\n",
       "<table border=\"1\" class=\"dataframe\">\n",
       "  <thead>\n",
       "    <tr style=\"text-align: right;\">\n",
       "      <th></th>\n",
       "      <th>importance</th>\n",
       "    </tr>\n",
       "  </thead>\n",
       "  <tbody>\n",
       "    <tr>\n",
       "      <th>hemo</th>\n",
       "      <td>0.242008</td>\n",
       "    </tr>\n",
       "    <tr>\n",
       "      <th>sc</th>\n",
       "      <td>0.201796</td>\n",
       "    </tr>\n",
       "    <tr>\n",
       "      <th>al</th>\n",
       "      <td>0.133368</td>\n",
       "    </tr>\n",
       "    <tr>\n",
       "      <th>bu</th>\n",
       "      <td>0.130810</td>\n",
       "    </tr>\n",
       "    <tr>\n",
       "      <th>pcv</th>\n",
       "      <td>0.121358</td>\n",
       "    </tr>\n",
       "    <tr>\n",
       "      <th>bp</th>\n",
       "      <td>0.037239</td>\n",
       "    </tr>\n",
       "    <tr>\n",
       "      <th>sg</th>\n",
       "      <td>0.029558</td>\n",
       "    </tr>\n",
       "    <tr>\n",
       "      <th>age</th>\n",
       "      <td>0.023191</td>\n",
       "    </tr>\n",
       "    <tr>\n",
       "      <th>bgr</th>\n",
       "      <td>0.021987</td>\n",
       "    </tr>\n",
       "    <tr>\n",
       "      <th>sod</th>\n",
       "      <td>0.013371</td>\n",
       "    </tr>\n",
       "    <tr>\n",
       "      <th>pc</th>\n",
       "      <td>0.011325</td>\n",
       "    </tr>\n",
       "    <tr>\n",
       "      <th>htn</th>\n",
       "      <td>0.009848</td>\n",
       "    </tr>\n",
       "    <tr>\n",
       "      <th>pot</th>\n",
       "      <td>0.009286</td>\n",
       "    </tr>\n",
       "    <tr>\n",
       "      <th>pe</th>\n",
       "      <td>0.007047</td>\n",
       "    </tr>\n",
       "    <tr>\n",
       "      <th>su</th>\n",
       "      <td>0.005098</td>\n",
       "    </tr>\n",
       "    <tr>\n",
       "      <th>cad</th>\n",
       "      <td>0.002708</td>\n",
       "    </tr>\n",
       "    <tr>\n",
       "      <th>pcc</th>\n",
       "      <td>0.000000</td>\n",
       "    </tr>\n",
       "    <tr>\n",
       "      <th>ba</th>\n",
       "      <td>0.000000</td>\n",
       "    </tr>\n",
       "    <tr>\n",
       "      <th>dm</th>\n",
       "      <td>0.000000</td>\n",
       "    </tr>\n",
       "    <tr>\n",
       "      <th>appet</th>\n",
       "      <td>0.000000</td>\n",
       "    </tr>\n",
       "    <tr>\n",
       "      <th>ane</th>\n",
       "      <td>0.000000</td>\n",
       "    </tr>\n",
       "  </tbody>\n",
       "</table>\n",
       "</div>"
      ],
      "text/plain": [
       "       importance\n",
       "hemo     0.242008\n",
       "sc       0.201796\n",
       "al       0.133368\n",
       "bu       0.130810\n",
       "pcv      0.121358\n",
       "bp       0.037239\n",
       "sg       0.029558\n",
       "age      0.023191\n",
       "bgr      0.021987\n",
       "sod      0.013371\n",
       "pc       0.011325\n",
       "htn      0.009848\n",
       "pot      0.009286\n",
       "pe       0.007047\n",
       "su       0.005098\n",
       "cad      0.002708\n",
       "pcc      0.000000\n",
       "ba       0.000000\n",
       "dm       0.000000\n",
       "appet    0.000000\n",
       "ane      0.000000"
      ]
     },
     "execution_count": 16,
     "metadata": {},
     "output_type": "execute_result"
    }
   ],
   "source": [
    "feature_importances = pd.DataFrame(model.feature_importances_, index = X_Train.columns, columns=['importance']).sort_values('importance', ascending=False)\n",
    "feature_importances.sort_values(by = 'importance', ascending = False)"
   ]
  },
  {
   "cell_type": "markdown",
   "metadata": {},
   "source": [
    "## Random Search"
   ]
  },
  {
   "cell_type": "code",
   "execution_count": 18,
   "metadata": {},
   "outputs": [
    {
     "name": "stdout",
     "output_type": "stream",
     "text": [
      "Fitting 4 folds for each of 20 candidates, totalling 80 fits\n"
     ]
    },
    {
     "name": "stderr",
     "output_type": "stream",
     "text": [
      "[Parallel(n_jobs=-1)]: Done  10 tasks      | elapsed:    8.0s\n",
      "[Parallel(n_jobs=-1)]: Done  64 tasks      | elapsed:   10.1s\n"
     ]
    },
    {
     "name": "stdout",
     "output_type": "stream",
     "text": [
      "Random\n",
      "[[117   4]\n",
      " [ 12 181]]\n",
      "0.9490445859872612\n"
     ]
    },
    {
     "name": "stderr",
     "output_type": "stream",
     "text": [
      "[Parallel(n_jobs=-1)]: Done  80 out of  80 | elapsed:   10.5s finished\n"
     ]
    }
   ],
   "source": [
    "random_search = {'criterion': ['entropy', 'gini'],\n",
    "               'max_depth': list(np.linspace(5, 30, 5, dtype = int)) + [None],\n",
    "               'max_features': ['auto', 'sqrt','log2', None],\n",
    "               'min_samples_leaf': [4, 6, 8, 12],\n",
    "               'min_samples_split': [5, 7, 10, 14],\n",
    "               'n_estimators': list(np.linspace(5, 100, 5, dtype = int))}\n",
    "\n",
    "clf = RandomForestClassifier()\n",
    "model = RandomizedSearchCV(estimator = clf, param_distributions = random_search, n_iter = 20, \n",
    "                               cv = 4, verbose= 5, random_state= 101, n_jobs = -1)\n",
    "model.fit(X_Train,Y_Train)\n",
    "\n",
    "\n",
    "print(\"Random\")\n",
    "predictionforest = model.best_estimator_.predict(X_Test)\n",
    "print(confusion_matrix(Y_Test,predictionforest))\n",
    "print(metrics.accuracy_score(Y_Test,predictionforest))"
   ]
  },
  {
   "cell_type": "code",
   "execution_count": null,
   "metadata": {},
   "outputs": [],
   "source": []
  }
 ],
 "metadata": {
  "kernelspec": {
   "display_name": "Python 3",
   "language": "python",
   "name": "python3"
  },
  "language_info": {
   "codemirror_mode": {
    "name": "ipython",
    "version": 3
   },
   "file_extension": ".py",
   "mimetype": "text/x-python",
   "name": "python",
   "nbconvert_exporter": "python",
   "pygments_lexer": "ipython3",
   "version": "3.7.3"
  }
 },
 "nbformat": 4,
 "nbformat_minor": 2
}
