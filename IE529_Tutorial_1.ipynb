{
 "cells": [
  {
   "cell_type": "markdown",
   "metadata": {},
   "source": [
    "<center><img src=\"http://www.ozyegin.edu.tr/sites/default/files/upload/Basin/ou_logo_tr.jpg\"></center>\n",
    "\n",
    "<center><h1>Predictive Analytics (IE 529)</h1></center>\n",
    "<center><h2>Tutorial 1 (Working with Time Stamped Data)</h2></center>\n",
    "<center><h4>(I would like to thank Prof. Marcel Scharth for an earlier version of this tutorial.)</h4></center>\n",
    "<br>\n",
    "\n",
    "\n",
    "This guide explains the basics of working with dates and times in Python and pandas. \n",
    "\n",
    "<a class=\"buttom\" href=\"#Dates-and-Time-in-Python\">Dates and Time in Python</a> <br>\n",
    "<a class=\"buttom\" href=\"#Conversions-between-strings-and-datetime\">Conversions between strings and datetime</a> <br>\n",
    "<a class=\"buttom\" href=\"#Date-functionality-in-pandas\">Date functionality in pandas</a> <br>\n",
    "<a class=\"buttom\" href=\"#Periods\">Periods</a> <br>\n",
    "<a class=\"buttom\" href=\"#Reading-time-stamped-data\">Reading time stamped data</a> <br>\n",
    "<a class=\"buttom\" href=\"#Time-series-subsetting\">Time series subsetting</a> <br>\n",
    "<a class=\"buttom\" href=\"#Time-series-plot\">Time series plot</a> <br>\n",
    "\n",
    "This notebook assumes the following imports and settings."
   ]
  },
  {
   "cell_type": "code",
   "execution_count": 1,
   "metadata": {},
   "outputs": [],
   "source": [
    "%matplotlib inline\n",
    "import pandas as pd\n",
    "import numpy as np\n",
    "import matplotlib.pyplot as plt\n",
    "import seaborn as sns\n",
    "sns.set_context('notebook') \n",
    "sns.set_style('ticks')"
   ]
  },
  {
   "cell_type": "markdown",
   "metadata": {},
   "source": [
    "##Dates and Time in Python\n",
    "\n",
    "The [datetime](https://docs.python.org/3/library/datetime.html?highlight=datetime#module-datetime) module from the standard Python library provides the basic variable types and tools for date and time data. To get started, we retrieve the current date and time. "
   ]
  },
  {
   "cell_type": "code",
   "execution_count": 2,
   "metadata": {},
   "outputs": [
    {
     "data": {
      "text/plain": [
       "datetime.datetime(2020, 4, 3, 9, 20, 22, 916622)"
      ]
     },
     "execution_count": 2,
     "metadata": {},
     "output_type": "execute_result"
    }
   ],
   "source": [
    "from datetime import datetime\n",
    "now=datetime.now()\n",
    "now"
   ]
  },
  {
   "cell_type": "code",
   "execution_count": 3,
   "metadata": {},
   "outputs": [
    {
     "name": "stdout",
     "output_type": "stream",
     "text": [
      "2020-04-03 09:20:22.916622\n"
     ]
    }
   ],
   "source": [
    "print(now)"
   ]
  },
  {
   "cell_type": "markdown",
   "metadata": {},
   "source": [
    "The <TT>now</TT> variable that we created has a special data type which stores date and time down to microseconds."
   ]
  },
  {
   "cell_type": "code",
   "execution_count": 4,
   "metadata": {},
   "outputs": [
    {
     "data": {
      "text/plain": [
       "datetime.datetime"
      ]
     },
     "execution_count": 4,
     "metadata": {},
     "output_type": "execute_result"
    }
   ],
   "source": [
    "type(now)"
   ]
  },
  {
   "cell_type": "code",
   "execution_count": 5,
   "metadata": {},
   "outputs": [
    {
     "data": {
      "text/plain": [
       "(2020, 4, 3)"
      ]
     },
     "execution_count": 5,
     "metadata": {},
     "output_type": "execute_result"
    }
   ],
   "source": [
    "now.year, now.month, now.day"
   ]
  },
  {
   "cell_type": "markdown",
   "metadata": {},
   "source": [
    "An interesting feature of <TT>datetime</TT> objects is that we can perform operations with them."
   ]
  },
  {
   "cell_type": "code",
   "execution_count": 6,
   "metadata": {},
   "outputs": [
    {
     "data": {
      "text/plain": [
       "datetime.timedelta(days=368, seconds=64200)"
      ]
     },
     "execution_count": 6,
     "metadata": {},
     "output_type": "execute_result"
    }
   ],
   "source": [
    "delta=datetime(2020, 9, 15)-datetime(2019, 9, 12, 6, 10)\n",
    "delta"
   ]
  },
  {
   "cell_type": "code",
   "execution_count": 7,
   "metadata": {},
   "outputs": [
    {
     "data": {
      "text/plain": [
       "(368, 64200)"
      ]
     },
     "execution_count": 7,
     "metadata": {},
     "output_type": "execute_result"
    }
   ],
   "source": [
    "delta.days, delta.seconds"
   ]
  },
  {
   "cell_type": "markdown",
   "metadata": {},
   "source": [
    "Fow example, if we want to shift a date 5 days ahead, we can use:"
   ]
  },
  {
   "cell_type": "code",
   "execution_count": 8,
   "metadata": {},
   "outputs": [
    {
     "data": {
      "text/plain": [
       "datetime.datetime(2020, 10, 6, 0, 0)"
      ]
     },
     "execution_count": 8,
     "metadata": {},
     "output_type": "execute_result"
    }
   ],
   "source": [
    "from datetime import timedelta\n",
    "start=datetime(2020, 10, 1)\n",
    "start+timedelta(5)"
   ]
  },
  {
   "cell_type": "markdown",
   "metadata": {},
   "source": [
    "As a note, the <TT>datetime</TT> module also has separate <TT>date</TT>  and <TT>time</TT> objects. "
   ]
  },
  {
   "cell_type": "markdown",
   "metadata": {},
   "source": [
    "##Conversions between strings and datetime\n",
    "\n",
    "Datetime objects (and the pandas counterparts) have the <TT>strftime</TT> method, which allows us to convert them to a string according to our desired format. Refer to this [page](http://strftime.org/) for the available formatting options. "
   ]
  },
  {
   "cell_type": "code",
   "execution_count": 9,
   "metadata": {},
   "outputs": [
    {
     "data": {
      "text/plain": [
       "'2020-10-01'"
      ]
     },
     "execution_count": 9,
     "metadata": {},
     "output_type": "execute_result"
    }
   ],
   "source": [
    "stamp=datetime(2020,10,1)\n",
    "stamp.strftime('%Y-%m-%d')"
   ]
  },
  {
   "cell_type": "code",
   "execution_count": 10,
   "metadata": {},
   "outputs": [
    {
     "data": {
      "text/plain": [
       "'01/Oct/20'"
      ]
     },
     "execution_count": 10,
     "metadata": {},
     "output_type": "execute_result"
    }
   ],
   "source": [
    "stamp.strftime('%d/%b/%y')"
   ]
  },
  {
   "cell_type": "markdown",
   "metadata": {},
   "source": [
    "To convert strings to <TT>datatime</TT>, we can use the <TT>parse</TT> function, which infers almost any intelligible date format. Here is an example. "
   ]
  },
  {
   "cell_type": "code",
   "execution_count": 15,
   "metadata": {},
   "outputs": [
    {
     "data": {
      "text/plain": [
       "datetime.datetime(2020, 9, 15, 0, 0)"
      ]
     },
     "execution_count": 15,
     "metadata": {},
     "output_type": "execute_result"
    }
   ],
   "source": [
    "from dateutil.parser import parse\n",
    "parse('Sept 15th 2020')"
   ]
  },
  {
   "cell_type": "markdown",
   "metadata": {},
   "source": [
    "We just need to be careful with the fact that it assumes a US date format, unless we specify otherwise. "
   ]
  },
  {
   "cell_type": "code",
   "execution_count": 16,
   "metadata": {},
   "outputs": [
    {
     "name": "stdout",
     "output_type": "stream",
     "text": [
      "2020-01-10 00:00:00\n",
      "2020-10-01 00:00:00\n"
     ]
    }
   ],
   "source": [
    "print(parse('1/10/2020'))\n",
    "print(parse('1/10/2020', dayfirst=True))"
   ]
  },
  {
   "cell_type": "markdown",
   "metadata": {},
   "source": [
    "##Date functionality in pandas\n",
    "\n",
    "When dealing with multiple dates, we turn to pandas. "
   ]
  },
  {
   "cell_type": "code",
   "execution_count": 17,
   "metadata": {},
   "outputs": [
    {
     "data": {
      "text/plain": [
       "DatetimeIndex(['2020-10-10', '2020-10-11'], dtype='datetime64[ns]', freq=None)"
      ]
     },
     "execution_count": 17,
     "metadata": {},
     "output_type": "execute_result"
    }
   ],
   "source": [
    "dts=['10/10/2020','11/10/2020']\n",
    "dates=pd.to_datetime(dts, dayfirst=True)\n",
    "dates"
   ]
  },
  {
   "cell_type": "markdown",
   "metadata": {},
   "source": [
    "In pandas, a set of dates has the <TT>DatetimeIndex</TT> type. Each element of a <TT>DatetimeIndex</TT> has the <TT>TimeStamp</TT>, which for practical purposes is equivalent to <TT>datetime</TT>; we can use the two interchangeably. "
   ]
  },
  {
   "cell_type": "code",
   "execution_count": 18,
   "metadata": {},
   "outputs": [
    {
     "data": {
      "text/plain": [
       "Timestamp('2020-10-10 00:00:00')"
      ]
     },
     "execution_count": 18,
     "metadata": {},
     "output_type": "execute_result"
    }
   ],
   "source": [
    "dates[0]"
   ]
  },
  {
   "cell_type": "markdown",
   "metadata": {},
   "source": [
    "The pandas <TT>[date_range](http://pandas.pydata.org/pandas-docs/stable/generated/pandas.date_range.html)</TT> function allows us to generate a range of dates according to a specified frequency. "
   ]
  },
  {
   "cell_type": "code",
   "execution_count": 19,
   "metadata": {},
   "outputs": [
    {
     "name": "stdout",
     "output_type": "stream",
     "text": [
      "DatetimeIndex(['2019-04-24', '2019-04-25', '2019-04-26', '2019-04-27',\n",
      "               '2019-04-28', '2019-04-29'],\n",
      "              dtype='datetime64[ns]', freq='D')\n"
     ]
    }
   ],
   "source": [
    "dates=pd.date_range('24/Apr/2019', '29/Apr/2019')\n",
    "print(dates)"
   ]
  },
  {
   "cell_type": "markdown",
   "metadata": {},
   "source": [
    "To set the frequency, we can set the <TT>date</TT> option. For example, for a business daily frequency:"
   ]
  },
  {
   "cell_type": "code",
   "execution_count": 20,
   "metadata": {},
   "outputs": [
    {
     "name": "stdout",
     "output_type": "stream",
     "text": [
      "DatetimeIndex(['2019-04-24', '2019-04-25', '2019-04-26', '2019-04-29',\n",
      "               '2019-04-30'],\n",
      "              dtype='datetime64[ns]', freq='B')\n"
     ]
    }
   ],
   "source": [
    "dates=pd.date_range(start='24/Apr/2019', periods=5, freq='B')\n",
    "print(dates)"
   ]
  },
  {
   "cell_type": "markdown",
   "metadata": {},
   "source": [
    "Monthly frequency:"
   ]
  },
  {
   "cell_type": "code",
   "execution_count": 22,
   "metadata": {},
   "outputs": [
    {
     "name": "stdout",
     "output_type": "stream",
     "text": [
      "DatetimeIndex(['2019-04-30', '2019-05-31', '2019-06-30', '2019-07-31',\n",
      "               '2019-08-31'],\n",
      "              dtype='datetime64[ns]', freq='M')\n"
     ]
    }
   ],
   "source": [
    "dates=pd.date_range(start='24/Apr/2019', periods=5, freq='M')\n",
    "print(dates)"
   ]
  },
  {
   "cell_type": "markdown",
   "metadata": {},
   "source": [
    "The frequency option also accepts multiples:"
   ]
  },
  {
   "cell_type": "code",
   "execution_count": 25,
   "metadata": {},
   "outputs": [
    {
     "name": "stdout",
     "output_type": "stream",
     "text": [
      "DatetimeIndex(['2019-04-30', '2019-07-31', '2019-10-31', '2020-01-31',\n",
      "               '2020-04-30'],\n",
      "              dtype='datetime64[ns]', freq='3M')\n"
     ]
    }
   ],
   "source": [
    "dates=pd.date_range(start='24/Apr/2019', periods=5, freq='3M')\n",
    "print(dates)"
   ]
  },
  {
   "cell_type": "markdown",
   "metadata": {},
   "source": [
    "Refer to the [pandas documentation](http://pandas.pydata.org/pandas-docs/stable/timeseries.html#offset-aliases) for a list of available frequencies. "
   ]
  },
  {
   "cell_type": "markdown",
   "metadata": {},
   "source": [
    "##Periods\n",
    "\n",
    "A related object is the <TT>Period</TT>, which represents a timespan like months and quarters, rather a point in time as in <TT>TimeStamp</TT>. For example, the variable below represents the period between 1/10/2016 and 31/10/2016. "
   ]
  },
  {
   "cell_type": "code",
   "execution_count": 26,
   "metadata": {},
   "outputs": [
    {
     "data": {
      "text/plain": [
       "Period('2019-04', 'M')"
      ]
     },
     "execution_count": 26,
     "metadata": {},
     "output_type": "execute_result"
    }
   ],
   "source": [
    "month=pd.Period('Apr-2019', freq='M')\n",
    "month"
   ]
  },
  {
   "cell_type": "markdown",
   "metadata": {},
   "source": [
    "As with <TT>datetime</TT> and <TT>TimeStamp</TT> objects, we can perform operations with a <TT>Period</TT> object.  "
   ]
  },
  {
   "cell_type": "code",
   "execution_count": 27,
   "metadata": {},
   "outputs": [
    {
     "data": {
      "text/plain": [
       "Period('2019-05', 'M')"
      ]
     },
     "execution_count": 27,
     "metadata": {},
     "output_type": "execute_result"
    }
   ],
   "source": [
    "month+1 # from above"
   ]
  },
  {
   "cell_type": "markdown",
   "metadata": {},
   "source": [
    "The counterpart of the <TT>DatetimeIndex</TT> is the <TT>PeriodIndex</TT>."
   ]
  },
  {
   "cell_type": "code",
   "execution_count": 28,
   "metadata": {},
   "outputs": [
    {
     "data": {
      "text/plain": [
       "PeriodIndex(['2019Q1', '2019Q2', '2019Q3', '2019Q4'], dtype='period[Q-DEC]', freq='Q-DEC')"
      ]
     },
     "execution_count": 28,
     "metadata": {},
     "output_type": "execute_result"
    }
   ],
   "source": [
    "values=['2019Q1', '2019Q2', '2019Q3', '2019Q4']\n",
    "index=pd.PeriodIndex(values, freq='Q')\n",
    "index"
   ]
  },
  {
   "cell_type": "markdown",
   "metadata": {},
   "source": [
    "To generate a period range:"
   ]
  },
  {
   "cell_type": "code",
   "execution_count": 29,
   "metadata": {},
   "outputs": [
    {
     "data": {
      "text/plain": [
       "PeriodIndex(['2019Q1', '2019Q2', '2019Q3', '2019Q4', '2020Q1', '2020Q2',\n",
       "             '2020Q3', '2020Q4'],\n",
       "            dtype='period[Q-DEC]', freq='Q-DEC')"
      ]
     },
     "execution_count": 29,
     "metadata": {},
     "output_type": "execute_result"
    }
   ],
   "source": [
    "pd.period_range('2019Q1','2020Q4', freq='Q')"
   ]
  },
  {
   "cell_type": "markdown",
   "metadata": {},
   "source": [
    "Finally, we can convert timestamps to periods as follows. "
   ]
  },
  {
   "cell_type": "code",
   "execution_count": 30,
   "metadata": {},
   "outputs": [
    {
     "name": "stdout",
     "output_type": "stream",
     "text": [
      "DatetimeIndex(['2019-04-30', '2019-05-31', '2019-06-30', '2019-07-31',\n",
      "               '2019-08-31'],\n",
      "              dtype='datetime64[ns]', freq='M')\n"
     ]
    },
    {
     "data": {
      "text/plain": [
       "PeriodIndex(['2019-04', '2019-05', '2019-06', '2019-07', '2019-08'], dtype='period[M]', freq='M')"
      ]
     },
     "execution_count": 30,
     "metadata": {},
     "output_type": "execute_result"
    }
   ],
   "source": [
    "dates=pd.date_range(start='24/Apr/2019', periods=5, freq='M')\n",
    "print(dates)\n",
    "dates.to_period()"
   ]
  },
  {
   "cell_type": "markdown",
   "metadata": {
    "collapsed": true
   },
   "source": [
    "##Reading time stamped data\n",
    "\n",
    "Let us now work with data. For simplicity, our data will have only one column apart from the date. The same principles applies for working with data frames instead of a single series. \n",
    "\n",
    "The <TT>nswretail.csv</TT> file (available at LMS) contains monthly retail turnover figures for the state of NSW state of Australia. The retail turnover is defined as: \n",
    "\n",
    "<blockquote>\n",
    "Retail sales; wholesale sales; takings from repairs, meals and hiring of goods (except for rent, leasing and hiring of land and buildings);\n",
    "commissions from agency activity (e.g. commissions received from collecting dry cleaning, selling lottery tickets, etc.); and\n",
    "the goods and services tax.\n",
    "</blockquote>\n",
    "\n",
    "To read the data, we follow the usual procedure. If you open the data file in a text editor, you will see that it has two columns: <TT>Month</TT> and <TT>Turnover</TT>. In a time series context, we want to make the date the index of the <TT>DataFrame</TT> by specifying <TT>Month</TT> as the index via the <TT>index_col</TT> option. We set the <TT>parse_dates</TT> options as <TT>True</TT> so that pandas can automatically recognise the dates column and convert them to <TT>TimeStamp</TT> objects. "
   ]
  },
  {
   "cell_type": "code",
   "execution_count": 40,
   "metadata": {},
   "outputs": [
    {
     "data": {
      "text/html": [
       "<div>\n",
       "<style scoped>\n",
       "    .dataframe tbody tr th:only-of-type {\n",
       "        vertical-align: middle;\n",
       "    }\n",
       "\n",
       "    .dataframe tbody tr th {\n",
       "        vertical-align: top;\n",
       "    }\n",
       "\n",
       "    .dataframe thead th {\n",
       "        text-align: right;\n",
       "    }\n",
       "</style>\n",
       "<table border=\"1\" class=\"dataframe\">\n",
       "  <thead>\n",
       "    <tr style=\"text-align: right;\">\n",
       "      <th></th>\n",
       "      <th>Turnover</th>\n",
       "    </tr>\n",
       "    <tr>\n",
       "      <th>Month</th>\n",
       "      <th></th>\n",
       "    </tr>\n",
       "  </thead>\n",
       "  <tbody>\n",
       "    <tr>\n",
       "      <td>2018-10-01</td>\n",
       "      <td>8747.3</td>\n",
       "    </tr>\n",
       "    <tr>\n",
       "      <td>2018-11-01</td>\n",
       "      <td>9245.0</td>\n",
       "    </tr>\n",
       "    <tr>\n",
       "      <td>2018-12-01</td>\n",
       "      <td>11085.5</td>\n",
       "    </tr>\n",
       "    <tr>\n",
       "      <td>2019-01-01</td>\n",
       "      <td>8651.0</td>\n",
       "    </tr>\n",
       "    <tr>\n",
       "      <td>2019-02-01</td>\n",
       "      <td>7717.4</td>\n",
       "    </tr>\n",
       "  </tbody>\n",
       "</table>\n",
       "</div>"
      ],
      "text/plain": [
       "            Turnover\n",
       "Month               \n",
       "2018-10-01    8747.3\n",
       "2018-11-01    9245.0\n",
       "2018-12-01   11085.5\n",
       "2019-01-01    8651.0\n",
       "2019-02-01    7717.4"
      ]
     },
     "execution_count": 40,
     "metadata": {},
     "output_type": "execute_result"
    }
   ],
   "source": [
    "ts=pd.read_csv('nswretail.csv', index_col='Month', parse_dates=True)\n",
    "ts.tail() # tail gives the last 5 observations in the data"
   ]
  },
  {
   "cell_type": "code",
   "execution_count": 41,
   "metadata": {},
   "outputs": [
    {
     "data": {
      "text/plain": [
       "DatetimeIndex(['1982-04-01', '1982-05-01', '1982-06-01', '1982-07-01',\n",
       "               '1982-08-01', '1982-09-01', '1982-10-01', '1982-11-01',\n",
       "               '1982-12-01', '1983-01-01',\n",
       "               ...\n",
       "               '2018-05-01', '2018-06-01', '2018-07-01', '2018-08-01',\n",
       "               '2018-09-01', '2018-10-01', '2018-11-01', '2018-12-01',\n",
       "               '2019-01-01', '2019-02-01'],\n",
       "              dtype='datetime64[ns]', name='Month', length=443, freq=None)"
      ]
     },
     "execution_count": 41,
     "metadata": {},
     "output_type": "execute_result"
    }
   ],
   "source": [
    "ts.index"
   ]
  },
  {
   "cell_type": "markdown",
   "metadata": {},
   "source": [
    "We can see that pandas converted (say) \"Jun-2017\" in the text file to a full date, which by default is the first day of the month. Since we know these figures refer to the whole month, we want to convert the indexes from timestamps to periods:"
   ]
  },
  {
   "cell_type": "code",
   "execution_count": 42,
   "metadata": {},
   "outputs": [
    {
     "data": {
      "text/html": [
       "<div>\n",
       "<style scoped>\n",
       "    .dataframe tbody tr th:only-of-type {\n",
       "        vertical-align: middle;\n",
       "    }\n",
       "\n",
       "    .dataframe tbody tr th {\n",
       "        vertical-align: top;\n",
       "    }\n",
       "\n",
       "    .dataframe thead th {\n",
       "        text-align: right;\n",
       "    }\n",
       "</style>\n",
       "<table border=\"1\" class=\"dataframe\">\n",
       "  <thead>\n",
       "    <tr style=\"text-align: right;\">\n",
       "      <th></th>\n",
       "      <th>Turnover</th>\n",
       "    </tr>\n",
       "    <tr>\n",
       "      <th>Month</th>\n",
       "      <th></th>\n",
       "    </tr>\n",
       "  </thead>\n",
       "  <tbody>\n",
       "    <tr>\n",
       "      <td>2018-10</td>\n",
       "      <td>8747.3</td>\n",
       "    </tr>\n",
       "    <tr>\n",
       "      <td>2018-11</td>\n",
       "      <td>9245.0</td>\n",
       "    </tr>\n",
       "    <tr>\n",
       "      <td>2018-12</td>\n",
       "      <td>11085.5</td>\n",
       "    </tr>\n",
       "    <tr>\n",
       "      <td>2019-01</td>\n",
       "      <td>8651.0</td>\n",
       "    </tr>\n",
       "    <tr>\n",
       "      <td>2019-02</td>\n",
       "      <td>7717.4</td>\n",
       "    </tr>\n",
       "  </tbody>\n",
       "</table>\n",
       "</div>"
      ],
      "text/plain": [
       "         Turnover\n",
       "Month            \n",
       "2018-10    8747.3\n",
       "2018-11    9245.0\n",
       "2018-12   11085.5\n",
       "2019-01    8651.0\n",
       "2019-02    7717.4"
      ]
     },
     "execution_count": 42,
     "metadata": {},
     "output_type": "execute_result"
    }
   ],
   "source": [
    "ts.index=ts.index.to_period()\n",
    "ts.tail()"
   ]
  },
  {
   "cell_type": "markdown",
   "metadata": {},
   "source": [
    "##Subsetting a time series\n",
    "\n",
    "Selecting part of the time series works in an intuitive way."
   ]
  },
  {
   "cell_type": "code",
   "execution_count": 43,
   "metadata": {},
   "outputs": [
    {
     "data": {
      "text/html": [
       "<div>\n",
       "<style scoped>\n",
       "    .dataframe tbody tr th:only-of-type {\n",
       "        vertical-align: middle;\n",
       "    }\n",
       "\n",
       "    .dataframe tbody tr th {\n",
       "        vertical-align: top;\n",
       "    }\n",
       "\n",
       "    .dataframe thead th {\n",
       "        text-align: right;\n",
       "    }\n",
       "</style>\n",
       "<table border=\"1\" class=\"dataframe\">\n",
       "  <thead>\n",
       "    <tr style=\"text-align: right;\">\n",
       "      <th></th>\n",
       "      <th>Turnover</th>\n",
       "    </tr>\n",
       "    <tr>\n",
       "      <th>Month</th>\n",
       "      <th></th>\n",
       "    </tr>\n",
       "  </thead>\n",
       "  <tbody>\n",
       "    <tr>\n",
       "      <td>2017-02</td>\n",
       "      <td>7298.9</td>\n",
       "    </tr>\n",
       "    <tr>\n",
       "      <td>2017-03</td>\n",
       "      <td>8085.8</td>\n",
       "    </tr>\n",
       "    <tr>\n",
       "      <td>2017-04</td>\n",
       "      <td>7883.7</td>\n",
       "    </tr>\n",
       "    <tr>\n",
       "      <td>2017-05</td>\n",
       "      <td>8132.0</td>\n",
       "    </tr>\n",
       "    <tr>\n",
       "      <td>2017-06</td>\n",
       "      <td>8130.1</td>\n",
       "    </tr>\n",
       "  </tbody>\n",
       "</table>\n",
       "</div>"
      ],
      "text/plain": [
       "         Turnover\n",
       "Month            \n",
       "2017-02    7298.9\n",
       "2017-03    8085.8\n",
       "2017-04    7883.7\n",
       "2017-05    8132.0\n",
       "2017-06    8130.1"
      ]
     },
     "execution_count": 43,
     "metadata": {},
     "output_type": "execute_result"
    }
   ],
   "source": [
    "ts['Feb-2017':'Jun-2017']"
   ]
  },
  {
   "cell_type": "code",
   "execution_count": 44,
   "metadata": {},
   "outputs": [
    {
     "data": {
      "text/html": [
       "<div>\n",
       "<style scoped>\n",
       "    .dataframe tbody tr th:only-of-type {\n",
       "        vertical-align: middle;\n",
       "    }\n",
       "\n",
       "    .dataframe tbody tr th {\n",
       "        vertical-align: top;\n",
       "    }\n",
       "\n",
       "    .dataframe thead th {\n",
       "        text-align: right;\n",
       "    }\n",
       "</style>\n",
       "<table border=\"1\" class=\"dataframe\">\n",
       "  <thead>\n",
       "    <tr style=\"text-align: right;\">\n",
       "      <th></th>\n",
       "      <th>Turnover</th>\n",
       "    </tr>\n",
       "    <tr>\n",
       "      <th>Month</th>\n",
       "      <th></th>\n",
       "    </tr>\n",
       "  </thead>\n",
       "  <tbody>\n",
       "    <tr>\n",
       "      <td>2017-04</td>\n",
       "      <td>7883.7</td>\n",
       "    </tr>\n",
       "    <tr>\n",
       "      <td>2017-05</td>\n",
       "      <td>8132.0</td>\n",
       "    </tr>\n",
       "    <tr>\n",
       "      <td>2017-06</td>\n",
       "      <td>8130.1</td>\n",
       "    </tr>\n",
       "  </tbody>\n",
       "</table>\n",
       "</div>"
      ],
      "text/plain": [
       "         Turnover\n",
       "Month            \n",
       "2017-04    7883.7\n",
       "2017-05    8132.0\n",
       "2017-06    8130.1"
      ]
     },
     "execution_count": 44,
     "metadata": {},
     "output_type": "execute_result"
    }
   ],
   "source": [
    "ts['2017Q2']"
   ]
  },
  {
   "cell_type": "code",
   "execution_count": 45,
   "metadata": {},
   "outputs": [
    {
     "data": {
      "text/html": [
       "<div>\n",
       "<style scoped>\n",
       "    .dataframe tbody tr th:only-of-type {\n",
       "        vertical-align: middle;\n",
       "    }\n",
       "\n",
       "    .dataframe tbody tr th {\n",
       "        vertical-align: top;\n",
       "    }\n",
       "\n",
       "    .dataframe thead th {\n",
       "        text-align: right;\n",
       "    }\n",
       "</style>\n",
       "<table border=\"1\" class=\"dataframe\">\n",
       "  <thead>\n",
       "    <tr style=\"text-align: right;\">\n",
       "      <th></th>\n",
       "      <th>Turnover</th>\n",
       "    </tr>\n",
       "    <tr>\n",
       "      <th>Month</th>\n",
       "      <th></th>\n",
       "    </tr>\n",
       "  </thead>\n",
       "  <tbody>\n",
       "    <tr>\n",
       "      <td>2018-02</td>\n",
       "      <td>7527.1</td>\n",
       "    </tr>\n",
       "    <tr>\n",
       "      <td>2018-03</td>\n",
       "      <td>8436.2</td>\n",
       "    </tr>\n",
       "    <tr>\n",
       "      <td>2018-04</td>\n",
       "      <td>8041.3</td>\n",
       "    </tr>\n",
       "    <tr>\n",
       "      <td>2018-05</td>\n",
       "      <td>8438.3</td>\n",
       "    </tr>\n",
       "    <tr>\n",
       "      <td>2018-06</td>\n",
       "      <td>8354.4</td>\n",
       "    </tr>\n",
       "    <tr>\n",
       "      <td>2018-07</td>\n",
       "      <td>8304.6</td>\n",
       "    </tr>\n",
       "    <tr>\n",
       "      <td>2018-08</td>\n",
       "      <td>8474.8</td>\n",
       "    </tr>\n",
       "    <tr>\n",
       "      <td>2018-09</td>\n",
       "      <td>8387.7</td>\n",
       "    </tr>\n",
       "    <tr>\n",
       "      <td>2018-10</td>\n",
       "      <td>8747.3</td>\n",
       "    </tr>\n",
       "    <tr>\n",
       "      <td>2018-11</td>\n",
       "      <td>9245.0</td>\n",
       "    </tr>\n",
       "    <tr>\n",
       "      <td>2018-12</td>\n",
       "      <td>11085.5</td>\n",
       "    </tr>\n",
       "    <tr>\n",
       "      <td>2019-01</td>\n",
       "      <td>8651.0</td>\n",
       "    </tr>\n",
       "    <tr>\n",
       "      <td>2019-02</td>\n",
       "      <td>7717.4</td>\n",
       "    </tr>\n",
       "  </tbody>\n",
       "</table>\n",
       "</div>"
      ],
      "text/plain": [
       "         Turnover\n",
       "Month            \n",
       "2018-02    7527.1\n",
       "2018-03    8436.2\n",
       "2018-04    8041.3\n",
       "2018-05    8438.3\n",
       "2018-06    8354.4\n",
       "2018-07    8304.6\n",
       "2018-08    8474.8\n",
       "2018-09    8387.7\n",
       "2018-10    8747.3\n",
       "2018-11    9245.0\n",
       "2018-12   11085.5\n",
       "2019-01    8651.0\n",
       "2019-02    7717.4"
      ]
     },
     "execution_count": 45,
     "metadata": {},
     "output_type": "execute_result"
    }
   ],
   "source": [
    "ts['Feb2018':]"
   ]
  },
  {
   "cell_type": "markdown",
   "metadata": {},
   "source": [
    "##Time series plot\n",
    "\n",
    "Once we load the time series, the beginning of our analysis will always be to visualise the data. The simplest way to plot a time series is to use the pandas as follows. "
   ]
  },
  {
   "cell_type": "code",
   "execution_count": 46,
   "metadata": {},
   "outputs": [
    {
     "data": {
      "image/png": "[encoded data removed]",
      "text/plain": [
       "<Figure size 432x288 with 1 Axes>"
      ]
     },
     "metadata": {
      "needs_background": "light"
     },
     "output_type": "display_data"
    }
   ],
   "source": [
    "fig, ax = plt.subplots()\n",
    "ts['Jan2000':]['Turnover'].plot(color='blue')\n",
    "ax.set_xlabel('Year')\n",
    "ax.set_ylabel('Turnover')\n",
    "ax.set_title('Retail Turnover for NSW (2000-2019)')\n",
    "sns.despine()\n",
    "plt.show()"
   ]
  },
  {
   "cell_type": "markdown",
   "metadata": {},
   "source": [
    "Using standard fuctions for plotting runs into problems with the horizontal axis labels, which Matplotlib will not recognise. If we want a customised plot, we would need to set the labels manually as below. "
   ]
  },
  {
   "cell_type": "code",
   "execution_count": 47,
   "metadata": {
    "scrolled": true
   },
   "outputs": [
    {
     "data": {
      "image/png": "[encoded data removed]",
      "text/plain": [
       "<Figure size 432x288 with 1 Axes>"
      ]
     },
     "metadata": {
      "needs_background": "light"
     },
     "output_type": "display_data"
    }
   ],
   "source": [
    "ts_sub=ts['Jan2000':]\n",
    "fig, ax = plt.subplots()\n",
    "ax.plot(ts_sub['Turnover'].values, color='red')\n",
    "\n",
    "ax.set_xlim(0, len(ts_sub))\n",
    "\n",
    "indexes = np.arange(0, len(ts_sub), 18) # we will place ticks every 18 months, starting with the first observation \n",
    "ax.set_xticks(indexes)\n",
    "ax.set_xticklabels([ts_sub.index[i].strftime('%b-%y') for i in indexes], rotation='-90')\n",
    "\n",
    "indexes = np.arange(0, len(ts_sub), 6) # minor ticks\n",
    "ax.set_xticks(indexes, minor=True)\n",
    "\n",
    "ax.set_xlabel('Year')\n",
    "ax.set_ylabel('Turnover')\n",
    "ax.set_title('Retail Turnover for NSW (2000-2019)')\n",
    "\n",
    "plt.tight_layout()\n",
    "\n",
    "sns.despine()\n",
    "plt.show()"
   ]
  },
  {
   "cell_type": "code",
   "execution_count": null,
   "metadata": {},
   "outputs": [],
   "source": []
  }
 ],
 "metadata": {
  "kernelspec": {
   "display_name": "Python 3",
   "language": "python",
   "name": "python3"
  },
  "language_info": {
   "codemirror_mode": {
    "name": "ipython",
    "version": 3
   },
   "file_extension": ".py",
   "mimetype": "text/x-python",
   "name": "python",
   "nbconvert_exporter": "python",
   "pygments_lexer": "ipython3",
   "version": "3.7.4"
  }
 },
 "nbformat": 4,
 "nbformat_minor": 1
}
