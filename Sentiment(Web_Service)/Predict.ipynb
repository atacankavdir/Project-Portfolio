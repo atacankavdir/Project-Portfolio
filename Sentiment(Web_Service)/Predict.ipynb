{
 "cells": [
  {
   "cell_type": "code",
   "execution_count": 9,
   "metadata": {
    "ExecuteTime": {
     "end_time": "2021-05-08T18:18:51.393090Z",
     "start_time": "2021-05-08T18:18:51.371768Z"
    }
   },
   "outputs": [],
   "source": [
    "from sklearn.metrics import confusion_matrix \n",
    "from sklearn.model_selection import cross_val_score \n",
    "from sklearn.metrics import accuracy_score \n",
    "from sklearn.neural_network import MLPClassifier \n",
    "from sklearn.feature_extraction.text import TfidfTransformer\n",
    "from sklearn.feature_extraction.text import TfidfVectorizer \n",
    "from sklearn.linear_model import SGDClassifier \n",
    "import pandas as pd \n",
    "import numpy as np \n",
    "import pickle \n",
    "import os \n",
    "import io \n",
    "import re \n",
    "from sys import path \n",
    "import numpy as np \n",
    "import pickle \n",
    "from sklearn.feature_extraction.text import CountVectorizer \n",
    "from sklearn.naive_bayes import MultinomialNB \n",
    "from sklearn.model_selection import train_test_split \n",
    "from sklearn.preprocessing import LabelBinarizer \n",
    "import matplotlib.pyplot as plt \n",
    "from string import punctuation, digits \n",
    "from IPython. core.display import display, HTML \n",
    "from nltk.corpus import stopwords \n",
    "from nltk. tokenize import word_tokenize \n",
    "from nltk.tokenize import RegexpTokenizer "
   ]
  },
  {
   "cell_type": "code",
   "execution_count": 11,
   "metadata": {
    "ExecuteTime": {
     "end_time": "2021-05-08T18:19:11.004862Z",
     "start_time": "2021-05-08T18:19:10.965107Z"
    }
   },
   "outputs": [],
   "source": [
    "vec = open(\"model_sentiment.pkl\", \"rb\")\n",
    "loaded_model=pickle.load(vec)\n",
    "\n",
    "\n",
    "vec = open(\"vocab_sentiment.pkl\", \"rb\")\n",
    "loaded_vocab=pickle.load(vec)"
   ]
  },
  {
   "cell_type": "code",
   "execution_count": 25,
   "metadata": {
    "ExecuteTime": {
     "end_time": "2021-05-08T18:24:36.678329Z",
     "start_time": "2021-05-08T18:24:36.673785Z"
    }
   },
   "outputs": [],
   "source": [
    "example = 'whatever you do is good'"
   ]
  },
  {
   "cell_type": "code",
   "execution_count": 26,
   "metadata": {
    "ExecuteTime": {
     "end_time": "2021-05-08T18:24:36.813228Z",
     "start_time": "2021-05-08T18:24:36.791860Z"
    }
   },
   "outputs": [],
   "source": [
    "#lower string \n",
    "example = example.lower() \n",
    "\n",
    "#remove numbers\n",
    "example =example.replace('\\n', ' ') \n",
    "\n",
    "#remove email adress\n",
    "example =re.sub('[a-zA-z0-9_.]+@[a-zA-Z0-9-_.]+', ' ', example) \n",
    "\n",
    "#removeIP address \n",
    "example =re.sub('((25[0-5]|2[0-4][0-9]|[01]?[0-9][0-9]?)(\\.|$)){4}', ' ', example) \n",
    "\n",
    "#remove punctaitions and special chracters \n",
    "example =re.sub('[^\\W\\S]', ' ', example) \n",
    "\n",
    "#remove numbers\n",
    "example =re.sub('\\d', ' ', example) \n",
    "\n",
    "examples = [example]\n",
    "\n",
    "count_vect = TfidfVectorizer(\n",
    "    analyzer = 'word', \n",
    "    ngram_range = (1,2),\n",
    "    max_features = 50000,\n",
    "    max_df= 0.6,\n",
    "    use_idf = True,\n",
    "    norm = 'l2', \n",
    "    vocabulary = loaded_vocab\n",
    ")\n",
    "\n",
    "x_count = count_vect.fit_transform(examples)\n",
    "\n",
    "predicted = loaded_model.predict(x_count)\n",
    "\n",
    "if predicted == 1:\n",
    "    print('Positive')\n",
    "else:\n",
    "    print('Negative')"
   ]
  },
  {
   "cell_type": "code",
   "execution_count": null,
   "metadata": {},
   "outputs": [],
   "source": []
  }
 ],
 "metadata": {
  "kernelspec": {
   "display_name": "Python 3",
   "language": "python",
   "name": "python3"
  },
  "language_info": {
   "codemirror_mode": {
    "name": "ipython",
    "version": 3
   },
   "file_extension": ".py",
   "mimetype": "text/x-python",
   "name": "python",
   "nbconvert_exporter": "python",
   "pygments_lexer": "ipython3",
   "version": "3.8.3"
  },
  "toc": {
   "base_numbering": 1,
   "nav_menu": {},
   "number_sections": true,
   "sideBar": true,
   "skip_h1_title": false,
   "title_cell": "Table of Contents",
   "title_sidebar": "Contents",
   "toc_cell": false,
   "toc_position": {},
   "toc_section_display": true,
   "toc_window_display": false
  }
 },
 "nbformat": 4,
 "nbformat_minor": 4
}
